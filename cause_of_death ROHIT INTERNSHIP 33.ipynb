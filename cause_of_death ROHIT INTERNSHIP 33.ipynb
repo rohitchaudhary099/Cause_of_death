{
 "cells": [
  {
   "cell_type": "code",
   "execution_count": 1,
   "metadata": {},
   "outputs": [],
   "source": [
    "#Import dependencies\n",
    "%matplotlib inline\n",
    "import requests\n",
    "import json\n",
    "import csv\n",
    "import pandas as pd\n",
    "import numpy as np\n",
    "from pprint import pprint\n",
    "import matplotlib.pyplot as plt\n",
    "import seaborn as sns"
   ]
  },
  {
   "cell_type": "code",
   "execution_count": 2,
   "metadata": {},
   "outputs": [
    {
     "data": {
      "text/html": [
       "<div>\n",
       "<style scoped>\n",
       "    .dataframe tbody tr th:only-of-type {\n",
       "        vertical-align: middle;\n",
       "    }\n",
       "\n",
       "    .dataframe tbody tr th {\n",
       "        vertical-align: top;\n",
       "    }\n",
       "\n",
       "    .dataframe thead th {\n",
       "        text-align: right;\n",
       "    }\n",
       "</style>\n",
       "<table border=\"1\" class=\"dataframe\">\n",
       "  <thead>\n",
       "    <tr style=\"text-align: right;\">\n",
       "      <th></th>\n",
       "      <th>Year</th>\n",
       "      <th>113 Cause Name</th>\n",
       "      <th>Cause Name</th>\n",
       "      <th>State</th>\n",
       "      <th>Deaths</th>\n",
       "      <th>Age-adjusted Death Rate</th>\n",
       "    </tr>\n",
       "  </thead>\n",
       "  <tbody>\n",
       "    <tr>\n",
       "      <th>0</th>\n",
       "      <td>2012</td>\n",
       "      <td>Nephritis, nephrotic syndrome and nephrosis (N...</td>\n",
       "      <td>Kidney disease</td>\n",
       "      <td>Vermont</td>\n",
       "      <td>21</td>\n",
       "      <td>2.6</td>\n",
       "    </tr>\n",
       "    <tr>\n",
       "      <th>1</th>\n",
       "      <td>2016</td>\n",
       "      <td>Nephritis, nephrotic syndrome and nephrosis (N...</td>\n",
       "      <td>Kidney disease</td>\n",
       "      <td>Vermont</td>\n",
       "      <td>30</td>\n",
       "      <td>3.7</td>\n",
       "    </tr>\n",
       "    <tr>\n",
       "      <th>2</th>\n",
       "      <td>2013</td>\n",
       "      <td>Nephritis, nephrotic syndrome and nephrosis (N...</td>\n",
       "      <td>Kidney disease</td>\n",
       "      <td>Vermont</td>\n",
       "      <td>30</td>\n",
       "      <td>3.8</td>\n",
       "    </tr>\n",
       "    <tr>\n",
       "      <th>3</th>\n",
       "      <td>2000</td>\n",
       "      <td>Intentional self-harm (suicide) (*U03,X60-X84,...</td>\n",
       "      <td>Suicide</td>\n",
       "      <td>District of Columbia</td>\n",
       "      <td>23</td>\n",
       "      <td>3.8</td>\n",
       "    </tr>\n",
       "    <tr>\n",
       "      <th>4</th>\n",
       "      <td>2014</td>\n",
       "      <td>Nephritis, nephrotic syndrome and nephrosis (N...</td>\n",
       "      <td>Kidney disease</td>\n",
       "      <td>Arizona</td>\n",
       "      <td>325</td>\n",
       "      <td>4.1</td>\n",
       "    </tr>\n",
       "  </tbody>\n",
       "</table>\n",
       "</div>"
      ],
      "text/plain": [
       "   Year                                     113 Cause Name      Cause Name  \\\n",
       "0  2012  Nephritis, nephrotic syndrome and nephrosis (N...  Kidney disease   \n",
       "1  2016  Nephritis, nephrotic syndrome and nephrosis (N...  Kidney disease   \n",
       "2  2013  Nephritis, nephrotic syndrome and nephrosis (N...  Kidney disease   \n",
       "3  2000  Intentional self-harm (suicide) (*U03,X60-X84,...         Suicide   \n",
       "4  2014  Nephritis, nephrotic syndrome and nephrosis (N...  Kidney disease   \n",
       "\n",
       "                  State  Deaths  Age-adjusted Death Rate  \n",
       "0               Vermont      21                      2.6  \n",
       "1               Vermont      30                      3.7  \n",
       "2               Vermont      30                      3.8  \n",
       "3  District of Columbia      23                      3.8  \n",
       "4               Arizona     325                      4.1  "
      ]
     },
     "execution_count": 2,
     "metadata": {},
     "output_type": "execute_result"
    }
   ],
   "source": [
    "deathdata = \"Data/leading_causes.csv\"\n",
    "deathdata1 = pd.read_csv(deathdata)\n",
    "deathdata1.head()\n"
   ]
  },
  {
   "cell_type": "code",
   "execution_count": 3,
   "metadata": {},
   "outputs": [
    {
     "data": {
      "text/html": [
       "<div>\n",
       "<style scoped>\n",
       "    .dataframe tbody tr th:only-of-type {\n",
       "        vertical-align: middle;\n",
       "    }\n",
       "\n",
       "    .dataframe tbody tr th {\n",
       "        vertical-align: top;\n",
       "    }\n",
       "\n",
       "    .dataframe thead th {\n",
       "        text-align: right;\n",
       "    }\n",
       "</style>\n",
       "<table border=\"1\" class=\"dataframe\">\n",
       "  <thead>\n",
       "    <tr style=\"text-align: right;\">\n",
       "      <th></th>\n",
       "      <th>Year</th>\n",
       "      <th>113 Cause Name</th>\n",
       "      <th>Cause Name</th>\n",
       "      <th>State</th>\n",
       "      <th>Deaths</th>\n",
       "      <th>Age-adjusted Death Rate</th>\n",
       "    </tr>\n",
       "  </thead>\n",
       "  <tbody>\n",
       "    <tr>\n",
       "      <th>10295</th>\n",
       "      <td>1999</td>\n",
       "      <td>All Causes</td>\n",
       "      <td>All causes</td>\n",
       "      <td>District of Columbia</td>\n",
       "      <td>6076</td>\n",
       "      <td>1087.3</td>\n",
       "    </tr>\n",
       "    <tr>\n",
       "      <th>1911</th>\n",
       "      <td>1999</td>\n",
       "      <td>Alzheimer's disease (G30)</td>\n",
       "      <td>Alzheimer's disease</td>\n",
       "      <td>Massachusetts</td>\n",
       "      <td>1182</td>\n",
       "      <td>16.5</td>\n",
       "    </tr>\n",
       "    <tr>\n",
       "      <th>6407</th>\n",
       "      <td>1999</td>\n",
       "      <td>Chronic lower respiratory diseases (J40-J47)</td>\n",
       "      <td>CLRD</td>\n",
       "      <td>Iowa</td>\n",
       "      <td>1643</td>\n",
       "      <td>46.8</td>\n",
       "    </tr>\n",
       "    <tr>\n",
       "      <th>1906</th>\n",
       "      <td>1999</td>\n",
       "      <td>Nephritis, nephrotic syndrome and nephrosis (N...</td>\n",
       "      <td>Kidney disease</td>\n",
       "      <td>West Virginia</td>\n",
       "      <td>345</td>\n",
       "      <td>16.4</td>\n",
       "    </tr>\n",
       "    <tr>\n",
       "      <th>8906</th>\n",
       "      <td>1999</td>\n",
       "      <td>Malignant neoplasms (C00-C97)</td>\n",
       "      <td>Cancer</td>\n",
       "      <td>North Carolina</td>\n",
       "      <td>15815</td>\n",
       "      <td>207.1</td>\n",
       "    </tr>\n",
       "  </tbody>\n",
       "</table>\n",
       "</div>"
      ],
      "text/plain": [
       "       Year                                     113 Cause Name  \\\n",
       "10295  1999                                         All Causes   \n",
       "1911   1999                          Alzheimer's disease (G30)   \n",
       "6407   1999       Chronic lower respiratory diseases (J40-J47)   \n",
       "1906   1999  Nephritis, nephrotic syndrome and nephrosis (N...   \n",
       "8906   1999                      Malignant neoplasms (C00-C97)   \n",
       "\n",
       "                Cause Name                 State  Deaths  \\\n",
       "10295           All causes  District of Columbia    6076   \n",
       "1911   Alzheimer's disease         Massachusetts    1182   \n",
       "6407                  CLRD                  Iowa    1643   \n",
       "1906        Kidney disease         West Virginia     345   \n",
       "8906                Cancer        North Carolina   15815   \n",
       "\n",
       "       Age-adjusted Death Rate  \n",
       "10295                   1087.3  \n",
       "1911                      16.5  \n",
       "6407                      46.8  \n",
       "1906                      16.4  \n",
       "8906                     207.1  "
      ]
     },
     "execution_count": 3,
     "metadata": {},
     "output_type": "execute_result"
    }
   ],
   "source": [
    "deathdata1 = deathdata1.sort_values(['Year'], ascending=[True])\n",
    "deathdata1.head()"
   ]
  },
  {
   "cell_type": "code",
   "execution_count": 4,
   "metadata": {},
   "outputs": [
    {
     "data": {
      "text/plain": [
       "array(['All causes', \"Alzheimer's disease\", 'CLRD', 'Kidney disease',\n",
       "       'Cancer', 'Unintentional injuries', 'Diabetes', 'Stroke',\n",
       "       'Influenza and pneumonia', 'Suicide', 'Heart disease'],\n",
       "      dtype=object)"
      ]
     },
     "execution_count": 4,
     "metadata": {},
     "output_type": "execute_result"
    }
   ],
   "source": [
    "deathdata1[\"Cause Name\"].unique()"
   ]
  },
  {
   "cell_type": "code",
   "execution_count": 5,
   "metadata": {},
   "outputs": [
    {
     "data": {
      "text/plain": [
       "Cancer                     936\n",
       "Alzheimer's disease        936\n",
       "CLRD                       936\n",
       "Stroke                     936\n",
       "Suicide                    936\n",
       "Unintentional injuries     936\n",
       "All causes                 936\n",
       "Influenza and pneumonia    936\n",
       "Heart disease              936\n",
       "Kidney disease             936\n",
       "Diabetes                   936\n",
       "Name: Cause Name, dtype: int64"
      ]
     },
     "execution_count": 5,
     "metadata": {},
     "output_type": "execute_result"
    }
   ],
   "source": [
    "deathdata1[\"Cause Name\"].value_counts()"
   ]
  },
  {
   "cell_type": "code",
   "execution_count": 6,
   "metadata": {},
   "outputs": [
    {
     "data": {
      "text/html": [
       "<div>\n",
       "<style scoped>\n",
       "    .dataframe tbody tr th:only-of-type {\n",
       "        vertical-align: middle;\n",
       "    }\n",
       "\n",
       "    .dataframe tbody tr th {\n",
       "        vertical-align: top;\n",
       "    }\n",
       "\n",
       "    .dataframe thead th {\n",
       "        text-align: right;\n",
       "    }\n",
       "</style>\n",
       "<table border=\"1\" class=\"dataframe\">\n",
       "  <thead>\n",
       "    <tr style=\"text-align: right;\">\n",
       "      <th></th>\n",
       "      <th>Deaths</th>\n",
       "    </tr>\n",
       "    <tr>\n",
       "      <th>State</th>\n",
       "      <th></th>\n",
       "    </tr>\n",
       "  </thead>\n",
       "  <tbody>\n",
       "    <tr>\n",
       "      <th>Alabama</th>\n",
       "      <td>1510931</td>\n",
       "    </tr>\n",
       "    <tr>\n",
       "      <th>Alaska</th>\n",
       "      <td>110361</td>\n",
       "    </tr>\n",
       "    <tr>\n",
       "      <th>Arizona</th>\n",
       "      <td>1471757</td>\n",
       "    </tr>\n",
       "    <tr>\n",
       "      <th>Arkansas</th>\n",
       "      <td>929634</td>\n",
       "    </tr>\n",
       "    <tr>\n",
       "      <th>California</th>\n",
       "      <td>7694563</td>\n",
       "    </tr>\n",
       "  </tbody>\n",
       "</table>\n",
       "</div>"
      ],
      "text/plain": [
       "             Deaths\n",
       "State              \n",
       "Alabama     1510931\n",
       "Alaska       110361\n",
       "Arizona     1471757\n",
       "Arkansas     929634\n",
       "California  7694563"
      ]
     },
     "execution_count": 6,
     "metadata": {},
     "output_type": "execute_result"
    }
   ],
   "source": [
    "states = deathdata1.groupby('State')['Deaths'].sum()\n",
    "states = pd.DataFrame(states)\n",
    "states.head()"
   ]
  },
  {
   "cell_type": "code",
   "execution_count": 7,
   "metadata": {},
   "outputs": [],
   "source": [
    "import matplotlib.pyplot as plt"
   ]
  },
  {
   "cell_type": "code",
   "execution_count": 8,
   "metadata": {},
   "outputs": [
    {
     "data": {
      "text/html": [
       "<div>\n",
       "<style scoped>\n",
       "    .dataframe tbody tr th:only-of-type {\n",
       "        vertical-align: middle;\n",
       "    }\n",
       "\n",
       "    .dataframe tbody tr th {\n",
       "        vertical-align: top;\n",
       "    }\n",
       "\n",
       "    .dataframe thead th {\n",
       "        text-align: right;\n",
       "    }\n",
       "</style>\n",
       "<table border=\"1\" class=\"dataframe\">\n",
       "  <thead>\n",
       "    <tr style=\"text-align: right;\">\n",
       "      <th></th>\n",
       "      <th>Deaths</th>\n",
       "    </tr>\n",
       "    <tr>\n",
       "      <th>State</th>\n",
       "      <th></th>\n",
       "    </tr>\n",
       "  </thead>\n",
       "  <tbody>\n",
       "    <tr>\n",
       "      <th>Alabama</th>\n",
       "      <td>1510931</td>\n",
       "    </tr>\n",
       "    <tr>\n",
       "      <th>Alaska</th>\n",
       "      <td>110361</td>\n",
       "    </tr>\n",
       "    <tr>\n",
       "      <th>Arizona</th>\n",
       "      <td>1471757</td>\n",
       "    </tr>\n",
       "    <tr>\n",
       "      <th>Arkansas</th>\n",
       "      <td>929634</td>\n",
       "    </tr>\n",
       "    <tr>\n",
       "      <th>California</th>\n",
       "      <td>7694563</td>\n",
       "    </tr>\n",
       "  </tbody>\n",
       "</table>\n",
       "</div>"
      ],
      "text/plain": [
       "             Deaths\n",
       "State              \n",
       "Alabama     1510931\n",
       "Alaska       110361\n",
       "Arizona     1471757\n",
       "Arkansas     929634\n",
       "California  7694563"
      ]
     },
     "execution_count": 8,
     "metadata": {},
     "output_type": "execute_result"
    }
   ],
   "source": [
    "states.head()"
   ]
  },
  {
   "cell_type": "code",
   "execution_count": 9,
   "metadata": {},
   "outputs": [],
   "source": [
    "#Filtering data by state\n",
    "alabama= deathdata1.loc[deathdata1[\"State\"]==\"Alabama\",:]\n",
    "alaska = deathdata1.loc[deathdata1[\"State\"]==\"Alaska\",:]\n",
    "arizona= deathdata1.loc[deathdata1[\"State\"]==\"Arizona\",:]\n",
    "arkansas= deathdata1.loc[deathdata1[\"State\"]==\"Arkansas\",:]\n",
    "california= deathdata1.loc[deathdata1[\"State\"]==\"California\",:]\n",
    "colorado= deathdata1.loc[deathdata1[\"State\"]==\"Colorado\",:]\n",
    "connecticut= deathdata1.loc[deathdata1[\"State\"]==\"Connecticut\",:]\n",
    "delaware= deathdata1.loc[deathdata1[\"State\"]==\"Delaware\",:]\n",
    "florida= deathdata1.loc[deathdata1[\"State\"]==\"Florida\",:]\n",
    "georgia= deathdata1.loc[deathdata1[\"State\"]==\"Georgia\",:]\n",
    "hawaii= deathdata1.loc[deathdata1[\"State\"]==\"Hawaii\",:]\n",
    "idaho= deathdata1.loc[deathdata1[\"State\"]==\"Idaho\",:]\n",
    "illinois= deathdata1.loc[deathdata1[\"State\"]==\"Illinois\",:]\n",
    "indiana= deathdata1.loc[deathdata1[\"State\"]==\"Indiana\",:]\n",
    "iowa= deathdata1.loc[deathdata1[\"State\"]==\"Iowa\",:]\n",
    "kansas= deathdata1.loc[deathdata1[\"State\"]==\"Kansas\",:]\n",
    "kentucky= deathdata1.loc[deathdata1[\"State\"]==\"Kentucky\",:]\n",
    "louisiana= deathdata1.loc[deathdata1[\"State\"]==\"Louisiana\",:]\n",
    "maine= deathdata1.loc[deathdata1[\"State\"]==\"Maine\",:]\n",
    "maryland= deathdata1.loc[deathdata1[\"State\"]==\"Maryland\",:]\n",
    "massachusetts= deathdata1.loc[deathdata1[\"State\"]==\"Massachusetts\",:]\n",
    "michigan= deathdata1.loc[deathdata1[\"State\"]==\"Michigan\",:]\n",
    "minnesota=deathdata1.loc[deathdata1[\"State\"]==\"Minnesota\",:]\n",
    "mississippi=deathdata1.loc[deathdata1[\"State\"]==\"Mississippi\",:]\n",
    "missouri=deathdata1.loc[deathdata1[\"State\"]==\"Missouri\",:]\n",
    "montana=deathdata1.loc[deathdata1[\"State\"]==\"Montana\",:]\n",
    "nebraska=deathdata1.loc[deathdata1[\"State\"]==\"Nebraska\",:]\n",
    "nevada=deathdata1.loc[deathdata1[\"State\"]==\"Nevada\",:]\n",
    "new_hampshire=deathdata1.loc[deathdata1[\"State\"]==\"New Hampshire\",:]\n",
    "new_jersey=deathdata1.loc[deathdata1[\"State\"]==\"New Jersey\",:]\n",
    "new_mexico=deathdata1.loc[deathdata1[\"State\"]==\"New Mexico\",:]\n",
    "new_york=deathdata1.loc[deathdata1[\"State\"]==\"New York\",:]\n",
    "north_carolina=deathdata1.loc[deathdata1[\"State\"]==\"North Carolina\",:]\n",
    "north_dakota=deathdata1.loc[deathdata1[\"State\"]==\"North Dakota\",:]\n",
    "ohio=deathdata1.loc[deathdata1[\"State\"]==\"Ohio\",:]\n",
    "oklahoma=deathdata1.loc[deathdata1[\"State\"]==\"Oklahoma\",:]\n",
    "oregon=deathdata1.loc[deathdata1[\"State\"]==\"Oregon\",:]\n",
    "pennsylvania=deathdata1.loc[deathdata1[\"State\"]==\"Pennsylvania\",:]\n",
    "rhode_island=deathdata1.loc[deathdata1[\"State\"]==\"Rhode Island\",:]\n",
    "south_carolina=deathdata1.loc[deathdata1[\"State\"]==\"South Carolina\",:]\n",
    "south_dakota=deathdata1.loc[deathdata1[\"State\"]==\"South Dakota\",:]\n",
    "tennessee=deathdata1.loc[deathdata1[\"State\"]==\"Tennessee\",:]\n",
    "texas=deathdata1.loc[deathdata1[\"State\"]==\"Texas\",:]\n",
    "utah=deathdata1.loc[deathdata1[\"State\"]==\"Utah\",:]\n",
    "vermont=deathdata1.loc[deathdata1[\"State\"]==\"Vermont\",:]\n",
    "virginia=deathdata1.loc[deathdata1[\"State\"]==\"Virginia\",:]\n",
    "washington=deathdata1.loc[deathdata1[\"State\"]==\"Washington\",:]\n",
    "west_virginia=deathdata1.loc[deathdata1[\"State\"]==\"West Virginia\",:]\n",
    "wisconsin=deathdata1.loc[deathdata1[\"State\"]==\"Wisconsin\",:]\n",
    "wyoming=deathdata1.loc[deathdata1[\"State\"]==\"Wyoming\",:]\n",
    "united_states=deathdata1.loc[deathdata1[\"State\"]==\"United States\",:]\n"
   ]
  },
  {
   "cell_type": "code",
   "execution_count": 10,
   "metadata": {},
   "outputs": [
    {
     "data": {
      "text/html": [
       "<div>\n",
       "<style scoped>\n",
       "    .dataframe tbody tr th:only-of-type {\n",
       "        vertical-align: middle;\n",
       "    }\n",
       "\n",
       "    .dataframe tbody tr th {\n",
       "        vertical-align: top;\n",
       "    }\n",
       "\n",
       "    .dataframe thead th {\n",
       "        text-align: right;\n",
       "    }\n",
       "</style>\n",
       "<table border=\"1\" class=\"dataframe\">\n",
       "  <thead>\n",
       "    <tr style=\"text-align: right;\">\n",
       "      <th></th>\n",
       "      <th>Year</th>\n",
       "      <th>113 Cause Name</th>\n",
       "      <th>Cause Name</th>\n",
       "      <th>State</th>\n",
       "      <th>Deaths</th>\n",
       "      <th>Age-adjusted Death Rate</th>\n",
       "    </tr>\n",
       "  </thead>\n",
       "  <tbody>\n",
       "    <tr>\n",
       "      <th>10112</th>\n",
       "      <td>1999</td>\n",
       "      <td>All Causes</td>\n",
       "      <td>All causes</td>\n",
       "      <td>Wyoming</td>\n",
       "      <td>4042</td>\n",
       "      <td>895.4</td>\n",
       "    </tr>\n",
       "    <tr>\n",
       "      <th>6912</th>\n",
       "      <td>1999</td>\n",
       "      <td>Accidents (unintentional injuries) (V01-X59,Y8...</td>\n",
       "      <td>Unintentional injuries</td>\n",
       "      <td>Wyoming</td>\n",
       "      <td>258</td>\n",
       "      <td>52.8</td>\n",
       "    </tr>\n",
       "    <tr>\n",
       "      <th>7271</th>\n",
       "      <td>1999</td>\n",
       "      <td>Cerebrovascular diseases (I60-I69)</td>\n",
       "      <td>Stroke</td>\n",
       "      <td>Wyoming</td>\n",
       "      <td>265</td>\n",
       "      <td>60.7</td>\n",
       "    </tr>\n",
       "    <tr>\n",
       "      <th>8672</th>\n",
       "      <td>1999</td>\n",
       "      <td>Malignant neoplasms (C00-C97)</td>\n",
       "      <td>Cancer</td>\n",
       "      <td>Wyoming</td>\n",
       "      <td>899</td>\n",
       "      <td>195.1</td>\n",
       "    </tr>\n",
       "    <tr>\n",
       "      <th>4543</th>\n",
       "      <td>1999</td>\n",
       "      <td>Diabetes mellitus (E10-E14)</td>\n",
       "      <td>Diabetes</td>\n",
       "      <td>Wyoming</td>\n",
       "      <td>135</td>\n",
       "      <td>29.8</td>\n",
       "    </tr>\n",
       "  </tbody>\n",
       "</table>\n",
       "</div>"
      ],
      "text/plain": [
       "       Year                                     113 Cause Name  \\\n",
       "10112  1999                                         All Causes   \n",
       "6912   1999  Accidents (unintentional injuries) (V01-X59,Y8...   \n",
       "7271   1999                 Cerebrovascular diseases (I60-I69)   \n",
       "8672   1999                      Malignant neoplasms (C00-C97)   \n",
       "4543   1999                        Diabetes mellitus (E10-E14)   \n",
       "\n",
       "                   Cause Name    State  Deaths  Age-adjusted Death Rate  \n",
       "10112              All causes  Wyoming    4042                    895.4  \n",
       "6912   Unintentional injuries  Wyoming     258                     52.8  \n",
       "7271                   Stroke  Wyoming     265                     60.7  \n",
       "8672                   Cancer  Wyoming     899                    195.1  \n",
       "4543                 Diabetes  Wyoming     135                     29.8  "
      ]
     },
     "execution_count": 10,
     "metadata": {},
     "output_type": "execute_result"
    }
   ],
   "source": [
    "# What does a sample state df look like\n",
    "wyoming.head()"
   ]
  },
  {
   "cell_type": "code",
   "execution_count": 11,
   "metadata": {},
   "outputs": [],
   "source": [
    "#Find out the highest number of deaths per state\n",
    "alabama_deaths=alabama.groupby(\"Cause Name\")[\"Deaths\"].sum()\n",
    "alaska_deaths=alaska.groupby(\"Cause Name\")[\"Deaths\"].sum()\n",
    "arizona_deaths=arizona.groupby(\"Cause Name\")[\"Deaths\"].sum()\n",
    "arkansas_deaths=arkansas.groupby(\"Cause Name\")[\"Deaths\"].sum()\n",
    "california_deaths=california.groupby(\"Cause Name\")[\"Deaths\"].sum()\n",
    "colorado_deaths=colorado.groupby(\"Cause Name\")[\"Deaths\"].sum()\n",
    "connecticut_deaths=connecticut.groupby(\"Cause Name\")[\"Deaths\"].sum()\n",
    "delaware_deaths=delaware.groupby(\"Cause Name\")[\"Deaths\"].sum()\n",
    "florida_deaths=florida.groupby(\"Cause Name\")[\"Deaths\"].sum()\n",
    "georgia_deaths=georgia.groupby(\"Cause Name\")[\"Deaths\"].sum()\n",
    "hawaii_deaths=hawaii.groupby(\"Cause Name\")[\"Deaths\"].sum()\n",
    "idaho_deaths=idaho.groupby(\"Cause Name\")[\"Deaths\"].sum()\n",
    "illinois_deaths=illinois.groupby(\"Cause Name\")[\"Deaths\"].sum()\n",
    "indiana_deaths=indiana.groupby(\"Cause Name\")[\"Deaths\"].sum()\n",
    "iowa_deaths=iowa.groupby(\"Cause Name\")[\"Deaths\"].sum()\n",
    "kansas_deaths=kansas.groupby(\"Cause Name\")[\"Deaths\"].sum()\n",
    "kentucky_deaths=kentucky.groupby(\"Cause Name\")[\"Deaths\"].sum()\n",
    "louisiana_deaths=louisiana.groupby(\"Cause Name\")[\"Deaths\"].sum()\n",
    "maine_deaths=maine.groupby(\"Cause Name\")[\"Deaths\"].sum()\n",
    "maryland_deaths=maryland.groupby(\"Cause Name\")[\"Deaths\"].sum()\n",
    "massachusetts_deaths=massachusetts.groupby(\"Cause Name\")[\"Deaths\"].sum()\n",
    "michigan_deaths=michigan.groupby(\"Cause Name\")[\"Deaths\"].sum()\n",
    "minnesota_deaths=minnesota.groupby(\"Cause Name\")[\"Deaths\"].sum()\n",
    "mississippi_deaths=mississippi.groupby(\"Cause Name\")[\"Deaths\"].sum()\n",
    "missouri_deaths=missouri.groupby(\"Cause Name\")[\"Deaths\"].sum()\n",
    "montana_deaths=montana.groupby(\"Cause Name\")[\"Deaths\"].sum()\n",
    "nebraska_deaths=nebraska.groupby(\"Cause Name\")[\"Deaths\"].sum()\n",
    "nevada_deaths=nevada.groupby(\"Cause Name\")[\"Deaths\"].sum()\n",
    "new_hampshire_deaths=new_hampshire.groupby(\"Cause Name\")[\"Deaths\"].sum()\n",
    "new_jersey_deaths=new_jersey.groupby(\"Cause Name\")[\"Deaths\"].sum()\n",
    "new_mexico_deaths=new_mexico.groupby(\"Cause Name\")[\"Deaths\"].sum()\n",
    "new_york_deaths=new_york.groupby(\"Cause Name\")[\"Deaths\"].sum()\n",
    "north_carolina_deaths=north_carolina.groupby(\"Cause Name\")[\"Deaths\"].sum()\n",
    "north_dakota_deats=north_dakota.groupby(\"Cause Name\")[\"Deaths\"].sum()\n",
    "ohio_deaths=ohio.groupby(\"Cause Name\")[\"Deaths\"].sum()\n",
    "oklahoma_deaths=oklahoma.groupby(\"Cause Name\")[\"Deaths\"].sum()\n",
    "oregon_deaths=oregon.groupby(\"Cause Name\")[\"Deaths\"].sum()\n",
    "pennsylvania_deaths=pennsylvania.groupby(\"Cause Name\")[\"Deaths\"].sum()\n",
    "rhode_island_deaths=rhode_island.groupby(\"Cause Name\")[\"Deaths\"].sum()\n",
    "south_carolina_deaths=south_carolina.groupby(\"Cause Name\")[\"Deaths\"].sum()\n",
    "south_dakota_deats=south_dakota.groupby(\"Cause Name\")[\"Deaths\"].sum()\n",
    "tennessee_deaths=tennessee.groupby(\"Cause Name\")[\"Deaths\"].sum()\n",
    "texas_deaths=texas.groupby(\"Cause Name\")[\"Deaths\"].sum()\n",
    "utah_deaths=utah.groupby(\"Cause Name\")[\"Deaths\"].sum()\n",
    "vermont_deaths=vermont.groupby(\"Cause Name\")[\"Deaths\"].sum()\n",
    "virginia_deaths = virginia.groupby(\"Cause Name\")[\"Deaths\"].sum()\n",
    "washington_deaths = washington.groupby(\"Cause Name\")[\"Deaths\"].sum()\n",
    "west_virginia_deaths = west_virginia.groupby(\"Cause Name\")[\"Deaths\"].sum()\n",
    "wyoming_deaths = wyoming.groupby('Cause Name')['Deaths'].sum()\n",
    "wisconsin_deaths = wisconsin.groupby(\"Cause Name\")[\"Deaths\"].sum()\n",
    "united_states_deaths=united_states.groupby(\"Cause Name\")[\"Deaths\"].sum()\n"
   ]
  },
  {
   "cell_type": "code",
   "execution_count": 12,
   "metadata": {},
   "outputs": [
    {
     "data": {
      "text/html": [
       "<div>\n",
       "<style scoped>\n",
       "    .dataframe tbody tr th:only-of-type {\n",
       "        vertical-align: middle;\n",
       "    }\n",
       "\n",
       "    .dataframe tbody tr th {\n",
       "        vertical-align: top;\n",
       "    }\n",
       "\n",
       "    .dataframe thead th {\n",
       "        text-align: right;\n",
       "    }\n",
       "</style>\n",
       "<table border=\"1\" class=\"dataframe\">\n",
       "  <thead>\n",
       "    <tr style=\"text-align: right;\">\n",
       "      <th></th>\n",
       "      <th>Deaths</th>\n",
       "    </tr>\n",
       "    <tr>\n",
       "      <th>State</th>\n",
       "      <th></th>\n",
       "    </tr>\n",
       "  </thead>\n",
       "  <tbody>\n",
       "    <tr>\n",
       "      <th>Alabama</th>\n",
       "      <td>1510931</td>\n",
       "    </tr>\n",
       "    <tr>\n",
       "      <th>Alaska</th>\n",
       "      <td>110361</td>\n",
       "    </tr>\n",
       "    <tr>\n",
       "      <th>Arizona</th>\n",
       "      <td>1471757</td>\n",
       "    </tr>\n",
       "    <tr>\n",
       "      <th>Arkansas</th>\n",
       "      <td>929634</td>\n",
       "    </tr>\n",
       "    <tr>\n",
       "      <th>California</th>\n",
       "      <td>7694563</td>\n",
       "    </tr>\n",
       "  </tbody>\n",
       "</table>\n",
       "</div>"
      ],
      "text/plain": [
       "             Deaths\n",
       "State              \n",
       "Alabama     1510931\n",
       "Alaska       110361\n",
       "Arizona     1471757\n",
       "Arkansas     929634\n",
       "California  7694563"
      ]
     },
     "execution_count": 12,
     "metadata": {},
     "output_type": "execute_result"
    }
   ],
   "source": [
    "states = pd.DataFrame(states)\n",
    "states.reset_index(inplace=False)\n",
    "states.head()"
   ]
  },
  {
   "cell_type": "code",
   "execution_count": 13,
   "metadata": {},
   "outputs": [
    {
     "data": {
      "text/html": [
       "<div>\n",
       "<style scoped>\n",
       "    .dataframe tbody tr th:only-of-type {\n",
       "        vertical-align: middle;\n",
       "    }\n",
       "\n",
       "    .dataframe tbody tr th {\n",
       "        vertical-align: top;\n",
       "    }\n",
       "\n",
       "    .dataframe thead th {\n",
       "        text-align: right;\n",
       "    }\n",
       "</style>\n",
       "<table border=\"1\" class=\"dataframe\">\n",
       "  <thead>\n",
       "    <tr style=\"text-align: right;\">\n",
       "      <th></th>\n",
       "      <th>Year</th>\n",
       "      <th>113 Cause Name</th>\n",
       "      <th>Cause Name</th>\n",
       "      <th>State</th>\n",
       "      <th>Deaths</th>\n",
       "      <th>Age-adjusted Death Rate</th>\n",
       "    </tr>\n",
       "  </thead>\n",
       "  <tbody>\n",
       "    <tr>\n",
       "      <th>5338</th>\n",
       "      <td>1999</td>\n",
       "      <td>Accidents (unintentional injuries) (V01-X59,Y8...</td>\n",
       "      <td>Unintentional injuries</td>\n",
       "      <td>Texas</td>\n",
       "      <td>7227</td>\n",
       "      <td>37.6</td>\n",
       "    </tr>\n",
       "    <tr>\n",
       "      <th>6408</th>\n",
       "      <td>1999</td>\n",
       "      <td>Chronic lower respiratory diseases (J40-J47)</td>\n",
       "      <td>CLRD</td>\n",
       "      <td>Texas</td>\n",
       "      <td>7518</td>\n",
       "      <td>46.8</td>\n",
       "    </tr>\n",
       "    <tr>\n",
       "      <th>10093</th>\n",
       "      <td>1999</td>\n",
       "      <td>All Causes</td>\n",
       "      <td>All causes</td>\n",
       "      <td>Texas</td>\n",
       "      <td>146858</td>\n",
       "      <td>886.6</td>\n",
       "    </tr>\n",
       "    <tr>\n",
       "      <th>447</th>\n",
       "      <td>1999</td>\n",
       "      <td>Intentional self-harm (suicide) (*U03,X60-X84,...</td>\n",
       "      <td>Suicide</td>\n",
       "      <td>Texas</td>\n",
       "      <td>2005</td>\n",
       "      <td>10.2</td>\n",
       "    </tr>\n",
       "    <tr>\n",
       "      <th>457</th>\n",
       "      <td>1999</td>\n",
       "      <td>Nephritis, nephrotic syndrome and nephrosis (N...</td>\n",
       "      <td>Kidney disease</td>\n",
       "      <td>Texas</td>\n",
       "      <td>1669</td>\n",
       "      <td>10.3</td>\n",
       "    </tr>\n",
       "  </tbody>\n",
       "</table>\n",
       "</div>"
      ],
      "text/plain": [
       "       Year                                     113 Cause Name  \\\n",
       "5338   1999  Accidents (unintentional injuries) (V01-X59,Y8...   \n",
       "6408   1999       Chronic lower respiratory diseases (J40-J47)   \n",
       "10093  1999                                         All Causes   \n",
       "447    1999  Intentional self-harm (suicide) (*U03,X60-X84,...   \n",
       "457    1999  Nephritis, nephrotic syndrome and nephrosis (N...   \n",
       "\n",
       "                   Cause Name  State  Deaths  Age-adjusted Death Rate  \n",
       "5338   Unintentional injuries  Texas    7227                     37.6  \n",
       "6408                     CLRD  Texas    7518                     46.8  \n",
       "10093              All causes  Texas  146858                    886.6  \n",
       "447                   Suicide  Texas    2005                     10.2  \n",
       "457            Kidney disease  Texas    1669                     10.3  "
      ]
     },
     "execution_count": 13,
     "metadata": {},
     "output_type": "execute_result"
    }
   ],
   "source": [
    "#Dataframe for Texas only\n",
    "texas.head()"
   ]
  },
  {
   "cell_type": "code",
   "execution_count": 14,
   "metadata": {},
   "outputs": [
    {
     "data": {
      "text/html": [
       "<div>\n",
       "<style scoped>\n",
       "    .dataframe tbody tr th:only-of-type {\n",
       "        vertical-align: middle;\n",
       "    }\n",
       "\n",
       "    .dataframe tbody tr th {\n",
       "        vertical-align: top;\n",
       "    }\n",
       "\n",
       "    .dataframe thead th {\n",
       "        text-align: right;\n",
       "    }\n",
       "</style>\n",
       "<table border=\"1\" class=\"dataframe\">\n",
       "  <thead>\n",
       "    <tr style=\"text-align: right;\">\n",
       "      <th></th>\n",
       "      <th>Cause Name</th>\n",
       "      <th>Deaths</th>\n",
       "    </tr>\n",
       "  </thead>\n",
       "  <tbody>\n",
       "    <tr>\n",
       "      <th>5</th>\n",
       "      <td>Heart disease</td>\n",
       "      <td>733531</td>\n",
       "    </tr>\n",
       "    <tr>\n",
       "      <th>3</th>\n",
       "      <td>Cancer</td>\n",
       "      <td>645904</td>\n",
       "    </tr>\n",
       "    <tr>\n",
       "      <th>8</th>\n",
       "      <td>Stroke</td>\n",
       "      <td>177597</td>\n",
       "    </tr>\n",
       "    <tr>\n",
       "      <th>10</th>\n",
       "      <td>Unintentional injuries</td>\n",
       "      <td>160767</td>\n",
       "    </tr>\n",
       "    <tr>\n",
       "      <th>2</th>\n",
       "      <td>CLRD</td>\n",
       "      <td>153837</td>\n",
       "    </tr>\n",
       "    <tr>\n",
       "      <th>4</th>\n",
       "      <td>Diabetes</td>\n",
       "      <td>94866</td>\n",
       "    </tr>\n",
       "    <tr>\n",
       "      <th>1</th>\n",
       "      <td>Alzheimer's disease</td>\n",
       "      <td>92176</td>\n",
       "    </tr>\n",
       "    <tr>\n",
       "      <th>6</th>\n",
       "      <td>Influenza and pneumonia</td>\n",
       "      <td>60426</td>\n",
       "    </tr>\n",
       "    <tr>\n",
       "      <th>7</th>\n",
       "      <td>Kidney disease</td>\n",
       "      <td>56165</td>\n",
       "    </tr>\n",
       "    <tr>\n",
       "      <th>9</th>\n",
       "      <td>Suicide</td>\n",
       "      <td>47844</td>\n",
       "    </tr>\n",
       "  </tbody>\n",
       "</table>\n",
       "</div>"
      ],
      "text/plain": [
       "                 Cause Name  Deaths\n",
       "5             Heart disease  733531\n",
       "3                    Cancer  645904\n",
       "8                    Stroke  177597\n",
       "10   Unintentional injuries  160767\n",
       "2                      CLRD  153837\n",
       "4                  Diabetes   94866\n",
       "1       Alzheimer's disease   92176\n",
       "6   Influenza and pneumonia   60426\n",
       "7            Kidney disease   56165\n",
       "9                   Suicide   47844"
      ]
     },
     "execution_count": 14,
     "metadata": {},
     "output_type": "execute_result"
    }
   ],
   "source": [
    "#Leading causes of death in Texas\n",
    "texas_deaths_df = pd.DataFrame(texas_deaths)\n",
    "texas_deaths_df.reset_index(inplace=True)\n",
    "texas_deaths_df\n",
    "texas_deaths_df.drop([0]).sort_values(by='Deaths',ascending=False)\n"
   ]
  },
  {
   "cell_type": "code",
   "execution_count": 15,
   "metadata": {},
   "outputs": [
    {
     "data": {
      "image/png": "[encoded data removed]",
      "text/plain": [
       "<Figure size 432x288 with 1 Axes>"
      ]
     },
     "metadata": {},
     "output_type": "display_data"
    }
   ],
   "source": [
    "plt.style.use('ggplot')\n",
    "x=['Alzheimers Disease','CLRD','Cancer','Diabetes','Heart disease','Influenza and Pneumonia',\n",
    "          'Kidney Disease','Stroke','Suicide','Unintentional Injuries']\n",
    "deaths=[92176,153837,645904,94866,733531,60426,56165,177597,47844,160767]\n",
    "x_pos = [i for i, _ in enumerate(x)]\n",
    "\n",
    "plt.bar(x_pos, deaths, color=['black', 'green', 'blue', 'cyan', 'red', 'yellow', 'white','magenta'])\n",
    "plt.xlabel(\"Leading Causes of Death in TX\")\n",
    "plt.ylabel(\"Total Deaths (Texas)\")\n",
    "plt.title(\"Leading Causes of Death in Texas (1999-2016)\")\n",
    "\n",
    "plt.xticks(x_pos, x, rotation=55, horizontalalignment=\"right\")\n",
    "#plt.xticks(rotation=55)\n",
    "\n",
    "plt.savefig('texleadingcauses.png')\n",
    "plt.show()\n",
    "\n"
   ]
  },
  {
   "cell_type": "code",
   "execution_count": 16,
   "metadata": {},
   "outputs": [
    {
     "data": {
      "text/html": [
       "<div>\n",
       "<style scoped>\n",
       "    .dataframe tbody tr th:only-of-type {\n",
       "        vertical-align: middle;\n",
       "    }\n",
       "\n",
       "    .dataframe tbody tr th {\n",
       "        vertical-align: top;\n",
       "    }\n",
       "\n",
       "    .dataframe thead th {\n",
       "        text-align: right;\n",
       "    }\n",
       "</style>\n",
       "<table border=\"1\" class=\"dataframe\">\n",
       "  <thead>\n",
       "    <tr style=\"text-align: right;\">\n",
       "      <th></th>\n",
       "      <th>Cause Name</th>\n",
       "      <th>Deaths</th>\n",
       "    </tr>\n",
       "  </thead>\n",
       "  <tbody>\n",
       "    <tr>\n",
       "      <th>5</th>\n",
       "      <td>Heart disease</td>\n",
       "      <td>23150366</td>\n",
       "    </tr>\n",
       "    <tr>\n",
       "      <th>3</th>\n",
       "      <td>Cancer</td>\n",
       "      <td>20489072</td>\n",
       "    </tr>\n",
       "    <tr>\n",
       "      <th>8</th>\n",
       "      <td>Stroke</td>\n",
       "      <td>5160280</td>\n",
       "    </tr>\n",
       "    <tr>\n",
       "      <th>2</th>\n",
       "      <td>CLRD</td>\n",
       "      <td>4869452</td>\n",
       "    </tr>\n",
       "    <tr>\n",
       "      <th>10</th>\n",
       "      <td>Unintentional injuries</td>\n",
       "      <td>4355768</td>\n",
       "    </tr>\n",
       "    <tr>\n",
       "      <th>1</th>\n",
       "      <td>Alzheimer's disease</td>\n",
       "      <td>2746824</td>\n",
       "    </tr>\n",
       "    <tr>\n",
       "      <th>4</th>\n",
       "      <td>Diabetes</td>\n",
       "      <td>2632758</td>\n",
       "    </tr>\n",
       "    <tr>\n",
       "      <th>6</th>\n",
       "      <td>Influenza and pneumonia</td>\n",
       "      <td>2077938</td>\n",
       "    </tr>\n",
       "    <tr>\n",
       "      <th>7</th>\n",
       "      <td>Kidney disease</td>\n",
       "      <td>1615960</td>\n",
       "    </tr>\n",
       "    <tr>\n",
       "      <th>9</th>\n",
       "      <td>Suicide</td>\n",
       "      <td>1299686</td>\n",
       "    </tr>\n",
       "  </tbody>\n",
       "</table>\n",
       "</div>"
      ],
      "text/plain": [
       "                 Cause Name    Deaths\n",
       "5             Heart disease  23150366\n",
       "3                    Cancer  20489072\n",
       "8                    Stroke   5160280\n",
       "2                      CLRD   4869452\n",
       "10   Unintentional injuries   4355768\n",
       "1       Alzheimer's disease   2746824\n",
       "4                  Diabetes   2632758\n",
       "6   Influenza and pneumonia   2077938\n",
       "7            Kidney disease   1615960\n",
       "9                   Suicide   1299686"
      ]
     },
     "execution_count": 16,
     "metadata": {},
     "output_type": "execute_result"
    }
   ],
   "source": [
    "#Calculate the overall leading cause of death in the United States (1999 - 2016)\n",
    "usa_cause = deathdata1.groupby('Cause Name')['Deaths'].sum()\n",
    "usa_cause = pd.DataFrame(usa_cause)\n",
    "usa_cause.reset_index(inplace=True)\n",
    "usa_cause.drop([0]).sort_values(by='Deaths',ascending=False)\n"
   ]
  },
  {
   "cell_type": "code",
   "execution_count": 17,
   "metadata": {},
   "outputs": [],
   "source": [
    "#Making dataframe that drops columns Year, 113 Cause Name, and Age-Adjusted Death Rate\n",
    "death_data2 = deathdata1[['Cause Name','State','Deaths']]\n",
    "death_data2\n",
    "#renaming cause  name column to cause\n",
    "death_data2 = death_data2.rename(columns={'Cause Name': 'Cause'})\n",
    "death_data2\n",
    "#Eliminating all rows in Cause Name = All causes\n",
    "death_data3 = death_data2.loc[death_data2['Cause']!=\"All causes\",:]\n",
    "death_data3\n",
    "#Group State and Causes and find the sum of deaths\n",
    "death_data4 = death_data3.groupby(['State','Cause']).sum()\n",
    "death_data4.head()\n",
    "death_data4.to_csv(r'deathsperstate.csv')\n"
   ]
  },
  {
   "cell_type": "code",
   "execution_count": 18,
   "metadata": {},
   "outputs": [
    {
     "data": {
      "text/html": [
       "<div>\n",
       "<style scoped>\n",
       "    .dataframe tbody tr th:only-of-type {\n",
       "        vertical-align: middle;\n",
       "    }\n",
       "\n",
       "    .dataframe tbody tr th {\n",
       "        vertical-align: top;\n",
       "    }\n",
       "\n",
       "    .dataframe thead th {\n",
       "        text-align: right;\n",
       "    }\n",
       "</style>\n",
       "<table border=\"1\" class=\"dataframe\">\n",
       "  <thead>\n",
       "    <tr style=\"text-align: right;\">\n",
       "      <th></th>\n",
       "      <th></th>\n",
       "      <th>Deaths</th>\n",
       "    </tr>\n",
       "    <tr>\n",
       "      <th>State</th>\n",
       "      <th>Cause</th>\n",
       "      <th></th>\n",
       "    </tr>\n",
       "  </thead>\n",
       "  <tbody>\n",
       "    <tr>\n",
       "      <th rowspan=\"5\" valign=\"top\">Alabama</th>\n",
       "      <th>Alzheimer's disease</th>\n",
       "      <td>26637</td>\n",
       "    </tr>\n",
       "    <tr>\n",
       "      <th>CLRD</th>\n",
       "      <td>47778</td>\n",
       "    </tr>\n",
       "    <tr>\n",
       "      <th>Cancer</th>\n",
       "      <td>180780</td>\n",
       "    </tr>\n",
       "    <tr>\n",
       "      <th>Diabetes</th>\n",
       "      <td>24143</td>\n",
       "    </tr>\n",
       "    <tr>\n",
       "      <th>Heart disease</th>\n",
       "      <td>227433</td>\n",
       "    </tr>\n",
       "  </tbody>\n",
       "</table>\n",
       "</div>"
      ],
      "text/plain": [
       "                             Deaths\n",
       "State   Cause                      \n",
       "Alabama Alzheimer's disease   26637\n",
       "        CLRD                  47778\n",
       "        Cancer               180780\n",
       "        Diabetes              24143\n",
       "        Heart disease        227433"
      ]
     },
     "execution_count": 18,
     "metadata": {},
     "output_type": "execute_result"
    }
   ],
   "source": [
    "#Causes of death per state\n",
    "death_data4.head()"
   ]
  },
  {
   "cell_type": "code",
   "execution_count": 19,
   "metadata": {},
   "outputs": [
    {
     "data": {
      "text/html": [
       "<div>\n",
       "<style scoped>\n",
       "    .dataframe tbody tr th:only-of-type {\n",
       "        vertical-align: middle;\n",
       "    }\n",
       "\n",
       "    .dataframe tbody tr th {\n",
       "        vertical-align: top;\n",
       "    }\n",
       "\n",
       "    .dataframe thead th {\n",
       "        text-align: right;\n",
       "    }\n",
       "</style>\n",
       "<table border=\"1\" class=\"dataframe\">\n",
       "  <thead>\n",
       "    <tr style=\"text-align: right;\">\n",
       "      <th></th>\n",
       "      <th></th>\n",
       "      <th>Deaths</th>\n",
       "    </tr>\n",
       "    <tr>\n",
       "      <th>Cause Name</th>\n",
       "      <th>Year</th>\n",
       "      <th></th>\n",
       "    </tr>\n",
       "  </thead>\n",
       "  <tbody>\n",
       "    <tr>\n",
       "      <th rowspan=\"5\" valign=\"top\">Alzheimer's disease</th>\n",
       "      <th>1999</th>\n",
       "      <td>2833</td>\n",
       "    </tr>\n",
       "    <tr>\n",
       "      <th>2000</th>\n",
       "      <td>3184</td>\n",
       "    </tr>\n",
       "    <tr>\n",
       "      <th>2001</th>\n",
       "      <td>3439</td>\n",
       "    </tr>\n",
       "    <tr>\n",
       "      <th>2002</th>\n",
       "      <td>3793</td>\n",
       "    </tr>\n",
       "    <tr>\n",
       "      <th>2003</th>\n",
       "      <td>4015</td>\n",
       "    </tr>\n",
       "  </tbody>\n",
       "</table>\n",
       "</div>"
      ],
      "text/plain": [
       "                          Deaths\n",
       "Cause Name          Year        \n",
       "Alzheimer's disease 1999    2833\n",
       "                    2000    3184\n",
       "                    2001    3439\n",
       "                    2002    3793\n",
       "                    2003    4015"
      ]
     },
     "execution_count": 19,
     "metadata": {},
     "output_type": "execute_result"
    }
   ],
   "source": [
    "#Analyze Texas by Year\n",
    "texas\n",
    "texas1 = texas[['Year','Cause Name','Deaths']]\n",
    "texas2 = texas1.loc[texas1['Cause Name']!=\"All causes\",:]\n",
    "texas2.head()\n",
    "texas3 = texas2.groupby(['Cause Name','Year']).sum()\n",
    "texas3.head()"
   ]
  },
  {
   "cell_type": "code",
   "execution_count": 20,
   "metadata": {},
   "outputs": [
    {
     "data": {
      "text/html": [
       "<div>\n",
       "<style scoped>\n",
       "    .dataframe tbody tr th:only-of-type {\n",
       "        vertical-align: middle;\n",
       "    }\n",
       "\n",
       "    .dataframe tbody tr th {\n",
       "        vertical-align: top;\n",
       "    }\n",
       "\n",
       "    .dataframe thead th {\n",
       "        text-align: right;\n",
       "    }\n",
       "</style>\n",
       "<table border=\"1\" class=\"dataframe\">\n",
       "  <thead>\n",
       "    <tr style=\"text-align: right;\">\n",
       "      <th></th>\n",
       "      <th>Year</th>\n",
       "      <th>113 Cause Name</th>\n",
       "      <th>Cause Name</th>\n",
       "      <th>State</th>\n",
       "      <th>Deaths</th>\n",
       "      <th>Age-adjusted Death Rate</th>\n",
       "    </tr>\n",
       "  </thead>\n",
       "  <tbody>\n",
       "    <tr>\n",
       "      <th>5338</th>\n",
       "      <td>1999</td>\n",
       "      <td>Accidents (unintentional injuries) (V01-X59,Y8...</td>\n",
       "      <td>Unintentional injuries</td>\n",
       "      <td>Texas</td>\n",
       "      <td>7227</td>\n",
       "      <td>37.6</td>\n",
       "    </tr>\n",
       "    <tr>\n",
       "      <th>6408</th>\n",
       "      <td>1999</td>\n",
       "      <td>Chronic lower respiratory diseases (J40-J47)</td>\n",
       "      <td>CLRD</td>\n",
       "      <td>Texas</td>\n",
       "      <td>7518</td>\n",
       "      <td>46.8</td>\n",
       "    </tr>\n",
       "    <tr>\n",
       "      <th>10093</th>\n",
       "      <td>1999</td>\n",
       "      <td>All Causes</td>\n",
       "      <td>All causes</td>\n",
       "      <td>Texas</td>\n",
       "      <td>146858</td>\n",
       "      <td>886.6</td>\n",
       "    </tr>\n",
       "    <tr>\n",
       "      <th>447</th>\n",
       "      <td>1999</td>\n",
       "      <td>Intentional self-harm (suicide) (*U03,X60-X84,...</td>\n",
       "      <td>Suicide</td>\n",
       "      <td>Texas</td>\n",
       "      <td>2005</td>\n",
       "      <td>10.2</td>\n",
       "    </tr>\n",
       "    <tr>\n",
       "      <th>457</th>\n",
       "      <td>1999</td>\n",
       "      <td>Nephritis, nephrotic syndrome and nephrosis (N...</td>\n",
       "      <td>Kidney disease</td>\n",
       "      <td>Texas</td>\n",
       "      <td>1669</td>\n",
       "      <td>10.3</td>\n",
       "    </tr>\n",
       "  </tbody>\n",
       "</table>\n",
       "</div>"
      ],
      "text/plain": [
       "       Year                                     113 Cause Name  \\\n",
       "5338   1999  Accidents (unintentional injuries) (V01-X59,Y8...   \n",
       "6408   1999       Chronic lower respiratory diseases (J40-J47)   \n",
       "10093  1999                                         All Causes   \n",
       "447    1999  Intentional self-harm (suicide) (*U03,X60-X84,...   \n",
       "457    1999  Nephritis, nephrotic syndrome and nephrosis (N...   \n",
       "\n",
       "                   Cause Name  State  Deaths  Age-adjusted Death Rate  \n",
       "5338   Unintentional injuries  Texas    7227                     37.6  \n",
       "6408                     CLRD  Texas    7518                     46.8  \n",
       "10093              All causes  Texas  146858                    886.6  \n",
       "447                   Suicide  Texas    2005                     10.2  \n",
       "457            Kidney disease  Texas    1669                     10.3  "
      ]
     },
     "execution_count": 20,
     "metadata": {},
     "output_type": "execute_result"
    }
   ],
   "source": [
    "texas.head()"
   ]
  },
  {
   "cell_type": "code",
   "execution_count": 21,
   "metadata": {},
   "outputs": [
    {
     "data": {
      "text/html": [
       "<div>\n",
       "<style scoped>\n",
       "    .dataframe tbody tr th:only-of-type {\n",
       "        vertical-align: middle;\n",
       "    }\n",
       "\n",
       "    .dataframe tbody tr th {\n",
       "        vertical-align: top;\n",
       "    }\n",
       "\n",
       "    .dataframe thead th {\n",
       "        text-align: right;\n",
       "    }\n",
       "</style>\n",
       "<table border=\"1\" class=\"dataframe\">\n",
       "  <thead>\n",
       "    <tr style=\"text-align: right;\">\n",
       "      <th></th>\n",
       "      <th></th>\n",
       "      <th>Deaths</th>\n",
       "      <th>Age-adjusted Death Rate</th>\n",
       "    </tr>\n",
       "    <tr>\n",
       "      <th>Year</th>\n",
       "      <th>Cause Name</th>\n",
       "      <th></th>\n",
       "      <th></th>\n",
       "    </tr>\n",
       "  </thead>\n",
       "  <tbody>\n",
       "    <tr>\n",
       "      <th rowspan=\"5\" valign=\"top\">1999</th>\n",
       "      <th>Alzheimer's disease</th>\n",
       "      <td>2833</td>\n",
       "      <td>18.5</td>\n",
       "    </tr>\n",
       "    <tr>\n",
       "      <th>CLRD</th>\n",
       "      <td>7518</td>\n",
       "      <td>46.8</td>\n",
       "    </tr>\n",
       "    <tr>\n",
       "      <th>Cancer</th>\n",
       "      <td>32755</td>\n",
       "      <td>196.1</td>\n",
       "    </tr>\n",
       "    <tr>\n",
       "      <th>Diabetes</th>\n",
       "      <td>4931</td>\n",
       "      <td>29.9</td>\n",
       "    </tr>\n",
       "    <tr>\n",
       "      <th>Heart disease</th>\n",
       "      <td>43418</td>\n",
       "      <td>270.1</td>\n",
       "    </tr>\n",
       "  </tbody>\n",
       "</table>\n",
       "</div>"
      ],
      "text/plain": [
       "                          Deaths  Age-adjusted Death Rate\n",
       "Year Cause Name                                          \n",
       "1999 Alzheimer's disease    2833                     18.5\n",
       "     CLRD                   7518                     46.8\n",
       "     Cancer                32755                    196.1\n",
       "     Diabetes               4931                     29.9\n",
       "     Heart disease         43418                    270.1"
      ]
     },
     "execution_count": 21,
     "metadata": {},
     "output_type": "execute_result"
    }
   ],
   "source": [
    "#Analyze Texas by year again\n",
    "texas4 = texas[['Year','Cause Name','Deaths','Age-adjusted Death Rate']]\n",
    "texas4.head()\n",
    "texas5 = texas4.loc[texas4['Cause Name']!=\"All causes\",:]\n",
    "texas5=texas5.groupby(['Year','Cause Name']).sum()\n",
    "texas5.head()\n"
   ]
  },
  {
   "cell_type": "code",
   "execution_count": 22,
   "metadata": {},
   "outputs": [
    {
     "data": {
      "image/png": "[encoded data removed]",
      "text/plain": [
       "<Figure size 432x288 with 1 Axes>"
      ]
     },
     "metadata": {},
     "output_type": "display_data"
    }
   ],
   "source": [
    "Years = [1999,2000,2001,2002,2003,2004,2005,2006,2007,2008,2009,2010,2011,2012,2013,2014,2015,2016]\n",
    "DeathRate = [270,264,259,256,241,226,220,205,200,192,184,181,173,171,171,170,172,168]\n",
    "Deaths = texas[\"Deaths\"]\n",
    "txscatter=plt.scatter(Years, DeathRate, marker =\"o\", edgecolor=\"black\", s=Deaths/500, alpha=1, c='blue',linewidth=1, label=\"Death Rate HD\")\n",
    "plt.title(\"Age-Adjusted Death Rate vs Year (Heart Disease)\")\n",
    "plt.ylabel(\"Age-Adjusted Death Rate (Heart Disease)\")\n",
    "plt.xlabel(\"Year\")\n",
    "plt.locator_params(integer=True)\n",
    "plt.legend()\n",
    "plt.savefig('txheartdiseasedeathrate.png')\n",
    "\n",
    "\n",
    "\n",
    "\n",
    "#plt.text(1,1,'Note:\\nCircle size correlates with total deaths in Texas')\n",
    "plt.show()\n",
    "#fig= plt.figure(figsize=())\n",
    "#plt.grid()\n",
    "\n",
    "\n",
    "\n",
    "\n",
    "    "
   ]
  },
  {
   "cell_type": "code",
   "execution_count": 23,
   "metadata": {},
   "outputs": [
    {
     "data": {
      "image/png": "[encoded data removed]",
      "text/plain": [
       "<Figure size 432x288 with 1 Axes>"
      ]
     },
     "metadata": {},
     "output_type": "display_data"
    }
   ],
   "source": [
    "Years2= [1999,2000,2001,2002,2003,2004,2005,2006,2007,2008,2009,2010,2011,2012,2013,2014,2015,2016]\n",
    "DeathRate2 = [196,196,193,192,186,182,179,176,172,170,164,166,162,160,157,153,149,149]\n",
    "plt.scatter([Years2], [DeathRate2], marker =\"o\", edgecolor=\"black\", s=Deaths/500, alpha=1, c='green', label=\"Death Rate Cancer\")\n",
    "plt.title(\"Age-Adjusted Death Rate vs Year (Cancer)\")\n",
    "plt.ylabel(\"Age-Adjusted Death Rate (Cancer)\")\n",
    "plt.xlabel(\"Year\")\n",
    "plt.locator_params(integer=True)\n",
    "plt.legend()\n",
    "plt.savefig('txcancerdeathrate.png')\n",
    "\n",
    "\n",
    "#plt.grid(b=True, which='major', color='#666666', linestyle='-')\n",
    "\n"
   ]
  },
  {
   "cell_type": "code",
   "execution_count": 24,
   "metadata": {},
   "outputs": [
    {
     "data": {
      "image/png": "[encoded data removed]",
      "text/plain": [
       "<Figure size 432x288 with 1 Axes>"
      ]
     },
     "metadata": {},
     "output_type": "display_data"
    }
   ],
   "source": [
    "Years2= [1999,2000,2001,2002,2003,2004,2005,2006,2007,2008,2009,2010,2011,2012,2013,2014,2015,2016]\n",
    "DeathRate2 = [66,67,65,64,61,57,52,50,52,49,45,44,42,42,40,42,43,42]\n",
    "plt.scatter([Years2], [DeathRate2], marker =\"o\", edgecolor=\"black\", s=Deaths/500, alpha=1,c='red', label=\"Death Rate Stroke\")\n",
    "plt.title(\"Age-Adjusted Death Rate vs Year (Stroke)\")\n",
    "plt.ylabel(\"Age-Adjusted Death Rate (Stroke)\")\n",
    "plt.xlabel(\"Year\")\n",
    "plt.locator_params(integer=True)\n",
    "plt.legend()\n",
    "plt.savefig('txstrokedeathrate.png')\n",
    "\n",
    "\n",
    "#plt.grid(b=True, which='major', color='#666666', linestyle='-')"
   ]
  },
  {
   "cell_type": "code",
   "execution_count": 25,
   "metadata": {},
   "outputs": [
    {
     "name": "stdout",
     "output_type": "stream",
     "text": [
      "What cause do you want to observe? Cancer\n"
     ]
    },
    {
     "data": {
      "text/plain": [
       "<matplotlib.legend.Legend at 0x19d59e3f518>"
      ]
     },
     "execution_count": 25,
     "metadata": {},
     "output_type": "execute_result"
    },
    {
     "data": {
      "image/png": "[encoded data removed]",
      "text/plain": [
       "<Figure size 432x288 with 1 Axes>"
      ]
     },
     "metadata": {},
     "output_type": "display_data"
    }
   ],
   "source": [
    "ailment = input(\"What cause do you want to observe? \")\n",
    "texas18 = texas[['Year','Cause Name','Deaths','Age-adjusted Death Rate']]\n",
    "texas19 = texas18.loc[texas18['Cause Name']!=\"All causes\",:]\n",
    "texas19 = texas18.loc[texas18['Cause Name']== ailment,:]\n",
    "texas19=texas19.groupby(['Year','Cause Name']).sum()\n",
    "texas19=pd.DataFrame(texas19)\n",
    "texas19.head()\n",
    "\n",
    "Years19= [1999,2000,2001,2002,2003,2004,2005,2006,2007,2008,2009,2010,2011,2012,2013,2014,2015,2016]\n",
    "plt.scatter([Years2], texas19['Age-adjusted Death Rate'], marker =\"o\", edgecolor=\"black\", s=Deaths/500, alpha=1, c='green', label=ailment)\n",
    "plt.title(f\"Age-Adjusted Death Rate vs Year ({ailment})\")\n",
    "plt.ylabel(f\"Age-Adjusted Death Rate ({ailment})\")\n",
    "plt.xlabel(\"Year\")\n",
    "plt.locator_params(integer=True)\n",
    "plt.legend()\n"
   ]
  },
  {
   "cell_type": "code",
   "execution_count": 26,
   "metadata": {},
   "outputs": [
    {
     "data": {
      "text/html": [
       "<div>\n",
       "<style scoped>\n",
       "    .dataframe tbody tr th:only-of-type {\n",
       "        vertical-align: middle;\n",
       "    }\n",
       "\n",
       "    .dataframe tbody tr th {\n",
       "        vertical-align: top;\n",
       "    }\n",
       "\n",
       "    .dataframe thead th {\n",
       "        text-align: right;\n",
       "    }\n",
       "</style>\n",
       "<table border=\"1\" class=\"dataframe\">\n",
       "  <thead>\n",
       "    <tr style=\"text-align: right;\">\n",
       "      <th></th>\n",
       "      <th>Cause Name</th>\n",
       "      <th>Deaths</th>\n",
       "    </tr>\n",
       "  </thead>\n",
       "  <tbody>\n",
       "    <tr>\n",
       "      <th>5</th>\n",
       "      <td>Heart disease</td>\n",
       "      <td>23150366</td>\n",
       "    </tr>\n",
       "    <tr>\n",
       "      <th>3</th>\n",
       "      <td>Cancer</td>\n",
       "      <td>20489072</td>\n",
       "    </tr>\n",
       "    <tr>\n",
       "      <th>8</th>\n",
       "      <td>Stroke</td>\n",
       "      <td>5160280</td>\n",
       "    </tr>\n",
       "    <tr>\n",
       "      <th>2</th>\n",
       "      <td>CLRD</td>\n",
       "      <td>4869452</td>\n",
       "    </tr>\n",
       "    <tr>\n",
       "      <th>10</th>\n",
       "      <td>Unintentional injuries</td>\n",
       "      <td>4355768</td>\n",
       "    </tr>\n",
       "    <tr>\n",
       "      <th>1</th>\n",
       "      <td>Alzheimer's disease</td>\n",
       "      <td>2746824</td>\n",
       "    </tr>\n",
       "    <tr>\n",
       "      <th>4</th>\n",
       "      <td>Diabetes</td>\n",
       "      <td>2632758</td>\n",
       "    </tr>\n",
       "    <tr>\n",
       "      <th>6</th>\n",
       "      <td>Influenza and pneumonia</td>\n",
       "      <td>2077938</td>\n",
       "    </tr>\n",
       "    <tr>\n",
       "      <th>7</th>\n",
       "      <td>Kidney disease</td>\n",
       "      <td>1615960</td>\n",
       "    </tr>\n",
       "    <tr>\n",
       "      <th>9</th>\n",
       "      <td>Suicide</td>\n",
       "      <td>1299686</td>\n",
       "    </tr>\n",
       "  </tbody>\n",
       "</table>\n",
       "</div>"
      ],
      "text/plain": [
       "                 Cause Name    Deaths\n",
       "5             Heart disease  23150366\n",
       "3                    Cancer  20489072\n",
       "8                    Stroke   5160280\n",
       "2                      CLRD   4869452\n",
       "10   Unintentional injuries   4355768\n",
       "1       Alzheimer's disease   2746824\n",
       "4                  Diabetes   2632758\n",
       "6   Influenza and pneumonia   2077938\n",
       "7            Kidney disease   1615960\n",
       "9                   Suicide   1299686"
      ]
     },
     "execution_count": 26,
     "metadata": {},
     "output_type": "execute_result"
    }
   ],
   "source": [
    "#Eliminating all causes from USA data\n",
    "usa_cause2 = usa_cause.loc[usa_cause['Cause Name']!=\"All causes\",:]\n",
    "usa_cause2.sort_values(by='Deaths',ascending=False)\n"
   ]
  },
  {
   "cell_type": "code",
   "execution_count": 27,
   "metadata": {},
   "outputs": [
    {
     "data": {
      "text/html": [
       "<div>\n",
       "<style scoped>\n",
       "    .dataframe tbody tr th:only-of-type {\n",
       "        vertical-align: middle;\n",
       "    }\n",
       "\n",
       "    .dataframe tbody tr th {\n",
       "        vertical-align: top;\n",
       "    }\n",
       "\n",
       "    .dataframe thead th {\n",
       "        text-align: right;\n",
       "    }\n",
       "</style>\n",
       "<table border=\"1\" class=\"dataframe\">\n",
       "  <thead>\n",
       "    <tr style=\"text-align: right;\">\n",
       "      <th></th>\n",
       "      <th>Year</th>\n",
       "      <th>113 Cause Name</th>\n",
       "      <th>Cause Name</th>\n",
       "      <th>State</th>\n",
       "      <th>Deaths</th>\n",
       "      <th>Age-adjusted Death Rate</th>\n",
       "    </tr>\n",
       "  </thead>\n",
       "  <tbody>\n",
       "    <tr>\n",
       "      <th>1914</th>\n",
       "      <td>1999</td>\n",
       "      <td>Alzheimer's disease (G30)</td>\n",
       "      <td>Alzheimer's disease</td>\n",
       "      <td>United States</td>\n",
       "      <td>44536</td>\n",
       "      <td>16.5</td>\n",
       "    </tr>\n",
       "    <tr>\n",
       "      <th>510</th>\n",
       "      <td>1999</td>\n",
       "      <td>Intentional self-harm (suicide) (*U03,X60-X84,...</td>\n",
       "      <td>Suicide</td>\n",
       "      <td>United States</td>\n",
       "      <td>29199</td>\n",
       "      <td>10.5</td>\n",
       "    </tr>\n",
       "    <tr>\n",
       "      <th>3895</th>\n",
       "      <td>1999</td>\n",
       "      <td>Diabetes mellitus (E10-E14)</td>\n",
       "      <td>Diabetes</td>\n",
       "      <td>United States</td>\n",
       "      <td>68399</td>\n",
       "      <td>25.0</td>\n",
       "    </tr>\n",
       "    <tr>\n",
       "      <th>5096</th>\n",
       "      <td>1999</td>\n",
       "      <td>Accidents (unintentional injuries) (V01-X59,Y8...</td>\n",
       "      <td>Unintentional injuries</td>\n",
       "      <td>United States</td>\n",
       "      <td>97860</td>\n",
       "      <td>35.3</td>\n",
       "    </tr>\n",
       "    <tr>\n",
       "      <th>7302</th>\n",
       "      <td>1999</td>\n",
       "      <td>Cerebrovascular diseases (I60-I69)</td>\n",
       "      <td>Stroke</td>\n",
       "      <td>United States</td>\n",
       "      <td>167366</td>\n",
       "      <td>61.6</td>\n",
       "    </tr>\n",
       "  </tbody>\n",
       "</table>\n",
       "</div>"
      ],
      "text/plain": [
       "      Year                                     113 Cause Name  \\\n",
       "1914  1999                          Alzheimer's disease (G30)   \n",
       "510   1999  Intentional self-harm (suicide) (*U03,X60-X84,...   \n",
       "3895  1999                        Diabetes mellitus (E10-E14)   \n",
       "5096  1999  Accidents (unintentional injuries) (V01-X59,Y8...   \n",
       "7302  1999                 Cerebrovascular diseases (I60-I69)   \n",
       "\n",
       "                  Cause Name          State  Deaths  Age-adjusted Death Rate  \n",
       "1914     Alzheimer's disease  United States   44536                     16.5  \n",
       "510                  Suicide  United States   29199                     10.5  \n",
       "3895                Diabetes  United States   68399                     25.0  \n",
       "5096  Unintentional injuries  United States   97860                     35.3  \n",
       "7302                  Stroke  United States  167366                     61.6  "
      ]
     },
     "execution_count": 27,
     "metadata": {},
     "output_type": "execute_result"
    }
   ],
   "source": [
    "#Isolate data for the United States overall and eliminate all causes to focus on 10 leading causes of death\n",
    "united_states2=united_states.loc[united_states['Cause Name']!=\"All causes\",:]\n",
    "united_states2.head()"
   ]
  },
  {
   "cell_type": "code",
   "execution_count": 28,
   "metadata": {},
   "outputs": [
    {
     "data": {
      "text/html": [
       "<div>\n",
       "<style scoped>\n",
       "    .dataframe tbody tr th:only-of-type {\n",
       "        vertical-align: middle;\n",
       "    }\n",
       "\n",
       "    .dataframe tbody tr th {\n",
       "        vertical-align: top;\n",
       "    }\n",
       "\n",
       "    .dataframe thead th {\n",
       "        text-align: right;\n",
       "    }\n",
       "</style>\n",
       "<table border=\"1\" class=\"dataframe\">\n",
       "  <thead>\n",
       "    <tr style=\"text-align: right;\">\n",
       "      <th></th>\n",
       "      <th></th>\n",
       "      <th>Deaths</th>\n",
       "      <th>Age-adjusted Death Rate</th>\n",
       "    </tr>\n",
       "    <tr>\n",
       "      <th>Year</th>\n",
       "      <th>Cause Name</th>\n",
       "      <th></th>\n",
       "      <th></th>\n",
       "    </tr>\n",
       "  </thead>\n",
       "  <tbody>\n",
       "    <tr>\n",
       "      <th rowspan=\"5\" valign=\"top\">1999</th>\n",
       "      <th>Alzheimer's disease</th>\n",
       "      <td>44536</td>\n",
       "      <td>16.5</td>\n",
       "    </tr>\n",
       "    <tr>\n",
       "      <th>CLRD</th>\n",
       "      <td>124181</td>\n",
       "      <td>45.4</td>\n",
       "    </tr>\n",
       "    <tr>\n",
       "      <th>Cancer</th>\n",
       "      <td>549838</td>\n",
       "      <td>200.8</td>\n",
       "    </tr>\n",
       "    <tr>\n",
       "      <th>Diabetes</th>\n",
       "      <td>68399</td>\n",
       "      <td>25.0</td>\n",
       "    </tr>\n",
       "    <tr>\n",
       "      <th>Heart disease</th>\n",
       "      <td>725192</td>\n",
       "      <td>266.5</td>\n",
       "    </tr>\n",
       "  </tbody>\n",
       "</table>\n",
       "</div>"
      ],
      "text/plain": [
       "                          Deaths  Age-adjusted Death Rate\n",
       "Year Cause Name                                          \n",
       "1999 Alzheimer's disease   44536                     16.5\n",
       "     CLRD                 124181                     45.4\n",
       "     Cancer               549838                    200.8\n",
       "     Diabetes              68399                     25.0\n",
       "     Heart disease        725192                    266.5"
      ]
     },
     "execution_count": 28,
     "metadata": {},
     "output_type": "execute_result"
    }
   ],
   "source": [
    "#creating a dataframe to show usa deaths per year per cause\n",
    "united_states3 = united_states2[['Year','Cause Name','Deaths','Age-adjusted Death Rate']]\n",
    "united_states3.head()\n",
    "united_states4=united_states3.groupby(['Year','Cause Name']).sum()\n",
    "united_states4.head()"
   ]
  },
  {
   "cell_type": "code",
   "execution_count": 29,
   "metadata": {},
   "outputs": [],
   "source": [
    "united_states4.to_csv(\"Data/unitedstatesdeathyear.csv\")"
   ]
  },
  {
   "cell_type": "code",
   "execution_count": 30,
   "metadata": {},
   "outputs": [
    {
     "data": {
      "text/plain": [
       "Text(0.5, 0, 'Year')"
      ]
     },
     "execution_count": 30,
     "metadata": {},
     "output_type": "execute_result"
    },
    {
     "data": {
      "image/png": "[encoded data removed]",
      "text/plain": [
       "<Figure size 432x288 with 1 Axes>"
      ]
     },
     "metadata": {},
     "output_type": "display_data"
    }
   ],
   "source": [
    "#graphing age adjusted death rate due to heart disease in usa\n",
    "years= [1999,2000,2001,2002,2003,2004,2005,2006,2007,2008,2009,2010,2011,2012,2013,2014,2015,2016]\n",
    "death_rate = [267,258,250,245,236,222,217,206,196,192,183,179,174,171,170,167,169,165]\n",
    "deaths=united_states['Deaths']\n",
    "plt.scatter([years], [death_rate], marker =\"o\", edgecolor=\"black\", s=deaths/5000, alpha=1)\n",
    "plt.title(\"Age-Adjusted Death Rate vs Year (USA Heart Disease)\")\n",
    "plt.ylabel(\"Age-Adjusted Death Rate (Heart Disease)\")\n",
    "plt.xlabel(\"Year\")\n",
    "#plt.grid(b=True, which='major', color='#666666', linestyle='-')"
   ]
  },
  {
   "cell_type": "code",
   "execution_count": 31,
   "metadata": {},
   "outputs": [
    {
     "data": {
      "text/plain": [
       "Text(0.5, 0, 'Year')"
      ]
     },
     "execution_count": 31,
     "metadata": {},
     "output_type": "execute_result"
    },
    {
     "data": {
      "image/png": "[encoded data removed]",
      "text/plain": [
       "<Figure size 432x288 with 1 Axes>"
      ]
     },
     "metadata": {},
     "output_type": "display_data"
    }
   ],
   "source": [
    "#graphing age adjusted death rate due to cancer disease in usa\n",
    "years2= [1999,2000,2001,2002,2003,2004,2005,2006,2007,2008,2009,2010,2011,2012,2013,2014,2015,2016]\n",
    "death_rate2 = [201,200,197,194,191,187,185,182,179,176,174,173,169,166,163,161,158,156]\n",
    "deaths=united_states['Deaths']\n",
    "plt.scatter([years2], [death_rate2], marker =\"o\", edgecolor=\"black\", s=deaths/5000, alpha=1)\n",
    "plt.title(\"Age-Adjusted Death Rate vs Year (USA Cancer)\")\n",
    "plt.ylabel(\"Age-Adjusted Death Rate (Cancer)\")\n",
    "plt.xlabel(\"Year\")\n",
    "#plt.grid(b=True, which='major', color='#666666', linestyle='-')"
   ]
  },
  {
   "cell_type": "code",
   "execution_count": 32,
   "metadata": {},
   "outputs": [
    {
     "data": {
      "text/plain": [
       "Text(0.5, 0, 'Year')"
      ]
     },
     "execution_count": 32,
     "metadata": {},
     "output_type": "execute_result"
    },
    {
     "data": {
      "image/png": "[encoded data removed]",
      "text/plain": [
       "<Figure size 432x288 with 1 Axes>"
      ]
     },
     "metadata": {},
     "output_type": "display_data"
    }
   ],
   "source": [
    "#graphing age adjusted deat rate due to stroke in usa\n",
    "years3= [1999,2000,2001,2002,2003,2004,2005,2006,2007,2008,2009,2010,2011,2012,2013,2014,2015,2016]\n",
    "death_rate3 = [62,61,58,57,55,51,48,45,44,42,40,39,38,37,36,36,38,37]\n",
    "deaths=united_states['Deaths']\n",
    "plt.scatter([years3], [death_rate3], marker =\"o\", edgecolor=\"black\", s=deaths/5000, alpha=1)\n",
    "plt.title(\"Age-Adjusted Death Rate vs Year (USA Stroke)\")\n",
    "plt.ylabel(\"Age-Adjusted Death Rate (Stroke)\")\n",
    "plt.xlabel(\"Year\")\n",
    "#plt.grid(b=True, which='major', color='#666666', linestyle='-')"
   ]
  },
  {
   "cell_type": "code",
   "execution_count": 33,
   "metadata": {},
   "outputs": [
    {
     "data": {
      "text/html": [
       "<div>\n",
       "<style scoped>\n",
       "    .dataframe tbody tr th:only-of-type {\n",
       "        vertical-align: middle;\n",
       "    }\n",
       "\n",
       "    .dataframe tbody tr th {\n",
       "        vertical-align: top;\n",
       "    }\n",
       "\n",
       "    .dataframe thead th {\n",
       "        text-align: right;\n",
       "    }\n",
       "</style>\n",
       "<table border=\"1\" class=\"dataframe\">\n",
       "  <thead>\n",
       "    <tr style=\"text-align: right;\">\n",
       "      <th></th>\n",
       "      <th>Year</th>\n",
       "      <th>TXUR</th>\n",
       "    </tr>\n",
       "  </thead>\n",
       "  <tbody>\n",
       "    <tr>\n",
       "      <th>0</th>\n",
       "      <td>1999</td>\n",
       "      <td>4.67</td>\n",
       "    </tr>\n",
       "    <tr>\n",
       "      <th>1</th>\n",
       "      <td>2000</td>\n",
       "      <td>4.28</td>\n",
       "    </tr>\n",
       "    <tr>\n",
       "      <th>2</th>\n",
       "      <td>2001</td>\n",
       "      <td>4.96</td>\n",
       "    </tr>\n",
       "    <tr>\n",
       "      <th>3</th>\n",
       "      <td>2002</td>\n",
       "      <td>6.37</td>\n",
       "    </tr>\n",
       "    <tr>\n",
       "      <th>4</th>\n",
       "      <td>2003</td>\n",
       "      <td>6.69</td>\n",
       "    </tr>\n",
       "  </tbody>\n",
       "</table>\n",
       "</div>"
      ],
      "text/plain": [
       "   Year  TXUR\n",
       "0  1999  4.67\n",
       "1  2000  4.28\n",
       "2  2001  4.96\n",
       "3  2002  6.37\n",
       "4  2003  6.69"
      ]
     },
     "execution_count": 33,
     "metadata": {},
     "output_type": "execute_result"
    }
   ],
   "source": [
    "#importing tx unemployment data per year\n",
    "unemploy = \"Data/txunemploy.csv\"\n",
    "txunemploy = pd.read_csv(unemploy)\n",
    "txunemploy.head()"
   ]
  },
  {
   "cell_type": "code",
   "execution_count": 34,
   "metadata": {},
   "outputs": [
    {
     "data": {
      "text/html": [
       "<div>\n",
       "<style scoped>\n",
       "    .dataframe tbody tr th:only-of-type {\n",
       "        vertical-align: middle;\n",
       "    }\n",
       "\n",
       "    .dataframe tbody tr th {\n",
       "        vertical-align: top;\n",
       "    }\n",
       "\n",
       "    .dataframe thead th {\n",
       "        text-align: right;\n",
       "    }\n",
       "</style>\n",
       "<table border=\"1\" class=\"dataframe\">\n",
       "  <thead>\n",
       "    <tr style=\"text-align: right;\">\n",
       "      <th></th>\n",
       "      <th>Year</th>\n",
       "      <th>113 Cause Name</th>\n",
       "      <th>Cause Name</th>\n",
       "      <th>State</th>\n",
       "      <th>Deaths</th>\n",
       "      <th>Age-adjusted Death Rate</th>\n",
       "      <th>TXUR</th>\n",
       "    </tr>\n",
       "  </thead>\n",
       "  <tbody>\n",
       "    <tr>\n",
       "      <th>0</th>\n",
       "      <td>1999</td>\n",
       "      <td>Accidents (unintentional injuries) (V01-X59,Y8...</td>\n",
       "      <td>Unintentional injuries</td>\n",
       "      <td>Texas</td>\n",
       "      <td>7227</td>\n",
       "      <td>37.6</td>\n",
       "      <td>4.67</td>\n",
       "    </tr>\n",
       "    <tr>\n",
       "      <th>1</th>\n",
       "      <td>1999</td>\n",
       "      <td>Chronic lower respiratory diseases (J40-J47)</td>\n",
       "      <td>CLRD</td>\n",
       "      <td>Texas</td>\n",
       "      <td>7518</td>\n",
       "      <td>46.8</td>\n",
       "      <td>4.67</td>\n",
       "    </tr>\n",
       "    <tr>\n",
       "      <th>2</th>\n",
       "      <td>1999</td>\n",
       "      <td>All Causes</td>\n",
       "      <td>All causes</td>\n",
       "      <td>Texas</td>\n",
       "      <td>146858</td>\n",
       "      <td>886.6</td>\n",
       "      <td>4.67</td>\n",
       "    </tr>\n",
       "    <tr>\n",
       "      <th>3</th>\n",
       "      <td>1999</td>\n",
       "      <td>Intentional self-harm (suicide) (*U03,X60-X84,...</td>\n",
       "      <td>Suicide</td>\n",
       "      <td>Texas</td>\n",
       "      <td>2005</td>\n",
       "      <td>10.2</td>\n",
       "      <td>4.67</td>\n",
       "    </tr>\n",
       "    <tr>\n",
       "      <th>4</th>\n",
       "      <td>1999</td>\n",
       "      <td>Nephritis, nephrotic syndrome and nephrosis (N...</td>\n",
       "      <td>Kidney disease</td>\n",
       "      <td>Texas</td>\n",
       "      <td>1669</td>\n",
       "      <td>10.3</td>\n",
       "      <td>4.67</td>\n",
       "    </tr>\n",
       "  </tbody>\n",
       "</table>\n",
       "</div>"
      ],
      "text/plain": [
       "   Year                                     113 Cause Name  \\\n",
       "0  1999  Accidents (unintentional injuries) (V01-X59,Y8...   \n",
       "1  1999       Chronic lower respiratory diseases (J40-J47)   \n",
       "2  1999                                         All Causes   \n",
       "3  1999  Intentional self-harm (suicide) (*U03,X60-X84,...   \n",
       "4  1999  Nephritis, nephrotic syndrome and nephrosis (N...   \n",
       "\n",
       "               Cause Name  State  Deaths  Age-adjusted Death Rate  TXUR  \n",
       "0  Unintentional injuries  Texas    7227                     37.6  4.67  \n",
       "1                    CLRD  Texas    7518                     46.8  4.67  \n",
       "2              All causes  Texas  146858                    886.6  4.67  \n",
       "3                 Suicide  Texas    2005                     10.2  4.67  \n",
       "4          Kidney disease  Texas    1669                     10.3  4.67  "
      ]
     },
     "execution_count": 34,
     "metadata": {},
     "output_type": "execute_result"
    }
   ],
   "source": [
    "#Merge the TX unemployment data with the texas file\n",
    "texasandunemployment = pd.merge(texas,txunemploy, on=\"Year\",how=\"left\")\n",
    "texasandunemployment.head()"
   ]
  },
  {
   "cell_type": "code",
   "execution_count": 35,
   "metadata": {},
   "outputs": [
    {
     "data": {
      "image/png": "[encoded data removed]",
      "text/plain": [
       "<Figure size 432x288 with 1 Axes>"
      ]
     },
     "metadata": {},
     "output_type": "display_data"
    }
   ],
   "source": [
    "#TX uneployment vs age adjusted death rate for heart disease\n",
    "years4 = [1999,2000,2001,2002,2003,2004,2005,2006,2007,2008,2009,2010,2011,2012,2013,2014,2015,2016]\n",
    "unemployment = txunemploy[\"TXUR\"]\n",
    "Deaths = texas[\"Deaths\"]\n",
    "txunemployment = plt.scatter([years4], [unemployment], marker =\"o\", edgecolor=\"black\", s=75, alpha=1)\n",
    "plt.title(\"Uneployment Rates for the State of Texas\")\n",
    "plt.ylabel(\"Unemployment Rates\")\n",
    "plt.xlabel(\"Year\")\n",
    "plt.grid(b=True, which='major', color='#666666', linestyle='-')"
   ]
  },
  {
   "cell_type": "code",
   "execution_count": 36,
   "metadata": {},
   "outputs": [
    {
     "data": {
      "text/html": [
       "<div>\n",
       "<style scoped>\n",
       "    .dataframe tbody tr th:only-of-type {\n",
       "        vertical-align: middle;\n",
       "    }\n",
       "\n",
       "    .dataframe tbody tr th {\n",
       "        vertical-align: top;\n",
       "    }\n",
       "\n",
       "    .dataframe thead th {\n",
       "        text-align: right;\n",
       "    }\n",
       "</style>\n",
       "<table border=\"1\" class=\"dataframe\">\n",
       "  <thead>\n",
       "    <tr style=\"text-align: right;\">\n",
       "      <th></th>\n",
       "      <th>Year</th>\n",
       "      <th>Cause Name</th>\n",
       "      <th>Deaths</th>\n",
       "      <th>TXUR</th>\n",
       "    </tr>\n",
       "  </thead>\n",
       "  <tbody>\n",
       "    <tr>\n",
       "      <th>0</th>\n",
       "      <td>1999</td>\n",
       "      <td>Unintentional injuries</td>\n",
       "      <td>7227</td>\n",
       "      <td>4.67</td>\n",
       "    </tr>\n",
       "    <tr>\n",
       "      <th>1</th>\n",
       "      <td>1999</td>\n",
       "      <td>CLRD</td>\n",
       "      <td>7518</td>\n",
       "      <td>4.67</td>\n",
       "    </tr>\n",
       "    <tr>\n",
       "      <th>3</th>\n",
       "      <td>1999</td>\n",
       "      <td>Suicide</td>\n",
       "      <td>2005</td>\n",
       "      <td>4.67</td>\n",
       "    </tr>\n",
       "    <tr>\n",
       "      <th>4</th>\n",
       "      <td>1999</td>\n",
       "      <td>Kidney disease</td>\n",
       "      <td>1669</td>\n",
       "      <td>4.67</td>\n",
       "    </tr>\n",
       "    <tr>\n",
       "      <th>5</th>\n",
       "      <td>1999</td>\n",
       "      <td>Cancer</td>\n",
       "      <td>32755</td>\n",
       "      <td>4.67</td>\n",
       "    </tr>\n",
       "  </tbody>\n",
       "</table>\n",
       "</div>"
      ],
      "text/plain": [
       "   Year              Cause Name  Deaths  TXUR\n",
       "0  1999  Unintentional injuries    7227  4.67\n",
       "1  1999                    CLRD    7518  4.67\n",
       "3  1999                 Suicide    2005  4.67\n",
       "4  1999          Kidney disease    1669  4.67\n",
       "5  1999                  Cancer   32755  4.67"
      ]
     },
     "execution_count": 36,
     "metadata": {},
     "output_type": "execute_result"
    }
   ],
   "source": [
    "texasandunemployment2 = texasandunemployment[[\"Year\",\"Cause Name\",\"Deaths\",\"TXUR\"]]\n",
    "texasandunemployment2=texasandunemployment2.loc[texasandunemployment2['Cause Name']!=\"All causes\",:]\n",
    "texasandunemployment2.head()"
   ]
  },
  {
   "cell_type": "code",
   "execution_count": 37,
   "metadata": {},
   "outputs": [
    {
     "data": {
      "text/html": [
       "<div>\n",
       "<style scoped>\n",
       "    .dataframe tbody tr th:only-of-type {\n",
       "        vertical-align: middle;\n",
       "    }\n",
       "\n",
       "    .dataframe tbody tr th {\n",
       "        vertical-align: top;\n",
       "    }\n",
       "\n",
       "    .dataframe thead th {\n",
       "        text-align: right;\n",
       "    }\n",
       "</style>\n",
       "<table border=\"1\" class=\"dataframe\">\n",
       "  <thead>\n",
       "    <tr style=\"text-align: right;\">\n",
       "      <th></th>\n",
       "      <th></th>\n",
       "      <th>Deaths</th>\n",
       "    </tr>\n",
       "    <tr>\n",
       "      <th>TXUR</th>\n",
       "      <th>Year</th>\n",
       "      <th></th>\n",
       "    </tr>\n",
       "  </thead>\n",
       "  <tbody>\n",
       "    <tr>\n",
       "      <th rowspan=\"2\" valign=\"top\">4.28</th>\n",
       "      <th>2000</th>\n",
       "      <td>117706</td>\n",
       "    </tr>\n",
       "    <tr>\n",
       "      <th>2007</th>\n",
       "      <td>120158</td>\n",
       "    </tr>\n",
       "    <tr>\n",
       "      <th>4.43</th>\n",
       "      <th>2015</th>\n",
       "      <td>138204</td>\n",
       "    </tr>\n",
       "    <tr>\n",
       "      <th>4.63</th>\n",
       "      <th>2016</th>\n",
       "      <td>140361</td>\n",
       "    </tr>\n",
       "    <tr>\n",
       "      <th>4.67</th>\n",
       "      <th>1999</th>\n",
       "      <td>116304</td>\n",
       "    </tr>\n",
       "  </tbody>\n",
       "</table>\n",
       "</div>"
      ],
      "text/plain": [
       "           Deaths\n",
       "TXUR Year        \n",
       "4.28 2000  117706\n",
       "     2007  120158\n",
       "4.43 2015  138204\n",
       "4.63 2016  140361\n",
       "4.67 1999  116304"
      ]
     },
     "execution_count": 37,
     "metadata": {},
     "output_type": "execute_result"
    }
   ],
   "source": [
    "#Compare Texas unemployment to number of texas deaths caused by top 10 ailments\n",
    "texasandunemployment3=texasandunemployment2.groupby(['TXUR','Year']).sum()\n",
    "texasandunemployment3.head()"
   ]
  },
  {
   "cell_type": "code",
   "execution_count": 38,
   "metadata": {},
   "outputs": [
    {
     "data": {
      "text/html": [
       "<div>\n",
       "<style scoped>\n",
       "    .dataframe tbody tr th:only-of-type {\n",
       "        vertical-align: middle;\n",
       "    }\n",
       "\n",
       "    .dataframe tbody tr th {\n",
       "        vertical-align: top;\n",
       "    }\n",
       "\n",
       "    .dataframe thead th {\n",
       "        text-align: right;\n",
       "    }\n",
       "</style>\n",
       "<table border=\"1\" class=\"dataframe\">\n",
       "  <thead>\n",
       "    <tr style=\"text-align: right;\">\n",
       "      <th></th>\n",
       "      <th>TXUR</th>\n",
       "      <th>Year</th>\n",
       "      <th>Deaths</th>\n",
       "    </tr>\n",
       "  </thead>\n",
       "  <tbody>\n",
       "    <tr>\n",
       "      <th>0</th>\n",
       "      <td>4.28</td>\n",
       "      <td>2000</td>\n",
       "      <td>117706</td>\n",
       "    </tr>\n",
       "    <tr>\n",
       "      <th>1</th>\n",
       "      <td>4.28</td>\n",
       "      <td>2007</td>\n",
       "      <td>120158</td>\n",
       "    </tr>\n",
       "    <tr>\n",
       "      <th>2</th>\n",
       "      <td>4.43</td>\n",
       "      <td>2015</td>\n",
       "      <td>138204</td>\n",
       "    </tr>\n",
       "    <tr>\n",
       "      <th>3</th>\n",
       "      <td>4.63</td>\n",
       "      <td>2016</td>\n",
       "      <td>140361</td>\n",
       "    </tr>\n",
       "    <tr>\n",
       "      <th>4</th>\n",
       "      <td>4.67</td>\n",
       "      <td>1999</td>\n",
       "      <td>116304</td>\n",
       "    </tr>\n",
       "  </tbody>\n",
       "</table>\n",
       "</div>"
      ],
      "text/plain": [
       "   TXUR  Year  Deaths\n",
       "0  4.28  2000  117706\n",
       "1  4.28  2007  120158\n",
       "2  4.43  2015  138204\n",
       "3  4.63  2016  140361\n",
       "4  4.67  1999  116304"
      ]
     },
     "execution_count": 38,
     "metadata": {},
     "output_type": "execute_result"
    }
   ],
   "source": [
    "texasandunemployment4=texasandunemployment3.reset_index()\n",
    "texasandunemployment4.head()"
   ]
  },
  {
   "cell_type": "code",
   "execution_count": 39,
   "metadata": {},
   "outputs": [
    {
     "data": {
      "text/html": [
       "<div>\n",
       "<style scoped>\n",
       "    .dataframe tbody tr th:only-of-type {\n",
       "        vertical-align: middle;\n",
       "    }\n",
       "\n",
       "    .dataframe tbody tr th {\n",
       "        vertical-align: top;\n",
       "    }\n",
       "\n",
       "    .dataframe thead th {\n",
       "        text-align: right;\n",
       "    }\n",
       "</style>\n",
       "<table border=\"1\" class=\"dataframe\">\n",
       "  <thead>\n",
       "    <tr style=\"text-align: right;\">\n",
       "      <th></th>\n",
       "      <th>Year</th>\n",
       "      <th>TXUR</th>\n",
       "    </tr>\n",
       "  </thead>\n",
       "  <tbody>\n",
       "    <tr>\n",
       "      <th>0</th>\n",
       "      <td>1999</td>\n",
       "      <td>4.67</td>\n",
       "    </tr>\n",
       "    <tr>\n",
       "      <th>1</th>\n",
       "      <td>2000</td>\n",
       "      <td>4.28</td>\n",
       "    </tr>\n",
       "    <tr>\n",
       "      <th>2</th>\n",
       "      <td>2001</td>\n",
       "      <td>4.96</td>\n",
       "    </tr>\n",
       "    <tr>\n",
       "      <th>3</th>\n",
       "      <td>2002</td>\n",
       "      <td>6.37</td>\n",
       "    </tr>\n",
       "    <tr>\n",
       "      <th>4</th>\n",
       "      <td>2003</td>\n",
       "      <td>6.69</td>\n",
       "    </tr>\n",
       "  </tbody>\n",
       "</table>\n",
       "</div>"
      ],
      "text/plain": [
       "   Year  TXUR\n",
       "0  1999  4.67\n",
       "1  2000  4.28\n",
       "2  2001  4.96\n",
       "3  2002  6.37\n",
       "4  2003  6.69"
      ]
     },
     "execution_count": 39,
     "metadata": {},
     "output_type": "execute_result"
    }
   ],
   "source": [
    "txunemploy.head()"
   ]
  },
  {
   "cell_type": "code",
   "execution_count": 40,
   "metadata": {
    "scrolled": true
   },
   "outputs": [
    {
     "data": {
      "text/html": [
       "<div>\n",
       "<style scoped>\n",
       "    .dataframe tbody tr th:only-of-type {\n",
       "        vertical-align: middle;\n",
       "    }\n",
       "\n",
       "    .dataframe tbody tr th {\n",
       "        vertical-align: top;\n",
       "    }\n",
       "\n",
       "    .dataframe thead th {\n",
       "        text-align: right;\n",
       "    }\n",
       "</style>\n",
       "<table border=\"1\" class=\"dataframe\">\n",
       "  <thead>\n",
       "    <tr style=\"text-align: right;\">\n",
       "      <th></th>\n",
       "      <th>x</th>\n",
       "      <th>y1</th>\n",
       "      <th>y2</th>\n",
       "      <th>y3</th>\n",
       "      <th>y4</th>\n",
       "    </tr>\n",
       "  </thead>\n",
       "  <tbody>\n",
       "    <tr>\n",
       "      <th>0</th>\n",
       "      <td>1999</td>\n",
       "      <td>70.05</td>\n",
       "      <td>270</td>\n",
       "      <td>196</td>\n",
       "      <td>66</td>\n",
       "    </tr>\n",
       "    <tr>\n",
       "      <th>1</th>\n",
       "      <td>2000</td>\n",
       "      <td>64.20</td>\n",
       "      <td>264</td>\n",
       "      <td>196</td>\n",
       "      <td>67</td>\n",
       "    </tr>\n",
       "    <tr>\n",
       "      <th>2</th>\n",
       "      <td>2001</td>\n",
       "      <td>74.40</td>\n",
       "      <td>259</td>\n",
       "      <td>193</td>\n",
       "      <td>65</td>\n",
       "    </tr>\n",
       "    <tr>\n",
       "      <th>3</th>\n",
       "      <td>2002</td>\n",
       "      <td>95.55</td>\n",
       "      <td>256</td>\n",
       "      <td>192</td>\n",
       "      <td>64</td>\n",
       "    </tr>\n",
       "    <tr>\n",
       "      <th>4</th>\n",
       "      <td>2003</td>\n",
       "      <td>100.35</td>\n",
       "      <td>241</td>\n",
       "      <td>186</td>\n",
       "      <td>61</td>\n",
       "    </tr>\n",
       "  </tbody>\n",
       "</table>\n",
       "</div>"
      ],
      "text/plain": [
       "      x      y1   y2   y3  y4\n",
       "0  1999   70.05  270  196  66\n",
       "1  2000   64.20  264  196  67\n",
       "2  2001   74.40  259  193  65\n",
       "3  2002   95.55  256  192  64\n",
       "4  2003  100.35  241  186  61"
      ]
     },
     "execution_count": 40,
     "metadata": {},
     "output_type": "execute_result"
    }
   ],
   "source": [
    "#Data for Multiple Line Charts\n",
    "years6=[1999,2000,2001,2002,2003,2004,2005,2006,2007,2008,2009,2010,2011,2012,2013,2014,2015,2016]\n",
    "unemployment = txunemploy['TXUR']\n",
    "txhddr=[270,264,259,256,241,226,220,205,200,192,184,181,173,171,171,170,172,168]\n",
    "txcandr=[196,196,193,192,186,182,179,176,172,170,164,166,162,160,157,153,149,149]\n",
    "txstrdr=[66,67,65,64,61,57,52,50,52,49,45,44,42,42,40,42,43,42]\n",
    "\n",
    "drdf=pd.DataFrame({'x': years6, 'y1': unemployment*15, 'y2': txhddr, 'y3': txcandr, 'y4': txstrdr})\n",
    "drdf.head()\n",
    "\n",
    "\n",
    "\n"
   ]
  },
  {
   "cell_type": "code",
   "execution_count": 41,
   "metadata": {},
   "outputs": [
    {
     "name": "stderr",
     "output_type": "stream",
     "text": [
      "C:\\ProgramData\\Anaconda3\\lib\\site-packages\\ipykernel_launcher.py:1: RuntimeWarning: Second argument 'y1' is ambiguous: could be a color spec but is in data; using as data.  Either rename the entry in data or use three arguments to plot.\n",
      "  \"\"\"Entry point for launching an IPython kernel.\n",
      "C:\\ProgramData\\Anaconda3\\lib\\site-packages\\ipykernel_launcher.py:2: RuntimeWarning: Second argument 'y2' is ambiguous: could be a color spec but is in data; using as data.  Either rename the entry in data or use three arguments to plot.\n",
      "  \n",
      "C:\\ProgramData\\Anaconda3\\lib\\site-packages\\ipykernel_launcher.py:3: RuntimeWarning: Second argument 'y3' is ambiguous: could be a color spec but is in data; using as data.  Either rename the entry in data or use three arguments to plot.\n",
      "  This is separate from the ipykernel package so we can avoid doing imports until\n",
      "C:\\ProgramData\\Anaconda3\\lib\\site-packages\\ipykernel_launcher.py:4: RuntimeWarning: Second argument 'y4' is ambiguous: could be a color spec but is in data; using as data.  Either rename the entry in data or use three arguments to plot.\n",
      "  after removing the cwd from sys.path.\n"
     ]
    },
    {
     "data": {
      "image/png": "[encoded data removed]",
      "text/plain": [
       "<Figure size 432x288 with 1 Axes>"
      ]
     },
     "metadata": {},
     "output_type": "display_data"
    }
   ],
   "source": [
    "plt.plot( 'x', 'y1', data=drdf, marker='', markerfacecolor='blue', markersize=12, color='orange', linewidth=3, label=\"Unemploy Rt(20)\")\n",
    "plt.plot( 'x', 'y2', data=drdf, marker='o', color='blue', linewidth=3,linestyle=\"dotted\", label=\"Heart Disease\")\n",
    "plt.plot( 'x', 'y3', data=drdf, marker='v', color='green', linewidth=2, linestyle='dashed', label=\"Cancer\")\n",
    "plt.plot( 'x', 'y4', data=drdf, marker='s', color='red', linewidth=2, linestyle='dashed', label=\"Stroke\")\n",
    "plt.locator_params(integer=True)\n",
    "\n",
    "plt.text(1998, 300,\"Age-Adjusted Death Rate vs Year & Unemployment Trend\",fontsize = 12)\n",
    "plt.ylabel(\"Age-Adjusted Death Rate (3 Leading Causes)\")\n",
    "plt.xlabel(\"Year\")\n",
    "\n",
    "\n",
    "plt.legend()\n",
    "plt.savefig('txleadingcausesdremploytrend.png')\n",
    "\n"
   ]
  },
  {
   "cell_type": "code",
   "execution_count": 42,
   "metadata": {},
   "outputs": [],
   "source": [
    "import scipy.stats as stats"
   ]
  },
  {
   "cell_type": "code",
   "execution_count": 43,
   "metadata": {},
   "outputs": [
    {
     "name": "stdout",
     "output_type": "stream",
     "text": [
      "Choose a leading cause Cancer\n",
      "Choose another leading cause Heart Disease\n",
      "172.3666666666667\n",
      "nan\n"
     ]
    },
    {
     "data": {
      "text/plain": [
       "Ttest_indResult(statistic=nan, pvalue=nan)"
      ]
     },
     "execution_count": 43,
     "metadata": {},
     "output_type": "execute_result"
    }
   ],
   "source": [
    "#Conduct a T-test on 2 leading Causes of Death\n",
    "ailment2=input(f\"Choose a leading cause \")\n",
    "ailment3=input(f\"Choose another leading cause \")\n",
    "               \n",
    "texasandunemployment3 = texasandunemployment[[\"Year\",\"Cause Name\",\"Deaths\",\"Age-adjusted Death Rate\",\"TXUR\"]]\n",
    "texasandunemployment4=texasandunemployment3.loc[texasandunemployment3['Cause Name']!=\"All causes\",:]\n",
    "texasandunemployment4\n",
    "\n",
    "population1=texasandunemployment4[texasandunemployment4[\"Cause Name\"]==ailment2]\n",
    "print(population1['Age-adjusted Death Rate'].mean())\n",
    "\n",
    "population2=texasandunemployment4[texasandunemployment4[\"Cause Name\"]==ailment3]\n",
    "print(population2['Age-adjusted Death Rate'].mean())\n",
    "\n",
    "stats.ttest_ind(population1['Age-adjusted Death Rate'], population2['Age-adjusted Death Rate'], equal_var=False)\n",
    "\n",
    "                "
   ]
  },
  {
   "cell_type": "code",
   "execution_count": 44,
   "metadata": {},
   "outputs": [
    {
     "data": {
      "text/html": [
       "<div>\n",
       "<style scoped>\n",
       "    .dataframe tbody tr th:only-of-type {\n",
       "        vertical-align: middle;\n",
       "    }\n",
       "\n",
       "    .dataframe tbody tr th {\n",
       "        vertical-align: top;\n",
       "    }\n",
       "\n",
       "    .dataframe thead th {\n",
       "        text-align: right;\n",
       "    }\n",
       "</style>\n",
       "<table border=\"1\" class=\"dataframe\">\n",
       "  <thead>\n",
       "    <tr style=\"text-align: right;\">\n",
       "      <th></th>\n",
       "      <th>Year</th>\n",
       "      <th>CAUR</th>\n",
       "      <th>NYUR</th>\n",
       "    </tr>\n",
       "  </thead>\n",
       "  <tbody>\n",
       "    <tr>\n",
       "      <th>0</th>\n",
       "      <td>1999</td>\n",
       "      <td>5.23</td>\n",
       "      <td>5.18</td>\n",
       "    </tr>\n",
       "    <tr>\n",
       "      <th>1</th>\n",
       "      <td>2000</td>\n",
       "      <td>4.95</td>\n",
       "      <td>4.53</td>\n",
       "    </tr>\n",
       "    <tr>\n",
       "      <th>2</th>\n",
       "      <td>2001</td>\n",
       "      <td>5.43</td>\n",
       "      <td>4.83</td>\n",
       "    </tr>\n",
       "    <tr>\n",
       "      <th>3</th>\n",
       "      <td>2002</td>\n",
       "      <td>6.65</td>\n",
       "      <td>6.14</td>\n",
       "    </tr>\n",
       "    <tr>\n",
       "      <th>4</th>\n",
       "      <td>2003</td>\n",
       "      <td>6.80</td>\n",
       "      <td>6.39</td>\n",
       "    </tr>\n",
       "  </tbody>\n",
       "</table>\n",
       "</div>"
      ],
      "text/plain": [
       "   Year  CAUR  NYUR\n",
       "0  1999  5.23  5.18\n",
       "1  2000  4.95  4.53\n",
       "2  2001  5.43  4.83\n",
       "3  2002  6.65  6.14\n",
       "4  2003  6.80  6.39"
      ]
     },
     "execution_count": 44,
     "metadata": {},
     "output_type": "execute_result"
    }
   ],
   "source": [
    "unemployment19=\"Data/unemploymentrates.csv\"\n",
    "unemployment20=pd.read_csv(unemployment19)\n",
    "unemployment20.head()"
   ]
  },
  {
   "cell_type": "code",
   "execution_count": 45,
   "metadata": {},
   "outputs": [
    {
     "data": {
      "text/html": [
       "<div>\n",
       "<style scoped>\n",
       "    .dataframe tbody tr th:only-of-type {\n",
       "        vertical-align: middle;\n",
       "    }\n",
       "\n",
       "    .dataframe tbody tr th {\n",
       "        vertical-align: top;\n",
       "    }\n",
       "\n",
       "    .dataframe thead th {\n",
       "        text-align: right;\n",
       "    }\n",
       "</style>\n",
       "<table border=\"1\" class=\"dataframe\">\n",
       "  <thead>\n",
       "    <tr style=\"text-align: right;\">\n",
       "      <th></th>\n",
       "      <th>Year</th>\n",
       "      <th>Cause Name</th>\n",
       "      <th>State</th>\n",
       "      <th>Deaths</th>\n",
       "      <th>Age-adjusted Death Rate</th>\n",
       "      <th>TXUR</th>\n",
       "      <th>CAUR</th>\n",
       "      <th>NYUR</th>\n",
       "    </tr>\n",
       "  </thead>\n",
       "  <tbody>\n",
       "    <tr>\n",
       "      <th>67</th>\n",
       "      <td>1999</td>\n",
       "      <td>All causes</td>\n",
       "      <td>Texas</td>\n",
       "      <td>146858</td>\n",
       "      <td>886.6</td>\n",
       "      <td>4.67</td>\n",
       "      <td>5.23</td>\n",
       "      <td>5.18</td>\n",
       "    </tr>\n",
       "    <tr>\n",
       "      <th>1134</th>\n",
       "      <td>2000</td>\n",
       "      <td>All causes</td>\n",
       "      <td>Texas</td>\n",
       "      <td>149939</td>\n",
       "      <td>891.0</td>\n",
       "      <td>4.28</td>\n",
       "      <td>4.95</td>\n",
       "      <td>4.53</td>\n",
       "    </tr>\n",
       "    <tr>\n",
       "      <th>1310</th>\n",
       "      <td>2001</td>\n",
       "      <td>All causes</td>\n",
       "      <td>Texas</td>\n",
       "      <td>152779</td>\n",
       "      <td>888.9</td>\n",
       "      <td>4.96</td>\n",
       "      <td>5.43</td>\n",
       "      <td>4.83</td>\n",
       "    </tr>\n",
       "    <tr>\n",
       "      <th>2216</th>\n",
       "      <td>2002</td>\n",
       "      <td>All causes</td>\n",
       "      <td>Texas</td>\n",
       "      <td>155524</td>\n",
       "      <td>888.4</td>\n",
       "      <td>6.37</td>\n",
       "      <td>6.65</td>\n",
       "      <td>6.14</td>\n",
       "    </tr>\n",
       "    <tr>\n",
       "      <th>2324</th>\n",
       "      <td>2003</td>\n",
       "      <td>All causes</td>\n",
       "      <td>Texas</td>\n",
       "      <td>154870</td>\n",
       "      <td>865.1</td>\n",
       "      <td>6.69</td>\n",
       "      <td>6.80</td>\n",
       "      <td>6.39</td>\n",
       "    </tr>\n",
       "  </tbody>\n",
       "</table>\n",
       "</div>"
      ],
      "text/plain": [
       "      Year  Cause Name  State  Deaths  Age-adjusted Death Rate  TXUR  CAUR  \\\n",
       "67    1999  All causes  Texas  146858                    886.6  4.67  5.23   \n",
       "1134  2000  All causes  Texas  149939                    891.0  4.28  4.95   \n",
       "1310  2001  All causes  Texas  152779                    888.9  4.96  5.43   \n",
       "2216  2002  All causes  Texas  155524                    888.4  6.37  6.65   \n",
       "2324  2003  All causes  Texas  154870                    865.1  6.69  6.80   \n",
       "\n",
       "      NYUR  \n",
       "67    5.18  \n",
       "1134  4.53  \n",
       "1310  4.83  \n",
       "2216  6.14  \n",
       "2324  6.39  "
      ]
     },
     "execution_count": 45,
     "metadata": {},
     "output_type": "execute_result"
    }
   ],
   "source": [
    "deathdata1\n",
    "deathdata19=deathdata1[[\"Year\",\"Cause Name\", \"State\",\"Deaths\",\"Age-adjusted Death Rate\"]]\n",
    "deathdata19\n",
    "deathdata20 = pd.merge(deathdata19,txunemploy, on=\"Year\",how=\"left\")\n",
    "deathdata21 = pd.merge(deathdata20,unemployment20, on=\"Year\",how=\"left\")\n",
    "deathdata21texas =deathdata21[(deathdata21[\"State\"]==\"Texas\") & (deathdata21[\"Cause Name\"]==\"All causes\")]\n",
    "deathdata21newyork =deathdata21[(deathdata21[\"State\"]==\"New York\") & (deathdata21[\"Cause Name\"]==\"All causes\")]\n",
    "deathdata21cali =deathdata21[(deathdata21[\"State\"]==\"California\") & (deathdata21[\"Cause Name\"]==\"All causes\")]\n",
    "deathdata21texas.head()\n",
    "\n"
   ]
  },
  {
   "cell_type": "code",
   "execution_count": 46,
   "metadata": {},
   "outputs": [],
   "source": [
    "year25 = deathdata21texas[\"Year\"]\n",
    "data25=deathdata21texas['Age-adjusted Death Rate']\n",
    "data26=deathdata21cali['Age-adjusted Death Rate']\n",
    "data27=deathdata21newyork['Age-adjusted Death Rate']\n",
    "data28=deathdata21texas['TXUR']*45\n",
    "data29=deathdata21cali['CAUR']*45\n",
    "data30=deathdata21newyork['NYUR']*45\n",
    "\n",
    "\n"
   ]
  },
  {
   "cell_type": "code",
   "execution_count": 47,
   "metadata": {},
   "outputs": [
    {
     "data": {
      "image/png": "[encoded data removed]",
      "text/plain": [
       "<Figure size 432x288 with 1 Axes>"
      ]
     },
     "metadata": {},
     "output_type": "display_data"
    }
   ],
   "source": [
    "plt.plot(year25, data28, marker='', markerfacecolor='blue', markersize=12, color='orange', linewidth=3, label=\"Unemploy(TX)\")\n",
    "plt.plot( year25, data29, marker='', markerfacecolor='blue', markersize=12, color='purple', linewidth=3, label=\"Unemploy(CA)\")\n",
    "plt.plot( year25, data30, marker='', markerfacecolor='blue', markersize=12, color='lightgreen', linewidth=3, label=\"Unemploy(NY)\")\n",
    "plt.plot( year25, data25, marker='o', color='blue', linewidth=3,linestyle=\"dotted\", label=\"TX Death\")\n",
    "plt.plot( year25, data26, marker='v', color='green', linewidth=2, linestyle='dashed', label=\"CA Death\")\n",
    "plt.plot( year25, data27, marker='s', color='red', linewidth=2, linestyle='dashed', label=\"NY Death\")\n",
    "plt.locator_params(integer=True)\n",
    "\n",
    "plt.text(1998, 950,\"Age-Adjusted Death Rates vs Year & Unemployment Trend\",fontsize = 12)\n",
    "plt.ylabel(\"Age-Adjusted Death Rates & Unemployment Trends\")\n",
    "plt.xlabel(\"Year\")\n",
    "\n",
    "plt.legend()\n",
    "plt.savefig('statesdeathrateemploymenttrend.png')\n"
   ]
  },
  {
   "cell_type": "code",
   "execution_count": 48,
   "metadata": {},
   "outputs": [
    {
     "name": "stdout",
     "output_type": "stream",
     "text": [
      "Pearsons correlation(Texas): -0.241\n",
      "Pearsons correlation(California): -0.558\n",
      "Pearsons correlation(New York): -0.473\n"
     ]
    }
   ],
   "source": [
    "#Calculate Pearsons correlation for Texas Age-adjusted Death Rate and unemployment\n",
    "from scipy.stats import pearsonr\n",
    "data1= deathdata21texas[\"Age-adjusted Death Rate\"]\n",
    "data2= deathdata21texas[\"TXUR\"]\n",
    "\n",
    "corr, _ = pearsonr(data1, data2)\n",
    "print('Pearsons correlation(Texas): %.3f' % corr)\n",
    "#Calculate Pearsons correlation for CAlifornia Age-adjusted Death Rate and unemployment\n",
    "data3= deathdata21cali[\"Age-adjusted Death Rate\"]\n",
    "data4= deathdata21cali[\"CAUR\"]\n",
    "\n",
    "corr, _ = pearsonr(data3, data4)\n",
    "print('Pearsons correlation(California): %.3f' % corr)\n",
    "\n",
    "#Calculate Pearsons correlation for New York Age-adjusted Death Rate and unemployment\n",
    "data5= deathdata21newyork[\"Age-adjusted Death Rate\"]\n",
    "data6= deathdata21newyork[\"NYUR\"]\n",
    "\n",
    "corr, _ = pearsonr(data5, data6)\n",
    "print('Pearsons correlation(New York): %.3f' % corr)\n"
   ]
  },
  {
   "cell_type": "code",
   "execution_count": 49,
   "metadata": {},
   "outputs": [
    {
     "name": "stdout",
     "output_type": "stream",
     "text": [
      "Pearsons correlation(Texas and California unemployment rates): 0.883\n"
     ]
    }
   ],
   "source": [
    "#Correlation for Texas and California unemployment\n",
    "corr, _ = pearsonr(data2, data4)\n",
    "print('Pearsons correlation(Texas and California unemployment rates): %.3f' % corr)"
   ]
  },
  {
   "cell_type": "code",
   "execution_count": 50,
   "metadata": {},
   "outputs": [
    {
     "name": "stdout",
     "output_type": "stream",
     "text": [
      "Pearsons correlation(Texas and California unemployment rates): 0.910\n"
     ]
    }
   ],
   "source": [
    "#Correlation for Texas and New York unemployment\n",
    "corr, _ = pearsonr(data2, data6)\n",
    "print('Pearsons correlation(Texas and California unemployment rates): %.3f' % corr)"
   ]
  },
  {
   "cell_type": "code",
   "execution_count": 51,
   "metadata": {},
   "outputs": [
    {
     "name": "stdout",
     "output_type": "stream",
     "text": [
      "Pearsons correlation(Texas and California unemployment rates): 0.966\n"
     ]
    }
   ],
   "source": [
    "#Correlation for California and New York unemployment\n",
    "corr, _ = pearsonr(data4, data6)\n",
    "print('Pearsons correlation(Texas and California unemployment rates): %.3f' % corr)"
   ]
  },
  {
   "cell_type": "markdown",
   "metadata": {},
   "source": [
    "# How does the dataset look like from a Nationwide Stand Point?\n",
    "# What do the leading Causes of death look like for each state? How are\n",
    "# they distributed?"
   ]
  },
  {
   "cell_type": "code",
   "execution_count": 52,
   "metadata": {},
   "outputs": [
    {
     "data": {
      "text/html": [
       "<div>\n",
       "<style scoped>\n",
       "    .dataframe tbody tr th:only-of-type {\n",
       "        vertical-align: middle;\n",
       "    }\n",
       "\n",
       "    .dataframe tbody tr th {\n",
       "        vertical-align: top;\n",
       "    }\n",
       "\n",
       "    .dataframe thead th {\n",
       "        text-align: right;\n",
       "    }\n",
       "</style>\n",
       "<table border=\"1\" class=\"dataframe\">\n",
       "  <thead>\n",
       "    <tr style=\"text-align: right;\">\n",
       "      <th></th>\n",
       "      <th>code</th>\n",
       "      <th>State</th>\n",
       "      <th>Deaths</th>\n",
       "    </tr>\n",
       "  </thead>\n",
       "  <tbody>\n",
       "    <tr>\n",
       "      <th>0</th>\n",
       "      <td>AL</td>\n",
       "      <td>Alabama</td>\n",
       "      <td>1510931</td>\n",
       "    </tr>\n",
       "    <tr>\n",
       "      <th>1</th>\n",
       "      <td>AK</td>\n",
       "      <td>Alaska</td>\n",
       "      <td>110361</td>\n",
       "    </tr>\n",
       "    <tr>\n",
       "      <th>2</th>\n",
       "      <td>AZ</td>\n",
       "      <td>Arizona</td>\n",
       "      <td>1471757</td>\n",
       "    </tr>\n",
       "    <tr>\n",
       "      <th>3</th>\n",
       "      <td>AR</td>\n",
       "      <td>Arkansas</td>\n",
       "      <td>929634</td>\n",
       "    </tr>\n",
       "    <tr>\n",
       "      <th>4</th>\n",
       "      <td>CA</td>\n",
       "      <td>California</td>\n",
       "      <td>7694563</td>\n",
       "    </tr>\n",
       "  </tbody>\n",
       "</table>\n",
       "</div>"
      ],
      "text/plain": [
       "  code       State   Deaths\n",
       "0   AL     Alabama  1510931\n",
       "1   AK      Alaska   110361\n",
       "2   AZ     Arizona  1471757\n",
       "3   AR    Arkansas   929634\n",
       "4   CA  California  7694563"
      ]
     },
     "execution_count": 52,
     "metadata": {},
     "output_type": "execute_result"
    }
   ],
   "source": [
    "# Creating a dataframe to hold state and total deaths\n",
    "# Combine list of State names in Alphabetical order\n",
    "# Get State Codes for each state. Maintain the same order with State List. These codes will be used to create\n",
    "# and Populate United States map for Leading Causes of Death\n",
    "\n",
    "\n",
    "state_names = ['Alabama','Alaska','Arizona','Arkansas','California','Colorado',\n",
    "                                                'Connecticut','Delaware','Florida','Georgia','Hawaii','Idaho','Illinois',\n",
    "                                                'Indiana','Iowa','Kansas','Kentucky','Louisiana','Maine','Maryland',\n",
    "                                                'Massachusetts','Michigan','Minnesota','Mississippi','Missouri','Montana',\n",
    "                                                'Nebraska','Nevada','New Hampshire','New Jersey','New Mexico','New York',\n",
    "                                                'North Carolina','North Dakota','Ohio','Oklahoma','Oregon','Pennsylvania',\n",
    "                                                'Rhode Island','South Carolina','South Dakota','Tennessee','Texas',\n",
    "                                                'Utah','Vermont','Virginia','Washington','West Virginia','Wisconsin',\n",
    "                                                'Wyoming']\n",
    "\n",
    "df_state_total_deaths = pd.DataFrame({'code':  [\"AL\", \"AK\", \"AZ\", \"AR\", \"CA\", \"CO\", \"CT\", \"DE\", \"FL\", \"GA\", \n",
    "                                                \"HI\", \"ID\", \"IL\", \"IN\", \"IA\", \"KS\", \"KY\", \"LA\", \"ME\", \"MD\", \n",
    "                                                \"MA\", \"MI\", \"MN\", \"MS\", \"MO\", \"MT\", \"NE\", \"NV\", \"NH\", \"NJ\", \n",
    "                                                \"NM\", \"NY\", \"NC\", \"ND\", \"OH\", \"OK\", \"OR\", \"PA\", \"RI\", \"SC\", \n",
    "                                                \"SD\", \"TN\", \"TX\", \"UT\", \"VT\", \"VA\", \"WA\", \"WV\", \"WI\", \"WY\"],\n",
    "                                      'State': state_names, \n",
    "                                     'Deaths': [alabama.Deaths.sum(),alaska.Deaths.sum(),\n",
    "                                                arizona.Deaths.sum(),arkansas.Deaths.sum(),california.Deaths.sum(),\n",
    "                                                colorado.Deaths.sum(),connecticut.Deaths.sum(),delaware.Deaths.sum(),\n",
    "                                                florida.Deaths.sum(),georgia.Deaths.sum(),hawaii.Deaths.sum(),\n",
    "                                                idaho.Deaths.sum(),illinois.Deaths.sum(),indiana.Deaths.sum(),\n",
    "                                                iowa.Deaths.sum(),kansas.Deaths.sum(),kentucky.Deaths.sum(),\n",
    "                                                louisiana.Deaths.sum(),maine.Deaths.sum(),maryland.Deaths.sum(),\n",
    "                                                massachusetts.Deaths.sum(),michigan.Deaths.sum(),minnesota.Deaths.sum(),\n",
    "                                                mississippi.Deaths.sum(),missouri.Deaths.sum(),montana.Deaths.sum(),\n",
    "                                                nebraska.Deaths.sum(),nevada.Deaths.sum(),new_hampshire.Deaths.sum(),\n",
    "                                                new_jersey.Deaths.sum(),new_mexico.Deaths.sum(),new_york.Deaths.sum(),\n",
    "                                                north_carolina.Deaths.sum(),north_dakota.Deaths.sum(),ohio.Deaths.sum(),\n",
    "                                                oklahoma.Deaths.sum(),oregon.Deaths.sum(),pennsylvania.Deaths.sum(),\n",
    "                                                rhode_island.Deaths.sum(),south_carolina.Deaths.sum(),\n",
    "                                                south_dakota.Deaths.sum(),tennessee.Deaths.sum(),texas.Deaths.sum(),\n",
    "                                                utah.Deaths.sum(),vermont.Deaths.sum(),virginia.Deaths.sum(),\n",
    "                                                washington.Deaths.sum(),west_virginia.Deaths.sum(),\n",
    "                                                wisconsin.Deaths.sum(),wyoming.Deaths.sum()]})\n",
    "df_state_total_deaths.head()\n"
   ]
  },
  {
   "cell_type": "markdown",
   "metadata": {},
   "source": [
    "## Total Number of Deaths in United States for all States - "
   ]
  },
  {
   "cell_type": "code",
   "execution_count": 71,
   "metadata": {},
   "outputs": [
    {
     "data": {
      "application/vnd.plotly.v1+json": {
       "config": {
        "plotlyServerURL": "https://plot.ly"
       },
       "data": [
        {
         "colorbar": {
          "title": {
           "text": "Millions USD"
          }
         },
         "colorscale": [
          [
           0,
           "rgb(255,247,236)"
          ],
          [
           0.125,
           "rgb(254,232,200)"
          ],
          [
           0.25,
           "rgb(253,212,158)"
          ],
          [
           0.375,
           "rgb(253,187,132)"
          ],
          [
           0.5,
           "rgb(252,141,89)"
          ],
          [
           0.625,
           "rgb(239,101,72)"
          ],
          [
           0.75,
           "rgb(215,48,31)"
          ],
          [
           0.875,
           "rgb(179,0,0)"
          ],
          [
           1,
           "rgb(127,0,0)"
          ]
         ],
         "locationmode": "USA-states",
         "locations": [
          "AL",
          "AK",
          "AZ",
          "AR",
          "CA",
          "CO",
          "CT",
          "DE",
          "FL",
          "GA",
          "HI",
          "ID",
          "IL",
          "IN",
          "IA",
          "KS",
          "KY",
          "LA",
          "ME",
          "MD",
          "MA",
          "MI",
          "MN",
          "MS",
          "MO",
          "MT",
          "NE",
          "NV",
          "NH",
          "NJ",
          "NM",
          "NY",
          "NC",
          "ND",
          "OH",
          "OK",
          "OR",
          "PA",
          "RI",
          "SC",
          "SD",
          "TN",
          "TX",
          "UT",
          "VT",
          "VA",
          "WA",
          "WV",
          "WI",
          "WY"
         ],
         "text": [
          "Alabama",
          "Alaska",
          "Arizona",
          "Arkansas",
          "California",
          "Colorado",
          "Connecticut",
          "Delaware",
          "Florida",
          "Georgia",
          "Hawaii",
          "Idaho",
          "Illinois",
          "Indiana",
          "Iowa",
          "Kansas",
          "Kentucky",
          "Louisiana",
          "Maine",
          "Maryland",
          "Massachusetts",
          "Michigan",
          "Minnesota",
          "Mississippi",
          "Missouri",
          "Montana",
          "Nebraska",
          "Nevada",
          "New Hampshire",
          "New Jersey",
          "New Mexico",
          "New York",
          "North Carolina",
          "North Dakota",
          "Ohio",
          "Oklahoma",
          "Oregon",
          "Pennsylvania",
          "Rhode Island",
          "South Carolina",
          "South Dakota",
          "Tennessee",
          "Texas",
          "Utah",
          "Vermont",
          "Virginia",
          "Washington",
          "West Virginia",
          "Wisconsin",
          "Wyoming"
         ],
         "type": "choropleth",
         "z": [
          1510931,
          110361,
          1471757,
          929634,
          7694563,
          973746,
          927612,
          238935,
          5512136,
          2182235,
          300668,
          351070,
          3299528,
          1821157,
          901497,
          785398,
          1340426,
          1329242,
          407962,
          1384915,
          1712812,
          2839241,
          1212223,
          935091,
          1796910,
          277255,
          484109,
          609031,
          332283,
          2267451,
          489205,
          4889235,
          2447232,
          191032,
          3501123,
          1171193,
          1001266,
          4069680,
          310105,
          1279233,
          230111,
          1889824,
          5192340,
          441702,
          168797,
          1871444,
          1535878,
          681657,
          1515656,
          136865
         ]
        }
       ],
       "layout": {
        "geo": {
         "scope": "usa"
        },
        "template": {
         "data": {
          "bar": [
           {
            "error_x": {
             "color": "#2a3f5f"
            },
            "error_y": {
             "color": "#2a3f5f"
            },
            "marker": {
             "line": {
              "color": "#E5ECF6",
              "width": 0.5
             }
            },
            "type": "bar"
           }
          ],
          "barpolar": [
           {
            "marker": {
             "line": {
              "color": "#E5ECF6",
              "width": 0.5
             }
            },
            "type": "barpolar"
           }
          ],
          "carpet": [
           {
            "aaxis": {
             "endlinecolor": "#2a3f5f",
             "gridcolor": "white",
             "linecolor": "white",
             "minorgridcolor": "white",
             "startlinecolor": "#2a3f5f"
            },
            "baxis": {
             "endlinecolor": "#2a3f5f",
             "gridcolor": "white",
             "linecolor": "white",
             "minorgridcolor": "white",
             "startlinecolor": "#2a3f5f"
            },
            "type": "carpet"
           }
          ],
          "choropleth": [
           {
            "colorbar": {
             "outlinewidth": 0,
             "ticks": ""
            },
            "type": "choropleth"
           }
          ],
          "contour": [
           {
            "colorbar": {
             "outlinewidth": 0,
             "ticks": ""
            },
            "colorscale": [
             [
              0,
              "#0d0887"
             ],
             [
              0.1111111111111111,
              "#46039f"
             ],
             [
              0.2222222222222222,
              "#7201a8"
             ],
             [
              0.3333333333333333,
              "#9c179e"
             ],
             [
              0.4444444444444444,
              "#bd3786"
             ],
             [
              0.5555555555555556,
              "#d8576b"
             ],
             [
              0.6666666666666666,
              "#ed7953"
             ],
             [
              0.7777777777777778,
              "#fb9f3a"
             ],
             [
              0.8888888888888888,
              "#fdca26"
             ],
             [
              1,
              "#f0f921"
             ]
            ],
            "type": "contour"
           }
          ],
          "contourcarpet": [
           {
            "colorbar": {
             "outlinewidth": 0,
             "ticks": ""
            },
            "type": "contourcarpet"
           }
          ],
          "heatmap": [
           {
            "colorbar": {
             "outlinewidth": 0,
             "ticks": ""
            },
            "colorscale": [
             [
              0,
              "#0d0887"
             ],
             [
              0.1111111111111111,
              "#46039f"
             ],
             [
              0.2222222222222222,
              "#7201a8"
             ],
             [
              0.3333333333333333,
              "#9c179e"
             ],
             [
              0.4444444444444444,
              "#bd3786"
             ],
             [
              0.5555555555555556,
              "#d8576b"
             ],
             [
              0.6666666666666666,
              "#ed7953"
             ],
             [
              0.7777777777777778,
              "#fb9f3a"
             ],
             [
              0.8888888888888888,
              "#fdca26"
             ],
             [
              1,
              "#f0f921"
             ]
            ],
            "type": "heatmap"
           }
          ],
          "heatmapgl": [
           {
            "colorbar": {
             "outlinewidth": 0,
             "ticks": ""
            },
            "colorscale": [
             [
              0,
              "#0d0887"
             ],
             [
              0.1111111111111111,
              "#46039f"
             ],
             [
              0.2222222222222222,
              "#7201a8"
             ],
             [
              0.3333333333333333,
              "#9c179e"
             ],
             [
              0.4444444444444444,
              "#bd3786"
             ],
             [
              0.5555555555555556,
              "#d8576b"
             ],
             [
              0.6666666666666666,
              "#ed7953"
             ],
             [
              0.7777777777777778,
              "#fb9f3a"
             ],
             [
              0.8888888888888888,
              "#fdca26"
             ],
             [
              1,
              "#f0f921"
             ]
            ],
            "type": "heatmapgl"
           }
          ],
          "histogram": [
           {
            "marker": {
             "colorbar": {
              "outlinewidth": 0,
              "ticks": ""
             }
            },
            "type": "histogram"
           }
          ],
          "histogram2d": [
           {
            "colorbar": {
             "outlinewidth": 0,
             "ticks": ""
            },
            "colorscale": [
             [
              0,
              "#0d0887"
             ],
             [
              0.1111111111111111,
              "#46039f"
             ],
             [
              0.2222222222222222,
              "#7201a8"
             ],
             [
              0.3333333333333333,
              "#9c179e"
             ],
             [
              0.4444444444444444,
              "#bd3786"
             ],
             [
              0.5555555555555556,
              "#d8576b"
             ],
             [
              0.6666666666666666,
              "#ed7953"
             ],
             [
              0.7777777777777778,
              "#fb9f3a"
             ],
             [
              0.8888888888888888,
              "#fdca26"
             ],
             [
              1,
              "#f0f921"
             ]
            ],
            "type": "histogram2d"
           }
          ],
          "histogram2dcontour": [
           {
            "colorbar": {
             "outlinewidth": 0,
             "ticks": ""
            },
            "colorscale": [
             [
              0,
              "#0d0887"
             ],
             [
              0.1111111111111111,
              "#46039f"
             ],
             [
              0.2222222222222222,
              "#7201a8"
             ],
             [
              0.3333333333333333,
              "#9c179e"
             ],
             [
              0.4444444444444444,
              "#bd3786"
             ],
             [
              0.5555555555555556,
              "#d8576b"
             ],
             [
              0.6666666666666666,
              "#ed7953"
             ],
             [
              0.7777777777777778,
              "#fb9f3a"
             ],
             [
              0.8888888888888888,
              "#fdca26"
             ],
             [
              1,
              "#f0f921"
             ]
            ],
            "type": "histogram2dcontour"
           }
          ],
          "mesh3d": [
           {
            "colorbar": {
             "outlinewidth": 0,
             "ticks": ""
            },
            "type": "mesh3d"
           }
          ],
          "parcoords": [
           {
            "line": {
             "colorbar": {
              "outlinewidth": 0,
              "ticks": ""
             }
            },
            "type": "parcoords"
           }
          ],
          "scatter": [
           {
            "marker": {
             "colorbar": {
              "outlinewidth": 0,
              "ticks": ""
             }
            },
            "type": "scatter"
           }
          ],
          "scatter3d": [
           {
            "line": {
             "colorbar": {
              "outlinewidth": 0,
              "ticks": ""
             }
            },
            "marker": {
             "colorbar": {
              "outlinewidth": 0,
              "ticks": ""
             }
            },
            "type": "scatter3d"
           }
          ],
          "scattercarpet": [
           {
            "marker": {
             "colorbar": {
              "outlinewidth": 0,
              "ticks": ""
             }
            },
            "type": "scattercarpet"
           }
          ],
          "scattergeo": [
           {
            "marker": {
             "colorbar": {
              "outlinewidth": 0,
              "ticks": ""
             }
            },
            "type": "scattergeo"
           }
          ],
          "scattergl": [
           {
            "marker": {
             "colorbar": {
              "outlinewidth": 0,
              "ticks": ""
             }
            },
            "type": "scattergl"
           }
          ],
          "scattermapbox": [
           {
            "marker": {
             "colorbar": {
              "outlinewidth": 0,
              "ticks": ""
             }
            },
            "type": "scattermapbox"
           }
          ],
          "scatterpolar": [
           {
            "marker": {
             "colorbar": {
              "outlinewidth": 0,
              "ticks": ""
             }
            },
            "type": "scatterpolar"
           }
          ],
          "scatterpolargl": [
           {
            "marker": {
             "colorbar": {
              "outlinewidth": 0,
              "ticks": ""
             }
            },
            "type": "scatterpolargl"
           }
          ],
          "scatterternary": [
           {
            "marker": {
             "colorbar": {
              "outlinewidth": 0,
              "ticks": ""
             }
            },
            "type": "scatterternary"
           }
          ],
          "surface": [
           {
            "colorbar": {
             "outlinewidth": 0,
             "ticks": ""
            },
            "colorscale": [
             [
              0,
              "#0d0887"
             ],
             [
              0.1111111111111111,
              "#46039f"
             ],
             [
              0.2222222222222222,
              "#7201a8"
             ],
             [
              0.3333333333333333,
              "#9c179e"
             ],
             [
              0.4444444444444444,
              "#bd3786"
             ],
             [
              0.5555555555555556,
              "#d8576b"
             ],
             [
              0.6666666666666666,
              "#ed7953"
             ],
             [
              0.7777777777777778,
              "#fb9f3a"
             ],
             [
              0.8888888888888888,
              "#fdca26"
             ],
             [
              1,
              "#f0f921"
             ]
            ],
            "type": "surface"
           }
          ],
          "table": [
           {
            "cells": {
             "fill": {
              "color": "#EBF0F8"
             },
             "line": {
              "color": "white"
             }
            },
            "header": {
             "fill": {
              "color": "#C8D4E3"
             },
             "line": {
              "color": "white"
             }
            },
            "type": "table"
           }
          ]
         },
         "layout": {
          "annotationdefaults": {
           "arrowcolor": "#2a3f5f",
           "arrowhead": 0,
           "arrowwidth": 1
          },
          "colorscale": {
           "diverging": [
            [
             0,
             "#8e0152"
            ],
            [
             0.1,
             "#c51b7d"
            ],
            [
             0.2,
             "#de77ae"
            ],
            [
             0.3,
             "#f1b6da"
            ],
            [
             0.4,
             "#fde0ef"
            ],
            [
             0.5,
             "#f7f7f7"
            ],
            [
             0.6,
             "#e6f5d0"
            ],
            [
             0.7,
             "#b8e186"
            ],
            [
             0.8,
             "#7fbc41"
            ],
            [
             0.9,
             "#4d9221"
            ],
            [
             1,
             "#276419"
            ]
           ],
           "sequential": [
            [
             0,
             "#0d0887"
            ],
            [
             0.1111111111111111,
             "#46039f"
            ],
            [
             0.2222222222222222,
             "#7201a8"
            ],
            [
             0.3333333333333333,
             "#9c179e"
            ],
            [
             0.4444444444444444,
             "#bd3786"
            ],
            [
             0.5555555555555556,
             "#d8576b"
            ],
            [
             0.6666666666666666,
             "#ed7953"
            ],
            [
             0.7777777777777778,
             "#fb9f3a"
            ],
            [
             0.8888888888888888,
             "#fdca26"
            ],
            [
             1,
             "#f0f921"
            ]
           ],
           "sequentialminus": [
            [
             0,
             "#0d0887"
            ],
            [
             0.1111111111111111,
             "#46039f"
            ],
            [
             0.2222222222222222,
             "#7201a8"
            ],
            [
             0.3333333333333333,
             "#9c179e"
            ],
            [
             0.4444444444444444,
             "#bd3786"
            ],
            [
             0.5555555555555556,
             "#d8576b"
            ],
            [
             0.6666666666666666,
             "#ed7953"
            ],
            [
             0.7777777777777778,
             "#fb9f3a"
            ],
            [
             0.8888888888888888,
             "#fdca26"
            ],
            [
             1,
             "#f0f921"
            ]
           ]
          },
          "colorway": [
           "#636efa",
           "#EF553B",
           "#00cc96",
           "#ab63fa",
           "#FFA15A",
           "#19d3f3",
           "#FF6692",
           "#B6E880",
           "#FF97FF",
           "#FECB52"
          ],
          "font": {
           "color": "#2a3f5f"
          },
          "geo": {
           "bgcolor": "white",
           "lakecolor": "white",
           "landcolor": "#E5ECF6",
           "showlakes": true,
           "showland": true,
           "subunitcolor": "white"
          },
          "hoverlabel": {
           "align": "left"
          },
          "hovermode": "closest",
          "mapbox": {
           "style": "light"
          },
          "paper_bgcolor": "white",
          "plot_bgcolor": "#E5ECF6",
          "polar": {
           "angularaxis": {
            "gridcolor": "white",
            "linecolor": "white",
            "ticks": ""
           },
           "bgcolor": "#E5ECF6",
           "radialaxis": {
            "gridcolor": "white",
            "linecolor": "white",
            "ticks": ""
           }
          },
          "scene": {
           "xaxis": {
            "backgroundcolor": "#E5ECF6",
            "gridcolor": "white",
            "gridwidth": 2,
            "linecolor": "white",
            "showbackground": true,
            "ticks": "",
            "zerolinecolor": "white"
           },
           "yaxis": {
            "backgroundcolor": "#E5ECF6",
            "gridcolor": "white",
            "gridwidth": 2,
            "linecolor": "white",
            "showbackground": true,
            "ticks": "",
            "zerolinecolor": "white"
           },
           "zaxis": {
            "backgroundcolor": "#E5ECF6",
            "gridcolor": "white",
            "gridwidth": 2,
            "linecolor": "white",
            "showbackground": true,
            "ticks": "",
            "zerolinecolor": "white"
           }
          },
          "shapedefaults": {
           "line": {
            "color": "#2a3f5f"
           }
          },
          "ternary": {
           "aaxis": {
            "gridcolor": "white",
            "linecolor": "white",
            "ticks": ""
           },
           "baxis": {
            "gridcolor": "white",
            "linecolor": "white",
            "ticks": ""
           },
           "bgcolor": "#E5ECF6",
           "caxis": {
            "gridcolor": "white",
            "linecolor": "white",
            "ticks": ""
           }
          },
          "title": {
           "x": 0.05
          },
          "xaxis": {
           "automargin": true,
           "gridcolor": "white",
           "linecolor": "white",
           "ticks": "",
           "zerolinecolor": "white",
           "zerolinewidth": 2
          },
          "yaxis": {
           "automargin": true,
           "gridcolor": "white",
           "linecolor": "white",
           "ticks": "",
           "zerolinecolor": "white",
           "zerolinewidth": 2
          }
         }
        },
        "title": {
         "text": "Total Deaths by State"
        }
       }
      },
      "text/html": [
       "<div>\n",
       "        \n",
       "        \n",
       "            <div id=\"8fc30677-91a1-4283-9553-843a06cf6fcb\" class=\"plotly-graph-div\" style=\"height:525px; width:100%;\"></div>\n",
       "            <script type=\"text/javascript\">\n",
       "                require([\"plotly\"], function(Plotly) {\n",
       "                    window.PLOTLYENV=window.PLOTLYENV || {};\n",
       "                    \n",
       "                if (document.getElementById(\"8fc30677-91a1-4283-9553-843a06cf6fcb\")) {\n",
       "                    Plotly.newPlot(\n",
       "                        '8fc30677-91a1-4283-9553-843a06cf6fcb',\n",
       "                        [{\"colorbar\": {\"title\": {\"text\": \"Millions USD\"}}, \"colorscale\": [[0.0, \"rgb(255,247,236)\"], [0.125, \"rgb(254,232,200)\"], [0.25, \"rgb(253,212,158)\"], [0.375, \"rgb(253,187,132)\"], [0.5, \"rgb(252,141,89)\"], [0.625, \"rgb(239,101,72)\"], [0.75, \"rgb(215,48,31)\"], [0.875, \"rgb(179,0,0)\"], [1.0, \"rgb(127,0,0)\"]], \"locationmode\": \"USA-states\", \"locations\": [\"AL\", \"AK\", \"AZ\", \"AR\", \"CA\", \"CO\", \"CT\", \"DE\", \"FL\", \"GA\", \"HI\", \"ID\", \"IL\", \"IN\", \"IA\", \"KS\", \"KY\", \"LA\", \"ME\", \"MD\", \"MA\", \"MI\", \"MN\", \"MS\", \"MO\", \"MT\", \"NE\", \"NV\", \"NH\", \"NJ\", \"NM\", \"NY\", \"NC\", \"ND\", \"OH\", \"OK\", \"OR\", \"PA\", \"RI\", \"SC\", \"SD\", \"TN\", \"TX\", \"UT\", \"VT\", \"VA\", \"WA\", \"WV\", \"WI\", \"WY\"], \"text\": [\"Alabama\", \"Alaska\", \"Arizona\", \"Arkansas\", \"California\", \"Colorado\", \"Connecticut\", \"Delaware\", \"Florida\", \"Georgia\", \"Hawaii\", \"Idaho\", \"Illinois\", \"Indiana\", \"Iowa\", \"Kansas\", \"Kentucky\", \"Louisiana\", \"Maine\", \"Maryland\", \"Massachusetts\", \"Michigan\", \"Minnesota\", \"Mississippi\", \"Missouri\", \"Montana\", \"Nebraska\", \"Nevada\", \"New Hampshire\", \"New Jersey\", \"New Mexico\", \"New York\", \"North Carolina\", \"North Dakota\", \"Ohio\", \"Oklahoma\", \"Oregon\", \"Pennsylvania\", \"Rhode Island\", \"South Carolina\", \"South Dakota\", \"Tennessee\", \"Texas\", \"Utah\", \"Vermont\", \"Virginia\", \"Washington\", \"West Virginia\", \"Wisconsin\", \"Wyoming\"], \"type\": \"choropleth\", \"z\": [1510931, 110361, 1471757, 929634, 7694563, 973746, 927612, 238935, 5512136, 2182235, 300668, 351070, 3299528, 1821157, 901497, 785398, 1340426, 1329242, 407962, 1384915, 1712812, 2839241, 1212223, 935091, 1796910, 277255, 484109, 609031, 332283, 2267451, 489205, 4889235, 2447232, 191032, 3501123, 1171193, 1001266, 4069680, 310105, 1279233, 230111, 1889824, 5192340, 441702, 168797, 1871444, 1535878, 681657, 1515656, 136865]}],\n",
       "                        {\"geo\": {\"scope\": \"usa\"}, \"template\": {\"data\": {\"bar\": [{\"error_x\": {\"color\": \"#2a3f5f\"}, \"error_y\": {\"color\": \"#2a3f5f\"}, \"marker\": {\"line\": {\"color\": \"#E5ECF6\", \"width\": 0.5}}, \"type\": \"bar\"}], \"barpolar\": [{\"marker\": {\"line\": {\"color\": \"#E5ECF6\", \"width\": 0.5}}, \"type\": \"barpolar\"}], \"carpet\": [{\"aaxis\": {\"endlinecolor\": \"#2a3f5f\", \"gridcolor\": \"white\", \"linecolor\": \"white\", \"minorgridcolor\": \"white\", \"startlinecolor\": \"#2a3f5f\"}, \"baxis\": {\"endlinecolor\": \"#2a3f5f\", \"gridcolor\": \"white\", \"linecolor\": \"white\", \"minorgridcolor\": \"white\", \"startlinecolor\": \"#2a3f5f\"}, \"type\": \"carpet\"}], \"choropleth\": [{\"colorbar\": {\"outlinewidth\": 0, \"ticks\": \"\"}, \"type\": \"choropleth\"}], \"contour\": [{\"colorbar\": {\"outlinewidth\": 0, \"ticks\": \"\"}, \"colorscale\": [[0.0, \"#0d0887\"], [0.1111111111111111, \"#46039f\"], [0.2222222222222222, \"#7201a8\"], [0.3333333333333333, \"#9c179e\"], [0.4444444444444444, \"#bd3786\"], [0.5555555555555556, \"#d8576b\"], [0.6666666666666666, \"#ed7953\"], [0.7777777777777778, \"#fb9f3a\"], [0.8888888888888888, \"#fdca26\"], [1.0, \"#f0f921\"]], \"type\": \"contour\"}], \"contourcarpet\": [{\"colorbar\": {\"outlinewidth\": 0, \"ticks\": \"\"}, \"type\": \"contourcarpet\"}], \"heatmap\": [{\"colorbar\": {\"outlinewidth\": 0, \"ticks\": \"\"}, \"colorscale\": [[0.0, \"#0d0887\"], [0.1111111111111111, \"#46039f\"], [0.2222222222222222, \"#7201a8\"], [0.3333333333333333, \"#9c179e\"], [0.4444444444444444, \"#bd3786\"], [0.5555555555555556, \"#d8576b\"], [0.6666666666666666, \"#ed7953\"], [0.7777777777777778, \"#fb9f3a\"], [0.8888888888888888, \"#fdca26\"], [1.0, \"#f0f921\"]], \"type\": \"heatmap\"}], \"heatmapgl\": [{\"colorbar\": {\"outlinewidth\": 0, \"ticks\": \"\"}, \"colorscale\": [[0.0, \"#0d0887\"], [0.1111111111111111, \"#46039f\"], [0.2222222222222222, \"#7201a8\"], [0.3333333333333333, \"#9c179e\"], [0.4444444444444444, \"#bd3786\"], [0.5555555555555556, \"#d8576b\"], [0.6666666666666666, \"#ed7953\"], [0.7777777777777778, \"#fb9f3a\"], [0.8888888888888888, \"#fdca26\"], [1.0, \"#f0f921\"]], \"type\": \"heatmapgl\"}], \"histogram\": [{\"marker\": {\"colorbar\": {\"outlinewidth\": 0, \"ticks\": \"\"}}, \"type\": \"histogram\"}], \"histogram2d\": [{\"colorbar\": {\"outlinewidth\": 0, \"ticks\": \"\"}, \"colorscale\": [[0.0, \"#0d0887\"], [0.1111111111111111, \"#46039f\"], [0.2222222222222222, \"#7201a8\"], [0.3333333333333333, \"#9c179e\"], [0.4444444444444444, \"#bd3786\"], [0.5555555555555556, \"#d8576b\"], [0.6666666666666666, \"#ed7953\"], [0.7777777777777778, \"#fb9f3a\"], [0.8888888888888888, \"#fdca26\"], [1.0, \"#f0f921\"]], \"type\": \"histogram2d\"}], \"histogram2dcontour\": [{\"colorbar\": {\"outlinewidth\": 0, \"ticks\": \"\"}, \"colorscale\": [[0.0, \"#0d0887\"], [0.1111111111111111, \"#46039f\"], [0.2222222222222222, \"#7201a8\"], [0.3333333333333333, \"#9c179e\"], [0.4444444444444444, \"#bd3786\"], [0.5555555555555556, \"#d8576b\"], [0.6666666666666666, \"#ed7953\"], [0.7777777777777778, \"#fb9f3a\"], [0.8888888888888888, \"#fdca26\"], [1.0, \"#f0f921\"]], \"type\": \"histogram2dcontour\"}], \"mesh3d\": [{\"colorbar\": {\"outlinewidth\": 0, \"ticks\": \"\"}, \"type\": \"mesh3d\"}], \"parcoords\": [{\"line\": {\"colorbar\": {\"outlinewidth\": 0, \"ticks\": \"\"}}, \"type\": \"parcoords\"}], \"scatter\": [{\"marker\": {\"colorbar\": {\"outlinewidth\": 0, \"ticks\": \"\"}}, \"type\": \"scatter\"}], \"scatter3d\": [{\"line\": {\"colorbar\": {\"outlinewidth\": 0, \"ticks\": \"\"}}, \"marker\": {\"colorbar\": {\"outlinewidth\": 0, \"ticks\": \"\"}}, \"type\": \"scatter3d\"}], \"scattercarpet\": [{\"marker\": {\"colorbar\": {\"outlinewidth\": 0, \"ticks\": \"\"}}, \"type\": \"scattercarpet\"}], \"scattergeo\": [{\"marker\": {\"colorbar\": {\"outlinewidth\": 0, \"ticks\": \"\"}}, \"type\": \"scattergeo\"}], \"scattergl\": [{\"marker\": {\"colorbar\": {\"outlinewidth\": 0, \"ticks\": \"\"}}, \"type\": \"scattergl\"}], \"scattermapbox\": [{\"marker\": {\"colorbar\": {\"outlinewidth\": 0, \"ticks\": \"\"}}, \"type\": \"scattermapbox\"}], \"scatterpolar\": [{\"marker\": {\"colorbar\": {\"outlinewidth\": 0, \"ticks\": \"\"}}, \"type\": \"scatterpolar\"}], \"scatterpolargl\": [{\"marker\": {\"colorbar\": {\"outlinewidth\": 0, \"ticks\": \"\"}}, \"type\": \"scatterpolargl\"}], \"scatterternary\": [{\"marker\": {\"colorbar\": {\"outlinewidth\": 0, \"ticks\": \"\"}}, \"type\": \"scatterternary\"}], \"surface\": [{\"colorbar\": {\"outlinewidth\": 0, \"ticks\": \"\"}, \"colorscale\": [[0.0, \"#0d0887\"], [0.1111111111111111, \"#46039f\"], [0.2222222222222222, \"#7201a8\"], [0.3333333333333333, \"#9c179e\"], [0.4444444444444444, \"#bd3786\"], [0.5555555555555556, \"#d8576b\"], [0.6666666666666666, \"#ed7953\"], [0.7777777777777778, \"#fb9f3a\"], [0.8888888888888888, \"#fdca26\"], [1.0, \"#f0f921\"]], \"type\": \"surface\"}], \"table\": [{\"cells\": {\"fill\": {\"color\": \"#EBF0F8\"}, \"line\": {\"color\": \"white\"}}, \"header\": {\"fill\": {\"color\": \"#C8D4E3\"}, \"line\": {\"color\": \"white\"}}, \"type\": \"table\"}]}, \"layout\": {\"annotationdefaults\": {\"arrowcolor\": \"#2a3f5f\", \"arrowhead\": 0, \"arrowwidth\": 1}, \"colorscale\": {\"diverging\": [[0, \"#8e0152\"], [0.1, \"#c51b7d\"], [0.2, \"#de77ae\"], [0.3, \"#f1b6da\"], [0.4, \"#fde0ef\"], [0.5, \"#f7f7f7\"], [0.6, \"#e6f5d0\"], [0.7, \"#b8e186\"], [0.8, \"#7fbc41\"], [0.9, \"#4d9221\"], [1, \"#276419\"]], \"sequential\": [[0.0, \"#0d0887\"], [0.1111111111111111, \"#46039f\"], [0.2222222222222222, \"#7201a8\"], [0.3333333333333333, \"#9c179e\"], [0.4444444444444444, \"#bd3786\"], [0.5555555555555556, \"#d8576b\"], [0.6666666666666666, \"#ed7953\"], [0.7777777777777778, \"#fb9f3a\"], [0.8888888888888888, \"#fdca26\"], [1.0, \"#f0f921\"]], \"sequentialminus\": [[0.0, \"#0d0887\"], [0.1111111111111111, \"#46039f\"], [0.2222222222222222, \"#7201a8\"], [0.3333333333333333, \"#9c179e\"], [0.4444444444444444, \"#bd3786\"], [0.5555555555555556, \"#d8576b\"], [0.6666666666666666, \"#ed7953\"], [0.7777777777777778, \"#fb9f3a\"], [0.8888888888888888, \"#fdca26\"], [1.0, \"#f0f921\"]]}, \"colorway\": [\"#636efa\", \"#EF553B\", \"#00cc96\", \"#ab63fa\", \"#FFA15A\", \"#19d3f3\", \"#FF6692\", \"#B6E880\", \"#FF97FF\", \"#FECB52\"], \"font\": {\"color\": \"#2a3f5f\"}, \"geo\": {\"bgcolor\": \"white\", \"lakecolor\": \"white\", \"landcolor\": \"#E5ECF6\", \"showlakes\": true, \"showland\": true, \"subunitcolor\": \"white\"}, \"hoverlabel\": {\"align\": \"left\"}, \"hovermode\": \"closest\", \"mapbox\": {\"style\": \"light\"}, \"paper_bgcolor\": \"white\", \"plot_bgcolor\": \"#E5ECF6\", \"polar\": {\"angularaxis\": {\"gridcolor\": \"white\", \"linecolor\": \"white\", \"ticks\": \"\"}, \"bgcolor\": \"#E5ECF6\", \"radialaxis\": {\"gridcolor\": \"white\", \"linecolor\": \"white\", \"ticks\": \"\"}}, \"scene\": {\"xaxis\": {\"backgroundcolor\": \"#E5ECF6\", \"gridcolor\": \"white\", \"gridwidth\": 2, \"linecolor\": \"white\", \"showbackground\": true, \"ticks\": \"\", \"zerolinecolor\": \"white\"}, \"yaxis\": {\"backgroundcolor\": \"#E5ECF6\", \"gridcolor\": \"white\", \"gridwidth\": 2, \"linecolor\": \"white\", \"showbackground\": true, \"ticks\": \"\", \"zerolinecolor\": \"white\"}, \"zaxis\": {\"backgroundcolor\": \"#E5ECF6\", \"gridcolor\": \"white\", \"gridwidth\": 2, \"linecolor\": \"white\", \"showbackground\": true, \"ticks\": \"\", \"zerolinecolor\": \"white\"}}, \"shapedefaults\": {\"line\": {\"color\": \"#2a3f5f\"}}, \"ternary\": {\"aaxis\": {\"gridcolor\": \"white\", \"linecolor\": \"white\", \"ticks\": \"\"}, \"baxis\": {\"gridcolor\": \"white\", \"linecolor\": \"white\", \"ticks\": \"\"}, \"bgcolor\": \"#E5ECF6\", \"caxis\": {\"gridcolor\": \"white\", \"linecolor\": \"white\", \"ticks\": \"\"}}, \"title\": {\"x\": 0.05}, \"xaxis\": {\"automargin\": true, \"gridcolor\": \"white\", \"linecolor\": \"white\", \"ticks\": \"\", \"zerolinecolor\": \"white\", \"zerolinewidth\": 2}, \"yaxis\": {\"automargin\": true, \"gridcolor\": \"white\", \"linecolor\": \"white\", \"ticks\": \"\", \"zerolinecolor\": \"white\", \"zerolinewidth\": 2}}}, \"title\": {\"text\": \"Total Deaths by State\"}},\n",
       "                        {\"responsive\": true}\n",
       "                    ).then(function(){\n",
       "                            \n",
       "var gd = document.getElementById('8fc30677-91a1-4283-9553-843a06cf6fcb');\n",
       "var x = new MutationObserver(function (mutations, observer) {{\n",
       "        var display = window.getComputedStyle(gd).display;\n",
       "        if (!display || display === 'none') {{\n",
       "            console.log([gd, 'removed!']);\n",
       "            Plotly.purge(gd);\n",
       "            observer.disconnect();\n",
       "        }}\n",
       "}});\n",
       "\n",
       "// Listen for the removal of the full notebook cells\n",
       "var notebookContainer = gd.closest('#notebook-container');\n",
       "if (notebookContainer) {{\n",
       "    x.observe(notebookContainer, {childList: true});\n",
       "}}\n",
       "\n",
       "// Listen for the clearing of the current output cell\n",
       "var outputEl = gd.closest('.output');\n",
       "if (outputEl) {{\n",
       "    x.observe(outputEl, {childList: true});\n",
       "}}\n",
       "\n",
       "                        })\n",
       "                };\n",
       "                });\n",
       "            </script>\n",
       "        </div>"
      ]
     },
     "metadata": {},
     "output_type": "display_data"
    }
   ],
   "source": [
    "# A nationwide view of all states along with number of deaths for each state - \n",
    "import plotly.graph_objects as go\n",
    "\n",
    "fig = go.Figure(data=go.Choropleth(\n",
    "    locations=df_state_total_deaths['code'], # Spatial coordinates\n",
    "    z = df_state_total_deaths['Deaths'], # Data to be color-coded\n",
    "    locationmode = 'USA-states', # set of locations match entries in `locations`\n",
    "    colorscale = 'OrRd',\n",
    "    colorbar_title = \"Millions USD\",\n",
    "    text = df_state_total_deaths['State'] \n",
    "))\n",
    "\n",
    "fig.update_layout(\n",
    "    title_text = 'Total Deaths by State',\n",
    "    geo_scope='usa', # limited map scope to USA\n",
    ")\n",
    "\n",
    "fig.show()"
   ]
  },
  {
   "cell_type": "code",
   "execution_count": 54,
   "metadata": {},
   "outputs": [],
   "source": [
    "# Combine the dataframe to hold State, Total Deaths, Leading cause of death and total deaths for that leading cause\n",
    "death_data_state = deathdata1\n",
    "death_data_state = death_data_state[death_data_state['Cause Name'] != 'All causes']\n",
    "death_data_state1 = death_data_state.groupby(['State','Cause Name'])['Deaths'].sum()\n",
    "p = pd.DataFrame(death_data_state1)\n",
    "state_highest_cause_list = []\n",
    "state_highest_death_list = []\n",
    "\n",
    "for name in state_names:\n",
    "    p_temp = p.loc[name]\n",
    "    p_temp=p_temp.sort_values('Deaths', ascending=False)\n",
    "    p_temp = p_temp.reset_index()\n",
    "    cause_name_temp = p_temp.iloc[0]['Cause Name']\n",
    "    death_cause_temp = p_temp.iloc[0]['Deaths']\n",
    "    state_highest_cause_list.append(p_temp.iloc[0]['Cause Name'])\n",
    "    state_highest_death_list.append(p_temp.iloc[0]['Deaths'])\n"
   ]
  },
  {
   "cell_type": "code",
   "execution_count": null,
   "metadata": {},
   "outputs": [],
   "source": [
    "df_state_total_deaths['Leading cause of death'] = state_highest_cause_list\n",
    "df_state_total_deaths['Leading Cause Total Deaths'] = state_highest_death_list\n",
    "df_state_total_deaths['Leading Cause Proportion'] = round((df_state_total_deaths['Leading Cause Total Deaths'] / df_state_total_deaths['Deaths']) * 100,2)\n",
    "df_state_total_deaths.head()"
   ]
  },
  {
   "cell_type": "markdown",
   "metadata": {},
   "source": [
    "## Nationwide Data \n",
    "### Leading Causes of Deaths in United States\n",
    "#### This code gives you the option to analyze the data at a particular state level too"
   ]
  },
  {
   "cell_type": "code",
   "execution_count": 55,
   "metadata": {},
   "outputs": [],
   "source": [
    "#Import Insurance Data\n",
    "data_insurance = \"Data/raw_data.csv\"\n",
    "\n",
    "#csv to pandas\n",
    "data_insurance = pd.read_csv(data_insurance)\n",
    "data = pd.read_csv(deathdata)"
   ]
  },
  {
   "cell_type": "code",
   "execution_count": 56,
   "metadata": {},
   "outputs": [
    {
     "data": {
      "text/html": [
       "<div>\n",
       "<style scoped>\n",
       "    .dataframe tbody tr th:only-of-type {\n",
       "        vertical-align: middle;\n",
       "    }\n",
       "\n",
       "    .dataframe tbody tr th {\n",
       "        vertical-align: top;\n",
       "    }\n",
       "\n",
       "    .dataframe thead th {\n",
       "        text-align: right;\n",
       "    }\n",
       "</style>\n",
       "<table border=\"1\" class=\"dataframe\">\n",
       "  <thead>\n",
       "    <tr style=\"text-align: right;\">\n",
       "      <th></th>\n",
       "      <th>Year</th>\n",
       "      <th>Cause Name</th>\n",
       "      <th>State</th>\n",
       "      <th>Deaths</th>\n",
       "      <th>Age-adjusted Death Rate</th>\n",
       "    </tr>\n",
       "  </thead>\n",
       "  <tbody>\n",
       "    <tr>\n",
       "      <th>0</th>\n",
       "      <td>2012</td>\n",
       "      <td>Kidney disease</td>\n",
       "      <td>Vermont</td>\n",
       "      <td>21</td>\n",
       "      <td>2.6</td>\n",
       "    </tr>\n",
       "    <tr>\n",
       "      <th>1</th>\n",
       "      <td>2016</td>\n",
       "      <td>Kidney disease</td>\n",
       "      <td>Vermont</td>\n",
       "      <td>30</td>\n",
       "      <td>3.7</td>\n",
       "    </tr>\n",
       "    <tr>\n",
       "      <th>2</th>\n",
       "      <td>2013</td>\n",
       "      <td>Kidney disease</td>\n",
       "      <td>Vermont</td>\n",
       "      <td>30</td>\n",
       "      <td>3.8</td>\n",
       "    </tr>\n",
       "    <tr>\n",
       "      <th>3</th>\n",
       "      <td>2000</td>\n",
       "      <td>Suicide</td>\n",
       "      <td>District of Columbia</td>\n",
       "      <td>23</td>\n",
       "      <td>3.8</td>\n",
       "    </tr>\n",
       "    <tr>\n",
       "      <th>4</th>\n",
       "      <td>2014</td>\n",
       "      <td>Kidney disease</td>\n",
       "      <td>Arizona</td>\n",
       "      <td>325</td>\n",
       "      <td>4.1</td>\n",
       "    </tr>\n",
       "  </tbody>\n",
       "</table>\n",
       "</div>"
      ],
      "text/plain": [
       "   Year      Cause Name                 State  Deaths  Age-adjusted Death Rate\n",
       "0  2012  Kidney disease               Vermont      21                      2.6\n",
       "1  2016  Kidney disease               Vermont      30                      3.7\n",
       "2  2013  Kidney disease               Vermont      30                      3.8\n",
       "3  2000         Suicide  District of Columbia      23                      3.8\n",
       "4  2014  Kidney disease               Arizona     325                      4.1"
      ]
     },
     "execution_count": 56,
     "metadata": {},
     "output_type": "execute_result"
    }
   ],
   "source": [
    "# Dataframe with columns we need\n",
    "data = data[['Year', 'Cause Name', 'State', 'Deaths',\n",
    "       'Age-adjusted Death Rate']]\n",
    "data.head()"
   ]
  },
  {
   "cell_type": "code",
   "execution_count": 58,
   "metadata": {},
   "outputs": [
    {
     "name": "stdout",
     "output_type": "stream",
     "text": [
      "['Vermont' 'District of Columbia' 'Arizona' 'South Dakota' 'Washington'\n",
      " 'Iowa' 'New York' 'Massachusetts' 'New Jersey' 'California'\n",
      " 'North Dakota' 'Rhode Island' 'Alaska' 'Oregon' 'Wyoming' 'Idaho'\n",
      " 'Connecticut' 'Minnesota' 'Illinois' 'Montana' 'New Hampshire' 'Hawaii'\n",
      " 'Maryland' 'Florida' 'Colorado' 'Nevada' 'Utah' 'Delaware' 'New Mexico'\n",
      " 'Nebraska' 'Ohio' 'Michigan' 'Maine' 'Tennessee' 'Pennsylvania' 'Texas'\n",
      " 'Georgia' 'Louisiana' 'Indiana' 'United States' 'Mississippi'\n",
      " 'South Carolina' 'Virginia' 'Kansas' 'Wisconsin' 'North Carolina'\n",
      " 'Alabama' 'Kentucky' 'Missouri' 'Oklahoma' 'West Virginia' 'Arkansas']\n",
      "Pick a state from the list: United States\n",
      "(180, 5)\n"
     ]
    },
    {
     "data": {
      "text/html": [
       "<div>\n",
       "<style scoped>\n",
       "    .dataframe tbody tr th:only-of-type {\n",
       "        vertical-align: middle;\n",
       "    }\n",
       "\n",
       "    .dataframe tbody tr th {\n",
       "        vertical-align: top;\n",
       "    }\n",
       "\n",
       "    .dataframe thead tr th {\n",
       "        text-align: left;\n",
       "    }\n",
       "\n",
       "    .dataframe thead tr:last-of-type th {\n",
       "        text-align: right;\n",
       "    }\n",
       "</style>\n",
       "<table border=\"1\" class=\"dataframe\">\n",
       "  <thead>\n",
       "    <tr>\n",
       "      <th></th>\n",
       "      <th colspan=\"10\" halign=\"left\">Age-adjusted Death Rate</th>\n",
       "      <th colspan=\"10\" halign=\"left\">Deaths</th>\n",
       "    </tr>\n",
       "    <tr>\n",
       "      <th>Cause Name</th>\n",
       "      <th>Alzheimer's disease</th>\n",
       "      <th>CLRD</th>\n",
       "      <th>Cancer</th>\n",
       "      <th>Diabetes</th>\n",
       "      <th>Heart disease</th>\n",
       "      <th>Influenza and pneumonia</th>\n",
       "      <th>Kidney disease</th>\n",
       "      <th>Stroke</th>\n",
       "      <th>Suicide</th>\n",
       "      <th>Unintentional injuries</th>\n",
       "      <th>Alzheimer's disease</th>\n",
       "      <th>CLRD</th>\n",
       "      <th>Cancer</th>\n",
       "      <th>Diabetes</th>\n",
       "      <th>Heart disease</th>\n",
       "      <th>Influenza and pneumonia</th>\n",
       "      <th>Kidney disease</th>\n",
       "      <th>Stroke</th>\n",
       "      <th>Suicide</th>\n",
       "      <th>Unintentional injuries</th>\n",
       "    </tr>\n",
       "    <tr>\n",
       "      <th>Year</th>\n",
       "      <th></th>\n",
       "      <th></th>\n",
       "      <th></th>\n",
       "      <th></th>\n",
       "      <th></th>\n",
       "      <th></th>\n",
       "      <th></th>\n",
       "      <th></th>\n",
       "      <th></th>\n",
       "      <th></th>\n",
       "      <th></th>\n",
       "      <th></th>\n",
       "      <th></th>\n",
       "      <th></th>\n",
       "      <th></th>\n",
       "      <th></th>\n",
       "      <th></th>\n",
       "      <th></th>\n",
       "      <th></th>\n",
       "      <th></th>\n",
       "    </tr>\n",
       "  </thead>\n",
       "  <tbody>\n",
       "    <tr>\n",
       "      <th>1999</th>\n",
       "      <td>16.5</td>\n",
       "      <td>45.4</td>\n",
       "      <td>200.8</td>\n",
       "      <td>25.0</td>\n",
       "      <td>266.5</td>\n",
       "      <td>23.5</td>\n",
       "      <td>13.0</td>\n",
       "      <td>61.6</td>\n",
       "      <td>10.5</td>\n",
       "      <td>35.3</td>\n",
       "      <td>44536</td>\n",
       "      <td>124181</td>\n",
       "      <td>549838</td>\n",
       "      <td>68399</td>\n",
       "      <td>725192</td>\n",
       "      <td>63730</td>\n",
       "      <td>35525</td>\n",
       "      <td>167366</td>\n",
       "      <td>29199</td>\n",
       "      <td>97860</td>\n",
       "    </tr>\n",
       "    <tr>\n",
       "      <th>2000</th>\n",
       "      <td>18.1</td>\n",
       "      <td>44.2</td>\n",
       "      <td>199.6</td>\n",
       "      <td>25.1</td>\n",
       "      <td>257.6</td>\n",
       "      <td>23.7</td>\n",
       "      <td>13.5</td>\n",
       "      <td>60.9</td>\n",
       "      <td>10.4</td>\n",
       "      <td>34.9</td>\n",
       "      <td>49558</td>\n",
       "      <td>122009</td>\n",
       "      <td>553091</td>\n",
       "      <td>69301</td>\n",
       "      <td>710760</td>\n",
       "      <td>65313</td>\n",
       "      <td>37251</td>\n",
       "      <td>167661</td>\n",
       "      <td>29350</td>\n",
       "      <td>97900</td>\n",
       "    </tr>\n",
       "    <tr>\n",
       "      <th>2001</th>\n",
       "      <td>19.3</td>\n",
       "      <td>43.9</td>\n",
       "      <td>196.5</td>\n",
       "      <td>25.4</td>\n",
       "      <td>249.5</td>\n",
       "      <td>22.2</td>\n",
       "      <td>14.1</td>\n",
       "      <td>58.4</td>\n",
       "      <td>10.7</td>\n",
       "      <td>35.7</td>\n",
       "      <td>53852</td>\n",
       "      <td>123013</td>\n",
       "      <td>553768</td>\n",
       "      <td>71372</td>\n",
       "      <td>700142</td>\n",
       "      <td>62034</td>\n",
       "      <td>39480</td>\n",
       "      <td>163538</td>\n",
       "      <td>30622</td>\n",
       "      <td>101537</td>\n",
       "    </tr>\n",
       "    <tr>\n",
       "      <th>2002</th>\n",
       "      <td>20.8</td>\n",
       "      <td>43.9</td>\n",
       "      <td>194.3</td>\n",
       "      <td>25.6</td>\n",
       "      <td>244.6</td>\n",
       "      <td>23.2</td>\n",
       "      <td>14.4</td>\n",
       "      <td>57.2</td>\n",
       "      <td>11.0</td>\n",
       "      <td>37.1</td>\n",
       "      <td>58866</td>\n",
       "      <td>124816</td>\n",
       "      <td>557271</td>\n",
       "      <td>73249</td>\n",
       "      <td>696947</td>\n",
       "      <td>65681</td>\n",
       "      <td>40974</td>\n",
       "      <td>162672</td>\n",
       "      <td>31655</td>\n",
       "      <td>106742</td>\n",
       "    </tr>\n",
       "    <tr>\n",
       "      <th>2003</th>\n",
       "      <td>22.1</td>\n",
       "      <td>43.7</td>\n",
       "      <td>190.9</td>\n",
       "      <td>25.5</td>\n",
       "      <td>236.3</td>\n",
       "      <td>22.6</td>\n",
       "      <td>14.7</td>\n",
       "      <td>54.6</td>\n",
       "      <td>10.8</td>\n",
       "      <td>37.6</td>\n",
       "      <td>63457</td>\n",
       "      <td>126382</td>\n",
       "      <td>556902</td>\n",
       "      <td>74219</td>\n",
       "      <td>685089</td>\n",
       "      <td>65163</td>\n",
       "      <td>42453</td>\n",
       "      <td>157689</td>\n",
       "      <td>31484</td>\n",
       "      <td>109277</td>\n",
       "    </tr>\n",
       "    <tr>\n",
       "      <th>2004</th>\n",
       "      <td>22.6</td>\n",
       "      <td>41.6</td>\n",
       "      <td>186.8</td>\n",
       "      <td>24.8</td>\n",
       "      <td>221.6</td>\n",
       "      <td>20.4</td>\n",
       "      <td>14.5</td>\n",
       "      <td>51.2</td>\n",
       "      <td>11.0</td>\n",
       "      <td>38.1</td>\n",
       "      <td>65965</td>\n",
       "      <td>121987</td>\n",
       "      <td>553888</td>\n",
       "      <td>73138</td>\n",
       "      <td>652486</td>\n",
       "      <td>59664</td>\n",
       "      <td>42480</td>\n",
       "      <td>150074</td>\n",
       "      <td>32439</td>\n",
       "      <td>112012</td>\n",
       "    </tr>\n",
       "    <tr>\n",
       "      <th>2005</th>\n",
       "      <td>24.0</td>\n",
       "      <td>43.9</td>\n",
       "      <td>185.1</td>\n",
       "      <td>24.9</td>\n",
       "      <td>216.8</td>\n",
       "      <td>21.0</td>\n",
       "      <td>14.7</td>\n",
       "      <td>48.0</td>\n",
       "      <td>10.9</td>\n",
       "      <td>39.5</td>\n",
       "      <td>71599</td>\n",
       "      <td>130933</td>\n",
       "      <td>559312</td>\n",
       "      <td>75119</td>\n",
       "      <td>652091</td>\n",
       "      <td>63001</td>\n",
       "      <td>43901</td>\n",
       "      <td>143579</td>\n",
       "      <td>32637</td>\n",
       "      <td>117809</td>\n",
       "    </tr>\n",
       "    <tr>\n",
       "      <th>2006</th>\n",
       "      <td>23.7</td>\n",
       "      <td>41.0</td>\n",
       "      <td>181.8</td>\n",
       "      <td>23.6</td>\n",
       "      <td>205.5</td>\n",
       "      <td>18.4</td>\n",
       "      <td>14.8</td>\n",
       "      <td>44.8</td>\n",
       "      <td>11.0</td>\n",
       "      <td>40.2</td>\n",
       "      <td>72432</td>\n",
       "      <td>124583</td>\n",
       "      <td>559888</td>\n",
       "      <td>72449</td>\n",
       "      <td>631636</td>\n",
       "      <td>56326</td>\n",
       "      <td>45344</td>\n",
       "      <td>137119</td>\n",
       "      <td>33300</td>\n",
       "      <td>121599</td>\n",
       "    </tr>\n",
       "    <tr>\n",
       "      <th>2007</th>\n",
       "      <td>23.8</td>\n",
       "      <td>41.4</td>\n",
       "      <td>179.3</td>\n",
       "      <td>22.8</td>\n",
       "      <td>196.1</td>\n",
       "      <td>16.8</td>\n",
       "      <td>14.9</td>\n",
       "      <td>43.5</td>\n",
       "      <td>11.3</td>\n",
       "      <td>40.4</td>\n",
       "      <td>74632</td>\n",
       "      <td>127924</td>\n",
       "      <td>562875</td>\n",
       "      <td>71382</td>\n",
       "      <td>616067</td>\n",
       "      <td>52717</td>\n",
       "      <td>46448</td>\n",
       "      <td>135952</td>\n",
       "      <td>34598</td>\n",
       "      <td>123706</td>\n",
       "    </tr>\n",
       "    <tr>\n",
       "      <th>2008</th>\n",
       "      <td>25.8</td>\n",
       "      <td>44.7</td>\n",
       "      <td>176.4</td>\n",
       "      <td>22.0</td>\n",
       "      <td>192.1</td>\n",
       "      <td>17.6</td>\n",
       "      <td>15.1</td>\n",
       "      <td>42.1</td>\n",
       "      <td>11.6</td>\n",
       "      <td>39.3</td>\n",
       "      <td>82435</td>\n",
       "      <td>141090</td>\n",
       "      <td>565469</td>\n",
       "      <td>70553</td>\n",
       "      <td>616828</td>\n",
       "      <td>56284</td>\n",
       "      <td>48237</td>\n",
       "      <td>134148</td>\n",
       "      <td>36035</td>\n",
       "      <td>121902</td>\n",
       "    </tr>\n",
       "    <tr>\n",
       "      <th>2009</th>\n",
       "      <td>24.2</td>\n",
       "      <td>42.7</td>\n",
       "      <td>173.5</td>\n",
       "      <td>21.1</td>\n",
       "      <td>182.8</td>\n",
       "      <td>16.5</td>\n",
       "      <td>15.1</td>\n",
       "      <td>39.6</td>\n",
       "      <td>11.8</td>\n",
       "      <td>37.5</td>\n",
       "      <td>79003</td>\n",
       "      <td>137353</td>\n",
       "      <td>567628</td>\n",
       "      <td>68705</td>\n",
       "      <td>599413</td>\n",
       "      <td>53692</td>\n",
       "      <td>48935</td>\n",
       "      <td>128842</td>\n",
       "      <td>36909</td>\n",
       "      <td>118021</td>\n",
       "    </tr>\n",
       "    <tr>\n",
       "      <th>2010</th>\n",
       "      <td>25.1</td>\n",
       "      <td>42.2</td>\n",
       "      <td>172.8</td>\n",
       "      <td>20.8</td>\n",
       "      <td>179.1</td>\n",
       "      <td>15.1</td>\n",
       "      <td>15.3</td>\n",
       "      <td>39.1</td>\n",
       "      <td>12.1</td>\n",
       "      <td>38.0</td>\n",
       "      <td>83494</td>\n",
       "      <td>138080</td>\n",
       "      <td>574743</td>\n",
       "      <td>69071</td>\n",
       "      <td>597689</td>\n",
       "      <td>50097</td>\n",
       "      <td>50476</td>\n",
       "      <td>129476</td>\n",
       "      <td>38364</td>\n",
       "      <td>120859</td>\n",
       "    </tr>\n",
       "    <tr>\n",
       "      <th>2011</th>\n",
       "      <td>24.7</td>\n",
       "      <td>42.5</td>\n",
       "      <td>169.0</td>\n",
       "      <td>21.7</td>\n",
       "      <td>173.7</td>\n",
       "      <td>15.7</td>\n",
       "      <td>13.4</td>\n",
       "      <td>37.9</td>\n",
       "      <td>12.3</td>\n",
       "      <td>39.1</td>\n",
       "      <td>84974</td>\n",
       "      <td>142943</td>\n",
       "      <td>576691</td>\n",
       "      <td>73831</td>\n",
       "      <td>596577</td>\n",
       "      <td>53826</td>\n",
       "      <td>45591</td>\n",
       "      <td>128932</td>\n",
       "      <td>39518</td>\n",
       "      <td>126438</td>\n",
       "    </tr>\n",
       "    <tr>\n",
       "      <th>2012</th>\n",
       "      <td>23.8</td>\n",
       "      <td>41.5</td>\n",
       "      <td>166.5</td>\n",
       "      <td>21.2</td>\n",
       "      <td>170.5</td>\n",
       "      <td>14.5</td>\n",
       "      <td>13.1</td>\n",
       "      <td>36.9</td>\n",
       "      <td>12.6</td>\n",
       "      <td>39.1</td>\n",
       "      <td>83637</td>\n",
       "      <td>143489</td>\n",
       "      <td>582623</td>\n",
       "      <td>73932</td>\n",
       "      <td>599711</td>\n",
       "      <td>50636</td>\n",
       "      <td>45622</td>\n",
       "      <td>128546</td>\n",
       "      <td>40600</td>\n",
       "      <td>127792</td>\n",
       "    </tr>\n",
       "    <tr>\n",
       "      <th>2013</th>\n",
       "      <td>23.5</td>\n",
       "      <td>42.1</td>\n",
       "      <td>163.2</td>\n",
       "      <td>21.2</td>\n",
       "      <td>169.8</td>\n",
       "      <td>15.9</td>\n",
       "      <td>13.2</td>\n",
       "      <td>36.2</td>\n",
       "      <td>12.6</td>\n",
       "      <td>39.4</td>\n",
       "      <td>84767</td>\n",
       "      <td>149205</td>\n",
       "      <td>584881</td>\n",
       "      <td>75578</td>\n",
       "      <td>611105</td>\n",
       "      <td>56979</td>\n",
       "      <td>47112</td>\n",
       "      <td>128978</td>\n",
       "      <td>41149</td>\n",
       "      <td>130557</td>\n",
       "    </tr>\n",
       "    <tr>\n",
       "      <th>2014</th>\n",
       "      <td>25.4</td>\n",
       "      <td>40.5</td>\n",
       "      <td>161.2</td>\n",
       "      <td>20.9</td>\n",
       "      <td>167.0</td>\n",
       "      <td>15.1</td>\n",
       "      <td>13.2</td>\n",
       "      <td>36.5</td>\n",
       "      <td>13.0</td>\n",
       "      <td>40.5</td>\n",
       "      <td>93541</td>\n",
       "      <td>147101</td>\n",
       "      <td>591700</td>\n",
       "      <td>76488</td>\n",
       "      <td>614348</td>\n",
       "      <td>55227</td>\n",
       "      <td>48146</td>\n",
       "      <td>133103</td>\n",
       "      <td>42826</td>\n",
       "      <td>135928</td>\n",
       "    </tr>\n",
       "    <tr>\n",
       "      <th>2015</th>\n",
       "      <td>29.4</td>\n",
       "      <td>41.6</td>\n",
       "      <td>158.5</td>\n",
       "      <td>21.3</td>\n",
       "      <td>168.5</td>\n",
       "      <td>15.2</td>\n",
       "      <td>13.4</td>\n",
       "      <td>37.6</td>\n",
       "      <td>13.3</td>\n",
       "      <td>43.2</td>\n",
       "      <td>110561</td>\n",
       "      <td>155041</td>\n",
       "      <td>595930</td>\n",
       "      <td>79535</td>\n",
       "      <td>633842</td>\n",
       "      <td>57062</td>\n",
       "      <td>49959</td>\n",
       "      <td>140323</td>\n",
       "      <td>44193</td>\n",
       "      <td>146571</td>\n",
       "    </tr>\n",
       "    <tr>\n",
       "      <th>2016</th>\n",
       "      <td>30.3</td>\n",
       "      <td>40.6</td>\n",
       "      <td>155.8</td>\n",
       "      <td>21.0</td>\n",
       "      <td>165.5</td>\n",
       "      <td>13.5</td>\n",
       "      <td>13.1</td>\n",
       "      <td>37.3</td>\n",
       "      <td>13.5</td>\n",
       "      <td>47.4</td>\n",
       "      <td>116103</td>\n",
       "      <td>154596</td>\n",
       "      <td>598038</td>\n",
       "      <td>80058</td>\n",
       "      <td>635260</td>\n",
       "      <td>51537</td>\n",
       "      <td>50046</td>\n",
       "      <td>142142</td>\n",
       "      <td>44965</td>\n",
       "      <td>161374</td>\n",
       "    </tr>\n",
       "  </tbody>\n",
       "</table>\n",
       "</div>"
      ],
      "text/plain": [
       "           Age-adjusted Death Rate                                      \\\n",
       "Cause Name     Alzheimer's disease  CLRD Cancer Diabetes Heart disease   \n",
       "Year                                                                     \n",
       "1999                          16.5  45.4  200.8     25.0         266.5   \n",
       "2000                          18.1  44.2  199.6     25.1         257.6   \n",
       "2001                          19.3  43.9  196.5     25.4         249.5   \n",
       "2002                          20.8  43.9  194.3     25.6         244.6   \n",
       "2003                          22.1  43.7  190.9     25.5         236.3   \n",
       "2004                          22.6  41.6  186.8     24.8         221.6   \n",
       "2005                          24.0  43.9  185.1     24.9         216.8   \n",
       "2006                          23.7  41.0  181.8     23.6         205.5   \n",
       "2007                          23.8  41.4  179.3     22.8         196.1   \n",
       "2008                          25.8  44.7  176.4     22.0         192.1   \n",
       "2009                          24.2  42.7  173.5     21.1         182.8   \n",
       "2010                          25.1  42.2  172.8     20.8         179.1   \n",
       "2011                          24.7  42.5  169.0     21.7         173.7   \n",
       "2012                          23.8  41.5  166.5     21.2         170.5   \n",
       "2013                          23.5  42.1  163.2     21.2         169.8   \n",
       "2014                          25.4  40.5  161.2     20.9         167.0   \n",
       "2015                          29.4  41.6  158.5     21.3         168.5   \n",
       "2016                          30.3  40.6  155.8     21.0         165.5   \n",
       "\n",
       "                                                                  \\\n",
       "Cause Name Influenza and pneumonia Kidney disease Stroke Suicide   \n",
       "Year                                                               \n",
       "1999                          23.5           13.0   61.6    10.5   \n",
       "2000                          23.7           13.5   60.9    10.4   \n",
       "2001                          22.2           14.1   58.4    10.7   \n",
       "2002                          23.2           14.4   57.2    11.0   \n",
       "2003                          22.6           14.7   54.6    10.8   \n",
       "2004                          20.4           14.5   51.2    11.0   \n",
       "2005                          21.0           14.7   48.0    10.9   \n",
       "2006                          18.4           14.8   44.8    11.0   \n",
       "2007                          16.8           14.9   43.5    11.3   \n",
       "2008                          17.6           15.1   42.1    11.6   \n",
       "2009                          16.5           15.1   39.6    11.8   \n",
       "2010                          15.1           15.3   39.1    12.1   \n",
       "2011                          15.7           13.4   37.9    12.3   \n",
       "2012                          14.5           13.1   36.9    12.6   \n",
       "2013                          15.9           13.2   36.2    12.6   \n",
       "2014                          15.1           13.2   36.5    13.0   \n",
       "2015                          15.2           13.4   37.6    13.3   \n",
       "2016                          13.5           13.1   37.3    13.5   \n",
       "\n",
       "                                               Deaths                  \\\n",
       "Cause Name Unintentional injuries Alzheimer's disease    CLRD  Cancer   \n",
       "Year                                                                    \n",
       "1999                         35.3               44536  124181  549838   \n",
       "2000                         34.9               49558  122009  553091   \n",
       "2001                         35.7               53852  123013  553768   \n",
       "2002                         37.1               58866  124816  557271   \n",
       "2003                         37.6               63457  126382  556902   \n",
       "2004                         38.1               65965  121987  553888   \n",
       "2005                         39.5               71599  130933  559312   \n",
       "2006                         40.2               72432  124583  559888   \n",
       "2007                         40.4               74632  127924  562875   \n",
       "2008                         39.3               82435  141090  565469   \n",
       "2009                         37.5               79003  137353  567628   \n",
       "2010                         38.0               83494  138080  574743   \n",
       "2011                         39.1               84974  142943  576691   \n",
       "2012                         39.1               83637  143489  582623   \n",
       "2013                         39.4               84767  149205  584881   \n",
       "2014                         40.5               93541  147101  591700   \n",
       "2015                         43.2              110561  155041  595930   \n",
       "2016                         47.4              116103  154596  598038   \n",
       "\n",
       "                                                                          \\\n",
       "Cause Name Diabetes Heart disease Influenza and pneumonia Kidney disease   \n",
       "Year                                                                       \n",
       "1999          68399        725192                   63730          35525   \n",
       "2000          69301        710760                   65313          37251   \n",
       "2001          71372        700142                   62034          39480   \n",
       "2002          73249        696947                   65681          40974   \n",
       "2003          74219        685089                   65163          42453   \n",
       "2004          73138        652486                   59664          42480   \n",
       "2005          75119        652091                   63001          43901   \n",
       "2006          72449        631636                   56326          45344   \n",
       "2007          71382        616067                   52717          46448   \n",
       "2008          70553        616828                   56284          48237   \n",
       "2009          68705        599413                   53692          48935   \n",
       "2010          69071        597689                   50097          50476   \n",
       "2011          73831        596577                   53826          45591   \n",
       "2012          73932        599711                   50636          45622   \n",
       "2013          75578        611105                   56979          47112   \n",
       "2014          76488        614348                   55227          48146   \n",
       "2015          79535        633842                   57062          49959   \n",
       "2016          80058        635260                   51537          50046   \n",
       "\n",
       "                                                   \n",
       "Cause Name  Stroke Suicide Unintentional injuries  \n",
       "Year                                               \n",
       "1999        167366   29199                  97860  \n",
       "2000        167661   29350                  97900  \n",
       "2001        163538   30622                 101537  \n",
       "2002        162672   31655                 106742  \n",
       "2003        157689   31484                 109277  \n",
       "2004        150074   32439                 112012  \n",
       "2005        143579   32637                 117809  \n",
       "2006        137119   33300                 121599  \n",
       "2007        135952   34598                 123706  \n",
       "2008        134148   36035                 121902  \n",
       "2009        128842   36909                 118021  \n",
       "2010        129476   38364                 120859  \n",
       "2011        128932   39518                 126438  \n",
       "2012        128546   40600                 127792  \n",
       "2013        128978   41149                 130557  \n",
       "2014        133103   42826                 135928  \n",
       "2015        140323   44193                 146571  \n",
       "2016        142142   44965                 161374  "
      ]
     },
     "execution_count": 58,
     "metadata": {},
     "output_type": "execute_result"
    }
   ],
   "source": [
    "print(data[\"State\"].unique())\n",
    "state = input(\"Pick a state from the list: \")\n",
    "\n",
    "# Get the data for the specific state\n",
    "data_state = data.loc[data[\"Cause Name\"] != \"All causes\"]\n",
    "data_state = data_state.loc[data_state[\"State\"] == state]\n",
    "print(data_state.shape)\n",
    "data_state.head()\n",
    "\n",
    "data_state_group = data_state.groupby(['Year', 'Cause Name']).sum()\n",
    "data_state_group = data_state_group.sort_values(['Year'], ascending=[True])\n",
    "data_state_group = data_state_group.reset_index()\n",
    "table_state = data_state_group.pivot_table(data_state_group, index=['Year'], columns=['Cause Name'])\n",
    "table_state"
   ]
  },
  {
   "cell_type": "code",
   "execution_count": 60,
   "metadata": {},
   "outputs": [
    {
     "data": {
      "image/png": "[encoded data removed]",
      "text/plain": [
       "<Figure size 432x288 with 1 Axes>"
      ]
     },
     "metadata": {},
     "output_type": "display_data"
    }
   ],
   "source": [
    "fig, bx = plt.subplots()\n",
    "\n",
    "# CLDR is Chronic Lower Respiratoy Disease\n",
    "\n",
    "bx.errorbar(table_state.index, table_state[\"Age-adjusted Death Rate\"]['CLRD'], fmt=\"--o\", color=\"r\",\n",
    "            alpha=1, label=\"CLRD\")\n",
    "bx.errorbar(table_state.index, table_state[\"Age-adjusted Death Rate\"]['Heart disease'], fmt=\"--^\", color=\"b\",\n",
    "            alpha=1, label=\"Heart disease\")\n",
    "bx.errorbar(table_state.index, table_state[\"Age-adjusted Death Rate\"]['Cancer'], fmt=\"--s\", color=\"g\",\n",
    "            alpha=1, label=\"Cancer\")\n",
    "bx.errorbar(table_state.index, table_state[\"Age-adjusted Death Rate\"]['Stroke'], fmt=\"--d\", color=\"k\",\n",
    "            alpha=1, label=\"Stroke\")\n",
    "\n",
    "\n",
    "bx.set_title(f\"Leading Causes of death in {state}\")\n",
    "bx.set_xlabel(\"Year\")\n",
    "bx.set_ylabel(f\"Age-adjusted Death Rate in {state}\")\n",
    "bx.grid(linestyle='-', linewidth='0.5')\n",
    "\n",
    "plt.legend(loc=\"best\", fontsize=\"small\", fancybox=True)\n",
    "\n",
    "plt.savefig(f'Charts/Leading causes of deaths in {state}')\n",
    "\n",
    "plt.show()"
   ]
  },
  {
   "cell_type": "code",
   "execution_count": 61,
   "metadata": {},
   "outputs": [
    {
     "data": {
      "image/png": "[encoded data removed]",
      "text/plain": [
       "<Figure size 432x288 with 1 Axes>"
      ]
     },
     "metadata": {},
     "output_type": "display_data"
    }
   ],
   "source": [
    "fig, ax = plt.subplots()\n",
    "\n",
    "ax.errorbar(table_state.index, table_state[\"Age-adjusted Death Rate\"]['Alzheimer\\'s disease'], fmt=\"--o\", color=\"r\",\n",
    "            alpha=1, label=\"Alzheimer's disease\")\n",
    "ax.errorbar(table_state.index, table_state[\"Age-adjusted Death Rate\"]['Suicide'], fmt=\"--^\", color=\"b\",\n",
    "            alpha=1, label=\"Suicide\")\n",
    "ax.errorbar(table_state.index, table_state[\"Age-adjusted Death Rate\"]['Unintentional injuries'], fmt=\"--s\", color=\"g\",\n",
    "            alpha=1, label=\"Unintentional injuries\")\n",
    "ax.errorbar(table_state.index, table_state[\"Age-adjusted Death Rate\"]['Kidney disease'], fmt=\"--d\", color=\"k\",\n",
    "            alpha=1, label=\"Kidney disease\")\n",
    "\n",
    "\n",
    "ax.set_title(f\"Increasing Causes of death in {state}\")\n",
    "ax.set_xlabel(\"Year\")\n",
    "ax.set_ylabel(f\"Age-adjusted Death Rate in {state}\")\n",
    "ax.grid(linestyle='-', linewidth='0.5')\n",
    "\n",
    "plt.legend(loc=\"best\", fontsize=\"small\", fancybox=True)\n",
    "\n",
    "plt.savefig(f'Charts/Increasing Causes of deaths  in {state}')\n",
    "\n",
    "plt.show()"
   ]
  },
  {
   "cell_type": "code",
   "execution_count": 62,
   "metadata": {},
   "outputs": [
    {
     "data": {
      "text/html": [
       "<div>\n",
       "<style scoped>\n",
       "    .dataframe tbody tr th:only-of-type {\n",
       "        vertical-align: middle;\n",
       "    }\n",
       "\n",
       "    .dataframe tbody tr th {\n",
       "        vertical-align: top;\n",
       "    }\n",
       "\n",
       "    .dataframe thead th {\n",
       "        text-align: right;\n",
       "    }\n",
       "</style>\n",
       "<table border=\"1\" class=\"dataframe\">\n",
       "  <thead>\n",
       "    <tr style=\"text-align: right;\">\n",
       "      <th></th>\n",
       "      <th>Location</th>\n",
       "      <th>2008__Employer</th>\n",
       "      <th>2008__Non-Group</th>\n",
       "      <th>2008__Medicaid</th>\n",
       "      <th>2008__Medicare</th>\n",
       "      <th>2008__Other Public</th>\n",
       "      <th>2008__Uninsured</th>\n",
       "      <th>2008__Total</th>\n",
       "      <th>2009__Employer</th>\n",
       "      <th>2009__Non-Group</th>\n",
       "      <th>...</th>\n",
       "      <th>2016__Other Public</th>\n",
       "      <th>2016__Uninsured</th>\n",
       "      <th>2016__Total</th>\n",
       "      <th>2017__Employer</th>\n",
       "      <th>2017__Non-Group</th>\n",
       "      <th>2017__Medicaid</th>\n",
       "      <th>2017__Medicare</th>\n",
       "      <th>2017__Other Public</th>\n",
       "      <th>2017__Uninsured</th>\n",
       "      <th>2017__Total</th>\n",
       "    </tr>\n",
       "  </thead>\n",
       "  <tbody>\n",
       "    <tr>\n",
       "      <th>0</th>\n",
       "      <td>United States</td>\n",
       "      <td>0.535</td>\n",
       "      <td>0.057</td>\n",
       "      <td>0.134</td>\n",
       "      <td>0.109</td>\n",
       "      <td>0.014</td>\n",
       "      <td>0.152</td>\n",
       "      <td>1</td>\n",
       "      <td>0.507</td>\n",
       "      <td>0.054</td>\n",
       "      <td>...</td>\n",
       "      <td>0.015</td>\n",
       "      <td>0.086</td>\n",
       "      <td>1</td>\n",
       "      <td>0.493</td>\n",
       "      <td>0.065</td>\n",
       "      <td>0.206</td>\n",
       "      <td>0.135</td>\n",
       "      <td>0.014</td>\n",
       "      <td>0.088</td>\n",
       "      <td>1</td>\n",
       "    </tr>\n",
       "    <tr>\n",
       "      <th>1</th>\n",
       "      <td>Alabama</td>\n",
       "      <td>0.518</td>\n",
       "      <td>0.054</td>\n",
       "      <td>0.143</td>\n",
       "      <td>0.128</td>\n",
       "      <td>0.017</td>\n",
       "      <td>0.140</td>\n",
       "      <td>1</td>\n",
       "      <td>0.488</td>\n",
       "      <td>0.049</td>\n",
       "      <td>...</td>\n",
       "      <td>0.020</td>\n",
       "      <td>0.092</td>\n",
       "      <td>1</td>\n",
       "      <td>0.460</td>\n",
       "      <td>0.062</td>\n",
       "      <td>0.206</td>\n",
       "      <td>0.157</td>\n",
       "      <td>0.020</td>\n",
       "      <td>0.095</td>\n",
       "      <td>1</td>\n",
       "    </tr>\n",
       "    <tr>\n",
       "      <th>2</th>\n",
       "      <td>Alaska</td>\n",
       "      <td>0.518</td>\n",
       "      <td>0.036</td>\n",
       "      <td>0.114</td>\n",
       "      <td>0.059</td>\n",
       "      <td>0.066</td>\n",
       "      <td>0.208</td>\n",
       "      <td>1</td>\n",
       "      <td>0.491</td>\n",
       "      <td>0.039</td>\n",
       "      <td>...</td>\n",
       "      <td>0.067</td>\n",
       "      <td>0.145</td>\n",
       "      <td>1</td>\n",
       "      <td>0.452</td>\n",
       "      <td>0.032</td>\n",
       "      <td>0.220</td>\n",
       "      <td>0.089</td>\n",
       "      <td>0.068</td>\n",
       "      <td>0.139</td>\n",
       "      <td>1</td>\n",
       "    </tr>\n",
       "    <tr>\n",
       "      <th>3</th>\n",
       "      <td>Arizona</td>\n",
       "      <td>0.464</td>\n",
       "      <td>0.061</td>\n",
       "      <td>0.153</td>\n",
       "      <td>0.118</td>\n",
       "      <td>0.016</td>\n",
       "      <td>0.187</td>\n",
       "      <td>1</td>\n",
       "      <td>0.442</td>\n",
       "      <td>0.056</td>\n",
       "      <td>...</td>\n",
       "      <td>0.016</td>\n",
       "      <td>0.100</td>\n",
       "      <td>1</td>\n",
       "      <td>0.449</td>\n",
       "      <td>0.058</td>\n",
       "      <td>0.223</td>\n",
       "      <td>0.153</td>\n",
       "      <td>0.016</td>\n",
       "      <td>0.100</td>\n",
       "      <td>1</td>\n",
       "    </tr>\n",
       "    <tr>\n",
       "      <th>4</th>\n",
       "      <td>Arkansas</td>\n",
       "      <td>0.437</td>\n",
       "      <td>0.054</td>\n",
       "      <td>0.179</td>\n",
       "      <td>0.135</td>\n",
       "      <td>0.016</td>\n",
       "      <td>0.179</td>\n",
       "      <td>1</td>\n",
       "      <td>0.426</td>\n",
       "      <td>0.049</td>\n",
       "      <td>...</td>\n",
       "      <td>0.016</td>\n",
       "      <td>0.080</td>\n",
       "      <td>1</td>\n",
       "      <td>0.415</td>\n",
       "      <td>0.063</td>\n",
       "      <td>0.270</td>\n",
       "      <td>0.155</td>\n",
       "      <td>0.017</td>\n",
       "      <td>0.080</td>\n",
       "      <td>1</td>\n",
       "    </tr>\n",
       "  </tbody>\n",
       "</table>\n",
       "<p>5 rows × 71 columns</p>\n",
       "</div>"
      ],
      "text/plain": [
       "        Location  2008__Employer  2008__Non-Group  2008__Medicaid  \\\n",
       "0  United States           0.535            0.057           0.134   \n",
       "1        Alabama           0.518            0.054           0.143   \n",
       "2         Alaska           0.518            0.036           0.114   \n",
       "3        Arizona           0.464            0.061           0.153   \n",
       "4       Arkansas           0.437            0.054           0.179   \n",
       "\n",
       "   2008__Medicare  2008__Other Public  2008__Uninsured  2008__Total  \\\n",
       "0           0.109               0.014            0.152            1   \n",
       "1           0.128               0.017            0.140            1   \n",
       "2           0.059               0.066            0.208            1   \n",
       "3           0.118               0.016            0.187            1   \n",
       "4           0.135               0.016            0.179            1   \n",
       "\n",
       "   2009__Employer  2009__Non-Group  ...  2016__Other Public  2016__Uninsured  \\\n",
       "0           0.507            0.054  ...               0.015            0.086   \n",
       "1           0.488            0.049  ...               0.020            0.092   \n",
       "2           0.491            0.039  ...               0.067            0.145   \n",
       "3           0.442            0.056  ...               0.016            0.100   \n",
       "4           0.426            0.049  ...               0.016            0.080   \n",
       "\n",
       "   2016__Total  2017__Employer  2017__Non-Group  2017__Medicaid  \\\n",
       "0            1           0.493            0.065           0.206   \n",
       "1            1           0.460            0.062           0.206   \n",
       "2            1           0.452            0.032           0.220   \n",
       "3            1           0.449            0.058           0.223   \n",
       "4            1           0.415            0.063           0.270   \n",
       "\n",
       "   2017__Medicare  2017__Other Public  2017__Uninsured  2017__Total  \n",
       "0           0.135               0.014            0.088            1  \n",
       "1           0.157               0.020            0.095            1  \n",
       "2           0.089               0.068            0.139            1  \n",
       "3           0.153               0.016            0.100            1  \n",
       "4           0.155               0.017            0.080            1  \n",
       "\n",
       "[5 rows x 71 columns]"
      ]
     },
     "execution_count": 62,
     "metadata": {},
     "output_type": "execute_result"
    }
   ],
   "source": [
    "data_insurance.drop('Footnotes', axis=1, inplace = True)\n",
    "data_insurance.head()"
   ]
  },
  {
   "cell_type": "code",
   "execution_count": 63,
   "metadata": {},
   "outputs": [
    {
     "data": {
      "text/html": [
       "<div>\n",
       "<style scoped>\n",
       "    .dataframe tbody tr th:only-of-type {\n",
       "        vertical-align: middle;\n",
       "    }\n",
       "\n",
       "    .dataframe tbody tr th {\n",
       "        vertical-align: top;\n",
       "    }\n",
       "\n",
       "    .dataframe thead th {\n",
       "        text-align: right;\n",
       "    }\n",
       "</style>\n",
       "<table border=\"1\" class=\"dataframe\">\n",
       "  <thead>\n",
       "    <tr style=\"text-align: right;\">\n",
       "      <th></th>\n",
       "      <th>Cancer</th>\n",
       "      <th>Heart disease</th>\n",
       "      <th>% Unisured</th>\n",
       "    </tr>\n",
       "    <tr>\n",
       "      <th>Year</th>\n",
       "      <th></th>\n",
       "      <th></th>\n",
       "      <th></th>\n",
       "    </tr>\n",
       "  </thead>\n",
       "  <tbody>\n",
       "    <tr>\n",
       "      <th>2008</th>\n",
       "      <td>176.4</td>\n",
       "      <td>192.1</td>\n",
       "      <td>0.152</td>\n",
       "    </tr>\n",
       "    <tr>\n",
       "      <th>2009</th>\n",
       "      <td>173.5</td>\n",
       "      <td>182.8</td>\n",
       "      <td>0.152</td>\n",
       "    </tr>\n",
       "    <tr>\n",
       "      <th>2010</th>\n",
       "      <td>172.8</td>\n",
       "      <td>179.1</td>\n",
       "      <td>0.156</td>\n",
       "    </tr>\n",
       "    <tr>\n",
       "      <th>2011</th>\n",
       "      <td>169.0</td>\n",
       "      <td>173.7</td>\n",
       "      <td>0.152</td>\n",
       "    </tr>\n",
       "    <tr>\n",
       "      <th>2012</th>\n",
       "      <td>166.5</td>\n",
       "      <td>170.5</td>\n",
       "      <td>0.148</td>\n",
       "    </tr>\n",
       "    <tr>\n",
       "      <th>2013</th>\n",
       "      <td>163.2</td>\n",
       "      <td>169.8</td>\n",
       "      <td>0.146</td>\n",
       "    </tr>\n",
       "    <tr>\n",
       "      <th>2014</th>\n",
       "      <td>161.2</td>\n",
       "      <td>167.0</td>\n",
       "      <td>0.117</td>\n",
       "    </tr>\n",
       "    <tr>\n",
       "      <th>2015</th>\n",
       "      <td>158.5</td>\n",
       "      <td>168.5</td>\n",
       "      <td>0.094</td>\n",
       "    </tr>\n",
       "    <tr>\n",
       "      <th>2016</th>\n",
       "      <td>155.8</td>\n",
       "      <td>165.5</td>\n",
       "      <td>0.086</td>\n",
       "    </tr>\n",
       "  </tbody>\n",
       "</table>\n",
       "</div>"
      ],
      "text/plain": [
       "      Cancer  Heart disease  % Unisured\n",
       "Year                                   \n",
       "2008   176.4          192.1       0.152\n",
       "2009   173.5          182.8       0.152\n",
       "2010   172.8          179.1       0.156\n",
       "2011   169.0          173.7       0.152\n",
       "2012   166.5          170.5       0.148\n",
       "2013   163.2          169.8       0.146\n",
       "2014   161.2          167.0       0.117\n",
       "2015   158.5          168.5       0.094\n",
       "2016   155.8          165.5       0.086"
      ]
     },
     "execution_count": 63,
     "metadata": {},
     "output_type": "execute_result"
    }
   ],
   "source": [
    "# get the type of insurance data you need\n",
    "\n",
    "col = ['Location']\n",
    "\n",
    "for year in range(2008,2017):\n",
    "    a = str(year)+\"__Uninsured\"\n",
    "    col.append(a)\n",
    "next\n",
    "\n",
    "\n",
    "\n",
    "# Cleaned data for a paricular type of insurance \n",
    "df_Uninsured = data_insurance[col]\n",
    "df_Uninsured.set_index('Location', inplace=True)\n",
    "df_Uninsured.columns = ['2008', '2009', '2010', '2011', '2012', '2013', '2014', '2015', '2016']\n",
    "\n",
    "state_uninsured = df_Uninsured.loc[state]\n",
    "state_uninsured\n",
    "df_state_uninsured = pd.DataFrame(data = {'% Unisured': state_uninsured})\n",
    "df_state_causes = pd.DataFrame({'Cancer': table_state[\"Age-adjusted Death Rate\"]['Cancer'][9:],\n",
    "                                         'Heart disease': table_state[\"Age-adjusted Death Rate\"]['Heart disease'][9:]})\n",
    "df_state_causes = df_state_causes.reset_index()\n",
    "df_state_uninsured = df_state_uninsured.reset_index()\n",
    "df_state_causes['% Unisured'] = pd.Series(df_state_uninsured['% Unisured'])\n",
    "df_state_causes.set_index('Year', inplace=True)\n",
    "df_state_causes"
   ]
  },
  {
   "cell_type": "code",
   "execution_count": 64,
   "metadata": {},
   "outputs": [
    {
     "data": {
      "image/png": "[encoded data removed]",
      "text/plain": [
       "<Figure size 432x288 with 2 Axes>"
      ]
     },
     "metadata": {},
     "output_type": "display_data"
    }
   ],
   "source": [
    "fig, cx1 = plt.subplots()\n",
    "\n",
    "cx2 = cx1.twinx()\n",
    "cx1.errorbar(df_state_causes.index, df_state_causes[\"% Unisured\"], fmt=\"--o\", color=\"g\",\n",
    "            alpha=1, label=\"% Unisured\")\n",
    "cx2.errorbar(df_state_causes.index, df_state_causes[\"Heart disease\"], fmt=\"--^\", color=\"b\",\n",
    "            alpha=1, label=\"Heart disease\")\n",
    "cx2.errorbar(df_state_causes.index, df_state_causes[\"Cancer\"], fmt=\"--d\", color=\"k\",\n",
    "            alpha=1, label=\"Cancer\")\n",
    "\n",
    "cx1.set_xlabel('Year')\n",
    "cx1.set_ylabel(f'% Unisured in {state}', color='g')\n",
    "cx2.set_ylabel(f\"Age-adjusted Death Rate in {state}\", color='b')\n",
    "\n",
    "\n",
    "\n",
    "cx1.set_title(f\"Leading Causes of death in {state} compared to % Unisured\")\n",
    "cx1.grid(linestyle='-', linewidth='0.5')\n",
    "\n",
    "plt.legend(loc=\"best\", fontsize=\"small\", fancybox=True)\n",
    "\n",
    "# Save fig\n",
    "plt.savefig(f'Charts/Leading Causes of death in {state} compared to % Unisured')\n",
    "\n",
    "plt.show()"
   ]
  },
  {
   "cell_type": "code",
   "execution_count": 67,
   "metadata": {},
   "outputs": [
    {
     "name": "stdout",
     "output_type": "stream",
     "text": [
      "[\"Alzheimer's disease\", 'CLRD', 'Cancer', 'Diabetes', 'Heart disease', 'Influenza and pneumonia', 'Kidney disease', 'Stroke', 'Suicide', 'Unintentional injuries'] [4.5, -4.1, -20.6, -1.0, -26.6, -4.1, -2.0, -4.8, 1.9, 8.1] [30.3, 40.6, 155.8, 21.0, 165.5, 13.5, 13.1, 37.3, 13.5, 47.4]\n"
     ]
    }
   ],
   "source": [
    "x = table_state[\"Age-adjusted Death Rate\"].columns\n",
    "diseases_ = []\n",
    "change = []\n",
    "deaths_2016 = []\n",
    "for i in x:\n",
    "    y = table_state[\"Age-adjusted Death Rate\"][i][2016] - table_state[\"Age-adjusted Death Rate\"][i][2008]\n",
    "    y = round(y, 2)\n",
    "    z = table_state[\"Age-adjusted Death Rate\"][i][2016]\n",
    "    z = round(z, 2)\n",
    "    diseases_.append(i)\n",
    "    change.append(y)\n",
    "    deaths_2016.append(z)\n",
    "\n",
    "print(diseases_, change, deaths_2016)"
   ]
  },
  {
   "cell_type": "code",
   "execution_count": 68,
   "metadata": {},
   "outputs": [
    {
     "data": {
      "image/png": "[encoded data removed]",
      "text/plain": [
       "<Figure size 432x288 with 1 Axes>"
      ]
     },
     "metadata": {},
     "output_type": "display_data"
    }
   ],
   "source": [
    "# Change in age adjusted death rate in US from 2008 to 2016\n",
    "plt.style.use('ggplot')\n",
    "\n",
    "x_pos = [i for i, _ in enumerate(diseases_)]\n",
    "\n",
    "plt.bar(x_pos, change, color=['r', 'g', 'g', 'g', 'g', 'g', 'g','g', 'r'])\n",
    "plt.xlabel(f\"Leading Causes of Death in {state}\")\n",
    "plt.ylabel(f'Change in Age-Adjusted Rate \\n in {state}')\n",
    "plt.title(f'Change in Leading Causes of \\n death in {state} (2008-2016)')\n",
    "\n",
    "plt.xticks(x_pos, x, rotation=55, horizontalalignment=\"right\")\n",
    "\n",
    "plt.savefig(f'Charts/Change in Leading Causes of death in {state}')\n",
    "plt.show()"
   ]
  },
  {
   "cell_type": "code",
   "execution_count": 70,
   "metadata": {},
   "outputs": [
    {
     "data": {
      "image/png": "[encoded data removed]",
      "text/plain": [
       "<Figure size 432x288 with 1 Axes>"
      ]
     },
     "metadata": {},
     "output_type": "display_data"
    }
   ],
   "source": [
    "# Age Adjusted Death rate in 2016 in US\n",
    "plt.style.use('ggplot')\n",
    "\n",
    "x_pos = [i for i, _ in enumerate(deaths_2016)]\n",
    "\n",
    "plt.bar(x_pos, deaths_2016, color=['black', 'green', 'blue', 'cyan', 'red', 'yellow', 'white','magenta'])\n",
    "plt.xlabel(f\"Leading Causes of Death in {state}\")\n",
    "plt.ylabel(f'Age-Adjusted Rate in {state}')\n",
    "plt.title(f'Leading Causes of death in {state} (2016)')\n",
    "\n",
    "plt.xticks(x_pos, x, rotation=55, horizontalalignment=\"right\")\n",
    "\n",
    "plt.savefig(f'Charts/Leading Causes of death in {state} (2016)')\n",
    "plt.show()"
   ]
  },
  {
   "cell_type": "markdown",
   "metadata": {},
   "source": [
    "## Distribution of Deaths for Each state by leading cause - \n",
    "### The plot below shows each state and on hovering over it, shows the leading cause and the proportion \n",
    "### of deaths for that Leading cause, as show by the colored bar.\n",
    "#### For example, Leading cause of death in NY is Heart Disease, which consitutes 18.31% of total deaths for the state."
   ]
  },
  {
   "cell_type": "code",
   "execution_count": null,
   "metadata": {},
   "outputs": [],
   "source": [
    "fig1 = go.Figure(data=go.Choropleth(\n",
    "    locations=df_state_total_deaths['code'], # Spatial coordinates\n",
    "    z = df_state_total_deaths['Leading Cause Proportion'], # Data to be color-coded\n",
    "    locationmode = 'USA-states', # set of locations match entries in `locations`\n",
    "    colorscale = 'Blues',\n",
    "    colorbar_title = \"Percent\",\n",
    "    text = df_state_total_deaths['Leading cause of death'] \n",
    "))\n",
    "\n",
    "fig1.update_layout(\n",
    "    title_text = 'Proportion of Leading cause of Death for Each State',\n",
    "    geo_scope='usa', # limited map scope to USA\n",
    ")\n",
    "fig1.show()"
   ]
  },
  {
   "cell_type": "code",
   "execution_count": null,
   "metadata": {},
   "outputs": [],
   "source": [
    "# Line charts for each cause\n",
    "# Create datapoints to hold the progression of Leading Causes over time\n",
    "# Sort all vaules by year, and then Deats for each leading cause for that year\n",
    "\n",
    "year_deaths_data = death_data_state\n",
    "y = year_deaths_data.groupby(['Year','Cause Name'])['Deaths'].sum()\n",
    "m = pd.DataFrame(y)\n",
    "m = m.sort_values(by=['Year','Deaths'], ascending=False)\n",
    "m = m.reset_index(['Year','Cause Name'])\n",
    "m.head()"
   ]
  },
  {
   "cell_type": "markdown",
   "metadata": {},
   "source": [
    "## Plot the progression of Leading Causes over time.\n",
    "### The chart shows the proportion of each leading cause nationwide and progression over time."
   ]
  },
  {
   "cell_type": "code",
   "execution_count": null,
   "metadata": {},
   "outputs": [],
   "source": [
    "import plotly.express as px\n",
    "\n",
    "fig3 = px.area(m, x=\"Year\", y=\"Deaths\", color=\"Cause Name\", line_group=\"Cause Name\",title = 'Distribution of Leading Causes over Time')\n",
    "fig3.show()"
   ]
  },
  {
   "cell_type": "code",
   "execution_count": null,
   "metadata": {},
   "outputs": [],
   "source": []
  }
 ],
 "metadata": {
  "kernelspec": {
   "display_name": "Python 3 (ipykernel)",
   "language": "python",
   "name": "python3"
  },
  "language_info": {
   "codemirror_mode": {
    "name": "ipython",
    "version": 3
   },
   "file_extension": ".py",
   "mimetype": "text/x-python",
   "name": "python",
   "nbconvert_exporter": "python",
   "pygments_lexer": "ipython3",
   "version": "3.9.12"
  }
 },
 "nbformat": 4,
 "nbformat_minor": 2
}
